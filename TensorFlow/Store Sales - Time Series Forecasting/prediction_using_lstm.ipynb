{
  "metadata": {
    "kernelspec": {
      "language": "python",
      "display_name": "Python 3",
      "name": "python3"
    },
    "language_info": {
      "name": "python",
      "version": "3.7.10",
      "mimetype": "text/x-python",
      "codemirror_mode": {
        "name": "ipython",
        "version": 3
      },
      "pygments_lexer": "ipython3",
      "nbconvert_exporter": "python",
      "file_extension": ".py"
    },
    "colab": {
      "provenance": [],
      "collapsed_sections": [
        "HcziNJV8iqlq"
      ]
    },
    "accelerator": "GPU",
    "gpuClass": "standard"
  },
  "nbformat_minor": 0,
  "nbformat": 4,
  "cells": [
    {
      "cell_type": "code",
      "source": [
        "# This Python 3 environment comes with many helpful analytics libraries installed\n",
        "# It is defined by the kaggle/python Docker image: https://github.com/kaggle/docker-python\n",
        "# For example, here's several helpful packages to load\n",
        "\n",
        "import numpy as np # linear algebra\n",
        "import pandas as pd # data processing, CSV file I/O (e.g. pd.read_csv)\n",
        "\n",
        "# Input data files are available in the read-only \"../input/\" directory\n",
        "# For example, running this (by clicking run or pressing Shift+Enter) will list all files under the input directory\n",
        "\n",
        "import os\n",
        "for dirname, _, filenames in os.walk(''):\n",
        "    for filename in filenames:\n",
        "        print(os.path.join(dirname, filename))\n",
        "\n",
        "\n",
        "# You can write up to 20GB to the current directory (/kaggle/working/) that gets preserved as output when you create a version using \"Save & Run All\" \n",
        "# You can also write temporary files to /kaggle/temp/, but they won't be saved outside of the current session"
      ],
      "metadata": {
        "_uuid": "8f2839f25d086af736a60e9eeb907d3b93b6e0e5",
        "_cell_guid": "b1076dfc-b9ad-4769-8c92-a6c4dae69d19",
        "execution": {
          "iopub.status.busy": "2022-10-30T10:55:51.820737Z",
          "iopub.execute_input": "2022-10-30T10:55:51.821044Z",
          "iopub.status.idle": "2022-10-30T10:55:51.835015Z",
          "shell.execute_reply.started": "2022-10-30T10:55:51.820972Z",
          "shell.execute_reply": "2022-10-30T10:55:51.834195Z"
        },
        "trusted": true,
        "id": "kUkh69jfiqk8"
      },
      "execution_count": null,
      "outputs": []
    },
    {
      "cell_type": "code",
      "source": [
        "from google.colab import drive\n",
        "drive.mount('/content/drive/')"
      ],
      "metadata": {
        "colab": {
          "base_uri": "https://localhost:8080/"
        },
        "id": "4LQUUNutW7Yi",
        "outputId": "92afe901-f4c9-4b5b-abf5-b8e939ceffae"
      },
      "execution_count": 10,
      "outputs": [
        {
          "output_type": "stream",
          "name": "stdout",
          "text": [
            "Mounted at /content/drive/\n"
          ]
        }
      ]
    },
    {
      "cell_type": "code",
      "source": [
        "!wget https://drive.google.com/file/d/1u914hmhDJc8qFsAt3lkSKP72dAJIKmnb/view?usp=share_link"
      ],
      "metadata": {
        "colab": {
          "base_uri": "https://localhost:8080/"
        },
        "id": "qaV6lKW-iR9p",
        "outputId": "51d387b2-7c34-43a5-ba2f-39ca75311631"
      },
      "execution_count": 11,
      "outputs": [
        {
          "output_type": "stream",
          "name": "stdout",
          "text": [
            "--2022-10-31 04:49:24--  https://drive.google.com/file/d/1u914hmhDJc8qFsAt3lkSKP72dAJIKmnb/view?usp=share_link\n",
            "Resolving drive.google.com (drive.google.com)... 142.250.97.139, 142.250.97.100, 142.250.97.138, ...\n",
            "Connecting to drive.google.com (drive.google.com)|142.250.97.139|:443... connected.\n",
            "HTTP request sent, awaiting response... 200 OK\n",
            "Length: unspecified [text/html]\n",
            "Saving to: ‘view?usp=share_link’\n",
            "\n",
            "view?usp=share_link     [ <=>                ]  72.64K  --.-KB/s    in 0.001s  \n",
            "\n",
            "2022-10-31 04:49:24 (75.1 MB/s) - ‘view?usp=share_link’ saved [74379]\n",
            "\n"
          ]
        }
      ]
    },
    {
      "cell_type": "markdown",
      "source": [
        "## Librerias"
      ],
      "metadata": {
        "id": "WxbaTfyqiqk_"
      }
    },
    {
      "cell_type": "code",
      "source": [
        "import warnings\n",
        "warnings.filterwarnings(\"ignore\")\n",
        "# loading packages\n",
        "# basic + dates\n",
        "import numpy as np\n",
        "import math\n",
        "import pandas as pd\n",
        "from pandas import datetime\n",
        "\n",
        "# data visualization\n",
        "import matplotlib.pyplot as plt\n",
        "import seaborn as sns # advanced vizs\n",
        "from sklearn import preprocessing\n",
        "%matplotlib inline\n",
        "\n",
        "# statistics\n",
        "from statsmodels.distributions.empirical_distribution import ECDF\n",
        "# time series analysis\n",
        "from statsmodels.tsa.seasonal import seasonal_decompose\n",
        "from statsmodels.graphics.tsaplots import plot_acf, plot_pacf\n",
        "\n",
        "#modelo\n",
        "from xgboost import XGBRegressor\n",
        "from xgboost import plot_importance\n",
        "from sklearn.model_selection import train_test_split\n",
        "from sklearn.metrics import r2_score\n",
        "from sklearn import metrics\n",
        "from sklearn.metrics import mean_absolute_error\n",
        "from sklearn.metrics import mean_squared_error\n",
        "from sklearn.metrics import mean_squared_log_error"
      ],
      "metadata": {
        "execution": {
          "iopub.status.busy": "2022-10-30T10:55:53.527620Z",
          "iopub.execute_input": "2022-10-30T10:55:53.527880Z",
          "iopub.status.idle": "2022-10-30T10:55:53.876823Z",
          "shell.execute_reply.started": "2022-10-30T10:55:53.527858Z",
          "shell.execute_reply": "2022-10-30T10:55:53.876051Z"
        },
        "trusted": true,
        "id": "wGv-sD3xiqlC"
      },
      "execution_count": 22,
      "outputs": []
    },
    {
      "cell_type": "markdown",
      "source": [
        "## Load data"
      ],
      "metadata": {
        "id": "ltuX1NIXiqlE"
      }
    },
    {
      "cell_type": "code",
      "source": [
        "# importing train data to learn\n",
        "train = pd.read_csv(\"/content/drive/MyDrive/Colab Notebooks/train.csv\",\n",
        "parse_dates = True, low_memory = False, index_col = 'date')"
      ],
      "metadata": {
        "execution": {
          "iopub.status.busy": "2022-10-30T10:55:54.828963Z",
          "iopub.execute_input": "2022-10-30T10:55:54.829211Z",
          "iopub.status.idle": "2022-10-30T10:55:56.497052Z",
          "shell.execute_reply.started": "2022-10-30T10:55:54.829187Z",
          "shell.execute_reply": "2022-10-30T10:55:56.496053Z"
        },
        "trusted": true,
        "id": "c0p7Ar4ciqlN"
      },
      "execution_count": 116,
      "outputs": []
    },
    {
      "cell_type": "code",
      "source": [
        "# additional store data\n",
        "store = pd.read_csv('/content/drive/MyDrive/Colab Notebooks/stores.csv',\n",
        "low_memory = False)\n",
        "oil = pd.read_csv('/content/drive/MyDrive/Colab Notebooks/oil.csv',\n",
        "low_memory = False)\n",
        "#transactions = pd.read_csv('/content/transactions.csv',\n",
        "# low_memory = False)\n",
        "holiday = pd.read_csv('/content/drive/MyDrive/Colab Notebooks/holidays_events.csv',\n",
        "low_memory = False)\n"
      ],
      "metadata": {
        "execution": {
          "iopub.status.busy": "2022-10-30T10:55:58.202955Z",
          "iopub.execute_input": "2022-10-30T10:55:58.203227Z",
          "iopub.status.idle": "2022-10-30T10:55:58.218172Z",
          "shell.execute_reply.started": "2022-10-30T10:55:58.203191Z",
          "shell.execute_reply": "2022-10-30T10:55:58.217168Z"
        },
        "trusted": true,
        "id": "U0_OyTg6iqlN"
      },
      "execution_count": 14,
      "outputs": []
    },
    {
      "cell_type": "code",
      "source": [
        " train.head()"
      ],
      "metadata": {
        "execution": {
          "iopub.status.busy": "2022-10-30T10:56:00.001928Z",
          "iopub.execute_input": "2022-10-30T10:56:00.002169Z",
          "iopub.status.idle": "2022-10-30T10:56:00.018491Z",
          "shell.execute_reply.started": "2022-10-30T10:56:00.002146Z",
          "shell.execute_reply": "2022-10-30T10:56:00.017417Z"
        },
        "trusted": true,
        "id": "KAzojw8GiqlP",
        "outputId": "f6a0d0ff-3b86-4708-c904-e14788cbc794",
        "colab": {
          "base_uri": "https://localhost:8080/",
          "height": 238
        }
      },
      "execution_count": 117,
      "outputs": [
        {
          "output_type": "execute_result",
          "data": {
            "text/plain": [
              "            id  store_nbr      family  sales  onpromotion\n",
              "date                                                     \n",
              "2013-01-01   0          1  AUTOMOTIVE    0.0            0\n",
              "2013-01-01   1          1   BABY CARE    0.0            0\n",
              "2013-01-01   2          1      BEAUTY    0.0            0\n",
              "2013-01-01   3          1   BEVERAGES    0.0            0\n",
              "2013-01-01   4          1       BOOKS    0.0            0"
            ],
            "text/html": [
              "\n",
              "  <div id=\"df-50176ffd-681e-49db-9c4c-475e63618e78\">\n",
              "    <div class=\"colab-df-container\">\n",
              "      <div>\n",
              "<style scoped>\n",
              "    .dataframe tbody tr th:only-of-type {\n",
              "        vertical-align: middle;\n",
              "    }\n",
              "\n",
              "    .dataframe tbody tr th {\n",
              "        vertical-align: top;\n",
              "    }\n",
              "\n",
              "    .dataframe thead th {\n",
              "        text-align: right;\n",
              "    }\n",
              "</style>\n",
              "<table border=\"1\" class=\"dataframe\">\n",
              "  <thead>\n",
              "    <tr style=\"text-align: right;\">\n",
              "      <th></th>\n",
              "      <th>id</th>\n",
              "      <th>store_nbr</th>\n",
              "      <th>family</th>\n",
              "      <th>sales</th>\n",
              "      <th>onpromotion</th>\n",
              "    </tr>\n",
              "    <tr>\n",
              "      <th>date</th>\n",
              "      <th></th>\n",
              "      <th></th>\n",
              "      <th></th>\n",
              "      <th></th>\n",
              "      <th></th>\n",
              "    </tr>\n",
              "  </thead>\n",
              "  <tbody>\n",
              "    <tr>\n",
              "      <th>2013-01-01</th>\n",
              "      <td>0</td>\n",
              "      <td>1</td>\n",
              "      <td>AUTOMOTIVE</td>\n",
              "      <td>0.0</td>\n",
              "      <td>0</td>\n",
              "    </tr>\n",
              "    <tr>\n",
              "      <th>2013-01-01</th>\n",
              "      <td>1</td>\n",
              "      <td>1</td>\n",
              "      <td>BABY CARE</td>\n",
              "      <td>0.0</td>\n",
              "      <td>0</td>\n",
              "    </tr>\n",
              "    <tr>\n",
              "      <th>2013-01-01</th>\n",
              "      <td>2</td>\n",
              "      <td>1</td>\n",
              "      <td>BEAUTY</td>\n",
              "      <td>0.0</td>\n",
              "      <td>0</td>\n",
              "    </tr>\n",
              "    <tr>\n",
              "      <th>2013-01-01</th>\n",
              "      <td>3</td>\n",
              "      <td>1</td>\n",
              "      <td>BEVERAGES</td>\n",
              "      <td>0.0</td>\n",
              "      <td>0</td>\n",
              "    </tr>\n",
              "    <tr>\n",
              "      <th>2013-01-01</th>\n",
              "      <td>4</td>\n",
              "      <td>1</td>\n",
              "      <td>BOOKS</td>\n",
              "      <td>0.0</td>\n",
              "      <td>0</td>\n",
              "    </tr>\n",
              "  </tbody>\n",
              "</table>\n",
              "</div>\n",
              "      <button class=\"colab-df-convert\" onclick=\"convertToInteractive('df-50176ffd-681e-49db-9c4c-475e63618e78')\"\n",
              "              title=\"Convert this dataframe to an interactive table.\"\n",
              "              style=\"display:none;\">\n",
              "        \n",
              "  <svg xmlns=\"http://www.w3.org/2000/svg\" height=\"24px\"viewBox=\"0 0 24 24\"\n",
              "       width=\"24px\">\n",
              "    <path d=\"M0 0h24v24H0V0z\" fill=\"none\"/>\n",
              "    <path d=\"M18.56 5.44l.94 2.06.94-2.06 2.06-.94-2.06-.94-.94-2.06-.94 2.06-2.06.94zm-11 1L8.5 8.5l.94-2.06 2.06-.94-2.06-.94L8.5 2.5l-.94 2.06-2.06.94zm10 10l.94 2.06.94-2.06 2.06-.94-2.06-.94-.94-2.06-.94 2.06-2.06.94z\"/><path d=\"M17.41 7.96l-1.37-1.37c-.4-.4-.92-.59-1.43-.59-.52 0-1.04.2-1.43.59L10.3 9.45l-7.72 7.72c-.78.78-.78 2.05 0 2.83L4 21.41c.39.39.9.59 1.41.59.51 0 1.02-.2 1.41-.59l7.78-7.78 2.81-2.81c.8-.78.8-2.07 0-2.86zM5.41 20L4 18.59l7.72-7.72 1.47 1.35L5.41 20z\"/>\n",
              "  </svg>\n",
              "      </button>\n",
              "      \n",
              "  <style>\n",
              "    .colab-df-container {\n",
              "      display:flex;\n",
              "      flex-wrap:wrap;\n",
              "      gap: 12px;\n",
              "    }\n",
              "\n",
              "    .colab-df-convert {\n",
              "      background-color: #E8F0FE;\n",
              "      border: none;\n",
              "      border-radius: 50%;\n",
              "      cursor: pointer;\n",
              "      display: none;\n",
              "      fill: #1967D2;\n",
              "      height: 32px;\n",
              "      padding: 0 0 0 0;\n",
              "      width: 32px;\n",
              "    }\n",
              "\n",
              "    .colab-df-convert:hover {\n",
              "      background-color: #E2EBFA;\n",
              "      box-shadow: 0px 1px 2px rgba(60, 64, 67, 0.3), 0px 1px 3px 1px rgba(60, 64, 67, 0.15);\n",
              "      fill: #174EA6;\n",
              "    }\n",
              "\n",
              "    [theme=dark] .colab-df-convert {\n",
              "      background-color: #3B4455;\n",
              "      fill: #D2E3FC;\n",
              "    }\n",
              "\n",
              "    [theme=dark] .colab-df-convert:hover {\n",
              "      background-color: #434B5C;\n",
              "      box-shadow: 0px 1px 3px 1px rgba(0, 0, 0, 0.15);\n",
              "      filter: drop-shadow(0px 1px 2px rgba(0, 0, 0, 0.3));\n",
              "      fill: #FFFFFF;\n",
              "    }\n",
              "  </style>\n",
              "\n",
              "      <script>\n",
              "        const buttonEl =\n",
              "          document.querySelector('#df-50176ffd-681e-49db-9c4c-475e63618e78 button.colab-df-convert');\n",
              "        buttonEl.style.display =\n",
              "          google.colab.kernel.accessAllowed ? 'block' : 'none';\n",
              "\n",
              "        async function convertToInteractive(key) {\n",
              "          const element = document.querySelector('#df-50176ffd-681e-49db-9c4c-475e63618e78');\n",
              "          const dataTable =\n",
              "            await google.colab.kernel.invokeFunction('convertToInteractive',\n",
              "                                                     [key], {});\n",
              "          if (!dataTable) return;\n",
              "\n",
              "          const docLinkHtml = 'Like what you see? Visit the ' +\n",
              "            '<a target=\"_blank\" href=https://colab.research.google.com/notebooks/data_table.ipynb>data table notebook</a>'\n",
              "            + ' to learn more about interactive tables.';\n",
              "          element.innerHTML = '';\n",
              "          dataTable['output_type'] = 'display_data';\n",
              "          await google.colab.output.renderOutput(dataTable, element);\n",
              "          const docLink = document.createElement('div');\n",
              "          docLink.innerHTML = docLinkHtml;\n",
              "          element.appendChild(docLink);\n",
              "        }\n",
              "      </script>\n",
              "    </div>\n",
              "  </div>\n",
              "  "
            ]
          },
          "metadata": {},
          "execution_count": 117
        }
      ]
    },
    {
      "cell_type": "markdown",
      "source": [
        "## Data management and database union"
      ],
      "metadata": {
        "id": "PUj1qkmFiqlQ"
      }
    },
    {
      "cell_type": "code",
      "source": [
        "holiday['date']=holiday['date'].astype('datetime64')\n",
        "oil['date']=oil['date'].astype('datetime64')\n",
        "oil.info()"
      ],
      "metadata": {
        "execution": {
          "iopub.status.busy": "2022-10-30T10:56:01.530492Z",
          "iopub.execute_input": "2022-10-30T10:56:01.530757Z",
          "iopub.status.idle": "2022-10-30T10:56:01.548468Z",
          "shell.execute_reply.started": "2022-10-30T10:56:01.530732Z",
          "shell.execute_reply": "2022-10-30T10:56:01.546936Z"
        },
        "trusted": true,
        "id": "4y7EnubliqlR",
        "outputId": "aa32f8d1-3592-4ca5-96b0-97481d30d84d",
        "colab": {
          "base_uri": "https://localhost:8080/"
        }
      },
      "execution_count": 118,
      "outputs": [
        {
          "output_type": "stream",
          "name": "stdout",
          "text": [
            "<class 'pandas.core.frame.DataFrame'>\n",
            "RangeIndex: 1218 entries, 0 to 1217\n",
            "Data columns (total 2 columns):\n",
            " #   Column      Non-Null Count  Dtype         \n",
            "---  ------      --------------  -----         \n",
            " 0   date        1218 non-null   datetime64[ns]\n",
            " 1   dcoilwtico  1175 non-null   float64       \n",
            "dtypes: datetime64[ns](1), float64(1)\n",
            "memory usage: 19.2 KB\n"
          ]
        }
      ]
    },
    {
      "cell_type": "code",
      "source": [
        "data = pd.merge(train, holiday, how = 'left', on = 'date')\n",
        "print(\"In total: \", data.shape)\n",
        "data = pd.merge(data, oil, how = 'left', on = 'date')\n",
        "print(\"In total: \", data.shape)\n",
        "data = pd.merge(data, store, how = 'left', on = 'store_nbr')\n",
        "print(\"In total: \", data.shape)\n",
        "data.head()"
      ],
      "metadata": {
        "execution": {
          "iopub.status.busy": "2022-10-30T10:56:03.379936Z",
          "iopub.execute_input": "2022-10-30T10:56:03.380174Z",
          "iopub.status.idle": "2022-10-30T10:56:05.083854Z",
          "shell.execute_reply.started": "2022-10-30T10:56:03.380153Z",
          "shell.execute_reply": "2022-10-30T10:56:05.083029Z"
        },
        "trusted": true,
        "id": "js6l-A0DiqlS",
        "outputId": "f3998f0f-3510-4973-b447-eec4c19d3f4a",
        "colab": {
          "base_uri": "https://localhost:8080/",
          "height": 258
        }
      },
      "execution_count": 119,
      "outputs": [
        {
          "output_type": "stream",
          "name": "stdout",
          "text": [
            "In total:  (3054348, 11)\n",
            "In total:  (3054348, 12)\n",
            "In total:  (3054348, 16)\n"
          ]
        },
        {
          "output_type": "execute_result",
          "data": {
            "text/plain": [
              "        date  id  store_nbr      family  sales  onpromotion   type_x  \\\n",
              "0 2013-01-01   0          1  AUTOMOTIVE    0.0            0  Holiday   \n",
              "1 2013-01-01   1          1   BABY CARE    0.0            0  Holiday   \n",
              "2 2013-01-01   2          1      BEAUTY    0.0            0  Holiday   \n",
              "3 2013-01-01   3          1   BEVERAGES    0.0            0  Holiday   \n",
              "4 2013-01-01   4          1       BOOKS    0.0            0  Holiday   \n",
              "\n",
              "     locale locale_name         description transferred  dcoilwtico   city  \\\n",
              "0  National     Ecuador  Primer dia del ano       False         NaN  Quito   \n",
              "1  National     Ecuador  Primer dia del ano       False         NaN  Quito   \n",
              "2  National     Ecuador  Primer dia del ano       False         NaN  Quito   \n",
              "3  National     Ecuador  Primer dia del ano       False         NaN  Quito   \n",
              "4  National     Ecuador  Primer dia del ano       False         NaN  Quito   \n",
              "\n",
              "       state type_y  cluster  \n",
              "0  Pichincha      D       13  \n",
              "1  Pichincha      D       13  \n",
              "2  Pichincha      D       13  \n",
              "3  Pichincha      D       13  \n",
              "4  Pichincha      D       13  "
            ],
            "text/html": [
              "\n",
              "  <div id=\"df-d74e1df2-7e45-4983-9de8-9a83191b8bc2\">\n",
              "    <div class=\"colab-df-container\">\n",
              "      <div>\n",
              "<style scoped>\n",
              "    .dataframe tbody tr th:only-of-type {\n",
              "        vertical-align: middle;\n",
              "    }\n",
              "\n",
              "    .dataframe tbody tr th {\n",
              "        vertical-align: top;\n",
              "    }\n",
              "\n",
              "    .dataframe thead th {\n",
              "        text-align: right;\n",
              "    }\n",
              "</style>\n",
              "<table border=\"1\" class=\"dataframe\">\n",
              "  <thead>\n",
              "    <tr style=\"text-align: right;\">\n",
              "      <th></th>\n",
              "      <th>date</th>\n",
              "      <th>id</th>\n",
              "      <th>store_nbr</th>\n",
              "      <th>family</th>\n",
              "      <th>sales</th>\n",
              "      <th>onpromotion</th>\n",
              "      <th>type_x</th>\n",
              "      <th>locale</th>\n",
              "      <th>locale_name</th>\n",
              "      <th>description</th>\n",
              "      <th>transferred</th>\n",
              "      <th>dcoilwtico</th>\n",
              "      <th>city</th>\n",
              "      <th>state</th>\n",
              "      <th>type_y</th>\n",
              "      <th>cluster</th>\n",
              "    </tr>\n",
              "  </thead>\n",
              "  <tbody>\n",
              "    <tr>\n",
              "      <th>0</th>\n",
              "      <td>2013-01-01</td>\n",
              "      <td>0</td>\n",
              "      <td>1</td>\n",
              "      <td>AUTOMOTIVE</td>\n",
              "      <td>0.0</td>\n",
              "      <td>0</td>\n",
              "      <td>Holiday</td>\n",
              "      <td>National</td>\n",
              "      <td>Ecuador</td>\n",
              "      <td>Primer dia del ano</td>\n",
              "      <td>False</td>\n",
              "      <td>NaN</td>\n",
              "      <td>Quito</td>\n",
              "      <td>Pichincha</td>\n",
              "      <td>D</td>\n",
              "      <td>13</td>\n",
              "    </tr>\n",
              "    <tr>\n",
              "      <th>1</th>\n",
              "      <td>2013-01-01</td>\n",
              "      <td>1</td>\n",
              "      <td>1</td>\n",
              "      <td>BABY CARE</td>\n",
              "      <td>0.0</td>\n",
              "      <td>0</td>\n",
              "      <td>Holiday</td>\n",
              "      <td>National</td>\n",
              "      <td>Ecuador</td>\n",
              "      <td>Primer dia del ano</td>\n",
              "      <td>False</td>\n",
              "      <td>NaN</td>\n",
              "      <td>Quito</td>\n",
              "      <td>Pichincha</td>\n",
              "      <td>D</td>\n",
              "      <td>13</td>\n",
              "    </tr>\n",
              "    <tr>\n",
              "      <th>2</th>\n",
              "      <td>2013-01-01</td>\n",
              "      <td>2</td>\n",
              "      <td>1</td>\n",
              "      <td>BEAUTY</td>\n",
              "      <td>0.0</td>\n",
              "      <td>0</td>\n",
              "      <td>Holiday</td>\n",
              "      <td>National</td>\n",
              "      <td>Ecuador</td>\n",
              "      <td>Primer dia del ano</td>\n",
              "      <td>False</td>\n",
              "      <td>NaN</td>\n",
              "      <td>Quito</td>\n",
              "      <td>Pichincha</td>\n",
              "      <td>D</td>\n",
              "      <td>13</td>\n",
              "    </tr>\n",
              "    <tr>\n",
              "      <th>3</th>\n",
              "      <td>2013-01-01</td>\n",
              "      <td>3</td>\n",
              "      <td>1</td>\n",
              "      <td>BEVERAGES</td>\n",
              "      <td>0.0</td>\n",
              "      <td>0</td>\n",
              "      <td>Holiday</td>\n",
              "      <td>National</td>\n",
              "      <td>Ecuador</td>\n",
              "      <td>Primer dia del ano</td>\n",
              "      <td>False</td>\n",
              "      <td>NaN</td>\n",
              "      <td>Quito</td>\n",
              "      <td>Pichincha</td>\n",
              "      <td>D</td>\n",
              "      <td>13</td>\n",
              "    </tr>\n",
              "    <tr>\n",
              "      <th>4</th>\n",
              "      <td>2013-01-01</td>\n",
              "      <td>4</td>\n",
              "      <td>1</td>\n",
              "      <td>BOOKS</td>\n",
              "      <td>0.0</td>\n",
              "      <td>0</td>\n",
              "      <td>Holiday</td>\n",
              "      <td>National</td>\n",
              "      <td>Ecuador</td>\n",
              "      <td>Primer dia del ano</td>\n",
              "      <td>False</td>\n",
              "      <td>NaN</td>\n",
              "      <td>Quito</td>\n",
              "      <td>Pichincha</td>\n",
              "      <td>D</td>\n",
              "      <td>13</td>\n",
              "    </tr>\n",
              "  </tbody>\n",
              "</table>\n",
              "</div>\n",
              "      <button class=\"colab-df-convert\" onclick=\"convertToInteractive('df-d74e1df2-7e45-4983-9de8-9a83191b8bc2')\"\n",
              "              title=\"Convert this dataframe to an interactive table.\"\n",
              "              style=\"display:none;\">\n",
              "        \n",
              "  <svg xmlns=\"http://www.w3.org/2000/svg\" height=\"24px\"viewBox=\"0 0 24 24\"\n",
              "       width=\"24px\">\n",
              "    <path d=\"M0 0h24v24H0V0z\" fill=\"none\"/>\n",
              "    <path d=\"M18.56 5.44l.94 2.06.94-2.06 2.06-.94-2.06-.94-.94-2.06-.94 2.06-2.06.94zm-11 1L8.5 8.5l.94-2.06 2.06-.94-2.06-.94L8.5 2.5l-.94 2.06-2.06.94zm10 10l.94 2.06.94-2.06 2.06-.94-2.06-.94-.94-2.06-.94 2.06-2.06.94z\"/><path d=\"M17.41 7.96l-1.37-1.37c-.4-.4-.92-.59-1.43-.59-.52 0-1.04.2-1.43.59L10.3 9.45l-7.72 7.72c-.78.78-.78 2.05 0 2.83L4 21.41c.39.39.9.59 1.41.59.51 0 1.02-.2 1.41-.59l7.78-7.78 2.81-2.81c.8-.78.8-2.07 0-2.86zM5.41 20L4 18.59l7.72-7.72 1.47 1.35L5.41 20z\"/>\n",
              "  </svg>\n",
              "      </button>\n",
              "      \n",
              "  <style>\n",
              "    .colab-df-container {\n",
              "      display:flex;\n",
              "      flex-wrap:wrap;\n",
              "      gap: 12px;\n",
              "    }\n",
              "\n",
              "    .colab-df-convert {\n",
              "      background-color: #E8F0FE;\n",
              "      border: none;\n",
              "      border-radius: 50%;\n",
              "      cursor: pointer;\n",
              "      display: none;\n",
              "      fill: #1967D2;\n",
              "      height: 32px;\n",
              "      padding: 0 0 0 0;\n",
              "      width: 32px;\n",
              "    }\n",
              "\n",
              "    .colab-df-convert:hover {\n",
              "      background-color: #E2EBFA;\n",
              "      box-shadow: 0px 1px 2px rgba(60, 64, 67, 0.3), 0px 1px 3px 1px rgba(60, 64, 67, 0.15);\n",
              "      fill: #174EA6;\n",
              "    }\n",
              "\n",
              "    [theme=dark] .colab-df-convert {\n",
              "      background-color: #3B4455;\n",
              "      fill: #D2E3FC;\n",
              "    }\n",
              "\n",
              "    [theme=dark] .colab-df-convert:hover {\n",
              "      background-color: #434B5C;\n",
              "      box-shadow: 0px 1px 3px 1px rgba(0, 0, 0, 0.15);\n",
              "      filter: drop-shadow(0px 1px 2px rgba(0, 0, 0, 0.3));\n",
              "      fill: #FFFFFF;\n",
              "    }\n",
              "  </style>\n",
              "\n",
              "      <script>\n",
              "        const buttonEl =\n",
              "          document.querySelector('#df-d74e1df2-7e45-4983-9de8-9a83191b8bc2 button.colab-df-convert');\n",
              "        buttonEl.style.display =\n",
              "          google.colab.kernel.accessAllowed ? 'block' : 'none';\n",
              "\n",
              "        async function convertToInteractive(key) {\n",
              "          const element = document.querySelector('#df-d74e1df2-7e45-4983-9de8-9a83191b8bc2');\n",
              "          const dataTable =\n",
              "            await google.colab.kernel.invokeFunction('convertToInteractive',\n",
              "                                                     [key], {});\n",
              "          if (!dataTable) return;\n",
              "\n",
              "          const docLinkHtml = 'Like what you see? Visit the ' +\n",
              "            '<a target=\"_blank\" href=https://colab.research.google.com/notebooks/data_table.ipynb>data table notebook</a>'\n",
              "            + ' to learn more about interactive tables.';\n",
              "          element.innerHTML = '';\n",
              "          dataTable['output_type'] = 'display_data';\n",
              "          await google.colab.output.renderOutput(dataTable, element);\n",
              "          const docLink = document.createElement('div');\n",
              "          docLink.innerHTML = docLinkHtml;\n",
              "          element.appendChild(docLink);\n",
              "        }\n",
              "      </script>\n",
              "    </div>\n",
              "  </div>\n",
              "  "
            ]
          },
          "metadata": {},
          "execution_count": 119
        }
      ]
    },
    {
      "cell_type": "code",
      "source": [
        "lb =preprocessing.LabelEncoder()\n",
        "data['family'] = lb.fit_transform(data['family'])\n",
        "data['type_x'] = lb.fit_transform(data['type_x'])\n",
        "data['locale'] = lb.fit_transform(data['locale'])\n",
        "data['locale_name'] = lb.fit_transform(data['locale_name'])\n",
        "data['description'] = lb.fit_transform(data['description'])\n",
        "data['transferred'] = lb.fit_transform(data['transferred'])\n",
        "data['city'] = lb.fit_transform(data['city'])\n",
        "data['state'] = lb.fit_transform(data['state'])\n",
        "data['type_y'] = lb.fit_transform(data['type_y'])"
      ],
      "metadata": {
        "execution": {
          "iopub.status.busy": "2022-10-30T10:56:05.085323Z",
          "iopub.execute_input": "2022-10-30T10:56:05.085555Z",
          "iopub.status.idle": "2022-10-30T10:56:06.106111Z",
          "shell.execute_reply.started": "2022-10-30T10:56:05.085527Z",
          "shell.execute_reply": "2022-10-30T10:56:06.104812Z"
        },
        "trusted": true,
        "id": "AwkQBO0GiqlU"
      },
      "execution_count": 120,
      "outputs": []
    },
    {
      "cell_type": "markdown",
      "source": [
        "## Create date variables"
      ],
      "metadata": {
        "id": "LGPadd3LiqlV"
      }
    },
    {
      "cell_type": "code",
      "source": [
        "def create_features(data):\n",
        "    data = data.copy()\n",
        "    data['Year'] = data.index.year\n",
        "    data['Month'] = data.index.month\n",
        "    data['Day'] = data.index.day\n",
        "    data['WeekOfYear'] = data.index.weekofyear\n",
        "    data['dayofweek'] = data.index.dayofweek\n",
        "    data['dayofyear'] = data.index.dayofyear\n",
        "    return data"
      ],
      "metadata": {
        "execution": {
          "iopub.status.busy": "2022-10-30T10:57:03.703728Z",
          "iopub.execute_input": "2022-10-30T10:57:03.703949Z",
          "iopub.status.idle": "2022-10-30T10:57:03.709156Z",
          "shell.execute_reply.started": "2022-10-30T10:57:03.703927Z",
          "shell.execute_reply": "2022-10-30T10:57:03.708377Z"
        },
        "trusted": true,
        "id": "AQjSYu4tiqlV"
      },
      "execution_count": 121,
      "outputs": []
    },
    {
      "cell_type": "code",
      "source": [
        "data['date'] = pd.to_datetime(data['date'])\n",
        "#data = data.set_index('date')"
      ],
      "metadata": {
        "execution": {
          "iopub.status.busy": "2022-10-30T10:57:03.884050Z",
          "iopub.execute_input": "2022-10-30T10:57:03.884277Z",
          "iopub.status.idle": "2022-10-30T10:57:03.948438Z",
          "shell.execute_reply.started": "2022-10-30T10:57:03.884254Z",
          "shell.execute_reply": "2022-10-30T10:57:03.947728Z"
        },
        "trusted": true,
        "id": "ZucEzAJEiqlW"
      },
      "execution_count": 122,
      "outputs": []
    },
    {
      "cell_type": "code",
      "source": [
        "data = create_features(data)"
      ],
      "metadata": {
        "execution": {
          "iopub.status.busy": "2022-10-30T10:57:04.042536Z",
          "iopub.execute_input": "2022-10-30T10:57:04.042834Z",
          "iopub.status.idle": "2022-10-30T10:57:04.616516Z",
          "shell.execute_reply.started": "2022-10-30T10:57:04.042803Z",
          "shell.execute_reply": "2022-10-30T10:57:04.614807Z"
        },
        "trusted": true,
        "id": "dIxx6H6kiqlX",
        "outputId": "1a9ce5a1-6aa5-4664-8a1a-42a0c713541a",
        "colab": {
          "base_uri": "https://localhost:8080/",
          "height": 289
        }
      },
      "execution_count": 123,
      "outputs": [
        {
          "output_type": "error",
          "ename": "AttributeError",
          "evalue": "ignored",
          "traceback": [
            "\u001b[0;31m---------------------------------------------------------------------------\u001b[0m",
            "\u001b[0;31mAttributeError\u001b[0m                            Traceback (most recent call last)",
            "\u001b[0;32m<ipython-input-123-544ee5fe8fd6>\u001b[0m in \u001b[0;36m<module>\u001b[0;34m\u001b[0m\n\u001b[0;32m----> 1\u001b[0;31m \u001b[0mdata\u001b[0m \u001b[0;34m=\u001b[0m \u001b[0mcreate_features\u001b[0m\u001b[0;34m(\u001b[0m\u001b[0mdata\u001b[0m\u001b[0;34m)\u001b[0m\u001b[0;34m\u001b[0m\u001b[0;34m\u001b[0m\u001b[0m\n\u001b[0m",
            "\u001b[0;32m<ipython-input-121-ea99c3a08c36>\u001b[0m in \u001b[0;36mcreate_features\u001b[0;34m(data)\u001b[0m\n\u001b[1;32m      1\u001b[0m \u001b[0;32mdef\u001b[0m \u001b[0mcreate_features\u001b[0m\u001b[0;34m(\u001b[0m\u001b[0mdata\u001b[0m\u001b[0;34m)\u001b[0m\u001b[0;34m:\u001b[0m\u001b[0;34m\u001b[0m\u001b[0;34m\u001b[0m\u001b[0m\n\u001b[1;32m      2\u001b[0m     \u001b[0mdata\u001b[0m \u001b[0;34m=\u001b[0m \u001b[0mdata\u001b[0m\u001b[0;34m.\u001b[0m\u001b[0mcopy\u001b[0m\u001b[0;34m(\u001b[0m\u001b[0;34m)\u001b[0m\u001b[0;34m\u001b[0m\u001b[0;34m\u001b[0m\u001b[0m\n\u001b[0;32m----> 3\u001b[0;31m     \u001b[0mdata\u001b[0m\u001b[0;34m[\u001b[0m\u001b[0;34m'Year'\u001b[0m\u001b[0;34m]\u001b[0m \u001b[0;34m=\u001b[0m \u001b[0mdata\u001b[0m\u001b[0;34m.\u001b[0m\u001b[0mindex\u001b[0m\u001b[0;34m.\u001b[0m\u001b[0myear\u001b[0m\u001b[0;34m\u001b[0m\u001b[0;34m\u001b[0m\u001b[0m\n\u001b[0m\u001b[1;32m      4\u001b[0m     \u001b[0mdata\u001b[0m\u001b[0;34m[\u001b[0m\u001b[0;34m'Month'\u001b[0m\u001b[0;34m]\u001b[0m \u001b[0;34m=\u001b[0m \u001b[0mdata\u001b[0m\u001b[0;34m.\u001b[0m\u001b[0mindex\u001b[0m\u001b[0;34m.\u001b[0m\u001b[0mmonth\u001b[0m\u001b[0;34m\u001b[0m\u001b[0;34m\u001b[0m\u001b[0m\n\u001b[1;32m      5\u001b[0m     \u001b[0mdata\u001b[0m\u001b[0;34m[\u001b[0m\u001b[0;34m'Day'\u001b[0m\u001b[0;34m]\u001b[0m \u001b[0;34m=\u001b[0m \u001b[0mdata\u001b[0m\u001b[0;34m.\u001b[0m\u001b[0mindex\u001b[0m\u001b[0;34m.\u001b[0m\u001b[0mday\u001b[0m\u001b[0;34m\u001b[0m\u001b[0;34m\u001b[0m\u001b[0m\n",
            "\u001b[0;31mAttributeError\u001b[0m: 'Int64Index' object has no attribute 'year'"
          ]
        }
      ]
    },
    {
      "cell_type": "code",
      "source": [
        "data = data.fillna(method=\"bfill\")\n",
        "data.head()"
      ],
      "metadata": {
        "execution": {
          "iopub.status.busy": "2022-10-30T10:57:04.617484Z",
          "iopub.status.idle": "2022-10-30T10:57:04.617818Z",
          "shell.execute_reply.started": "2022-10-30T10:57:04.617629Z",
          "shell.execute_reply": "2022-10-30T10:57:04.617649Z"
        },
        "trusted": true,
        "id": "r7nBjqnziqlY"
      },
      "execution_count": null,
      "outputs": []
    },
    {
      "cell_type": "markdown",
      "source": [
        "### Heat map and pearson correlation"
      ],
      "metadata": {
        "id": "37mkMlK4iqlZ"
      }
    },
    {
      "cell_type": "code",
      "source": [
        "# Correlacion Pearson\n",
        "corr1 = data.corr(method='spearman')\n",
        "corr_pairs1 = corr1.unstack()\n",
        "print(corr_pairs1[\"sales\"])\n",
        "# Visualizar Heatmap\n",
        "fig, axes = plt.subplots(figsize=(10, 5))\n",
        "fig.suptitle('')\n",
        "sns.heatmap(corr1, annot=True, annot_kws={\"size\": 10}, cmap= 'coolwarm',ax=axes)\n",
        "axes.set_title('Ventas', fontsize=14)\n",
        "plt.tight_layout()\n",
        "plt.show()\n"
      ],
      "metadata": {
        "execution": {
          "iopub.status.busy": "2022-10-30T10:57:07.060886Z",
          "iopub.execute_input": "2022-10-30T10:57:07.061114Z",
          "iopub.status.idle": "2022-10-30T10:57:10.995190Z",
          "shell.execute_reply.started": "2022-10-30T10:57:07.061091Z",
          "shell.execute_reply": "2022-10-30T10:57:10.994424Z"
        },
        "trusted": true,
        "id": "Uw8CYHIIiqla",
        "outputId": "3c68d305-db01-4d57-8aa8-42f0483a863c",
        "colab": {
          "base_uri": "https://localhost:8080/",
          "height": 647
        }
      },
      "execution_count": 124,
      "outputs": [
        {
          "output_type": "stream",
          "name": "stdout",
          "text": [
            "id             0.216317\n",
            "store_nbr     -0.018231\n",
            "family        -0.063803\n",
            "sales          1.000000\n",
            "onpromotion    0.539420\n",
            "type_x        -0.014835\n",
            "locale        -0.012821\n",
            "locale_name   -0.012987\n",
            "description   -0.011842\n",
            "transferred   -0.013205\n",
            "dcoilwtico    -0.180431\n",
            "city           0.034720\n",
            "state          0.069197\n",
            "type_y        -0.022814\n",
            "cluster        0.035308\n",
            "dtype: float64\n"
          ]
        },
        {
          "output_type": "display_data",
          "data": {
            "text/plain": [
              "<Figure size 720x360 with 2 Axes>"
            ],
            "image/png": "[encoded data removed]"
          },
          "metadata": {
            "needs_background": "light"
          }
        }
      ]
    },
    {
      "cell_type": "markdown",
      "source": [
        "The variables most closely related to sales are year, dcoilwtico and onpromotion"
      ],
      "metadata": {
        "id": "2JEEBf4siqla"
      }
    },
    {
      "cell_type": "code",
      "source": [
        "from sklearn import preprocessing   "
      ],
      "metadata": {
        "execution": {
          "iopub.status.busy": "2022-10-30T10:57:10.996385Z",
          "iopub.execute_input": "2022-10-30T10:57:10.996571Z",
          "iopub.status.idle": "2022-10-30T10:57:11.000526Z",
          "shell.execute_reply.started": "2022-10-30T10:57:10.996550Z",
          "shell.execute_reply": "2022-10-30T10:57:10.999778Z"
        },
        "trusted": true,
        "id": "BYrQfvKLiqlb"
      },
      "execution_count": 125,
      "outputs": []
    },
    {
      "cell_type": "code",
      "source": [
        "#x = data[['onpromotion','dcoilwtico','Year','family','city','state','cluster','Month','dayofyear']]\n",
        "#y = data[['sales']]\n",
        "# Splitting the data into train and test\n",
        "#trainX, testX, trainY, testY = train_test_split(x, y, train_size=0.8,random_state=42, shuffle=False)\n",
        "#trainX.shape, testX.shape\n",
        "\n",
        "train_dates = data['date']\n",
        "\n",
        "x = data[['store_nbr','onpromotion', 'transferred', 'dcoilwtico','family','city','state','cluster']].astype(float)\n",
        "y = data[['sales']]\n",
        "\n",
        "X = preprocessing.StandardScaler().fit(x).transform(x)\n",
        "x.shape[1]"
      ],
      "metadata": {
        "execution": {
          "iopub.status.busy": "2022-10-30T10:57:13.738434Z",
          "iopub.execute_input": "2022-10-30T10:57:13.738670Z",
          "iopub.status.idle": "2022-10-30T10:57:14.289488Z",
          "shell.execute_reply.started": "2022-10-30T10:57:13.738637Z",
          "shell.execute_reply": "2022-10-30T10:57:14.288406Z"
        },
        "trusted": true,
        "id": "8V2AqY0Eiqlb",
        "outputId": "1ad56137-d1e3-4f18-e303-d7774e980cdf",
        "colab": {
          "base_uri": "https://localhost:8080/"
        }
      },
      "execution_count": 163,
      "outputs": [
        {
          "output_type": "stream",
          "name": "stdout",
          "text": [
            "            sales\n",
            "0           0.000\n",
            "1           0.000\n",
            "2           0.000\n",
            "3           0.000\n",
            "4           0.000\n",
            "...           ...\n",
            "3054343   438.133\n",
            "3054344   154.553\n",
            "3054345  2419.729\n",
            "3054346   121.000\n",
            "3054347    16.000\n",
            "\n",
            "[3054348 rows x 1 columns]\n"
          ]
        }
      ]
    },
    {
      "cell_type": "code",
      "source": [
        "trainX = []\n",
        "trainY = []\n",
        "\n",
        "n_future = 1  #Number of days we want to predict into the future\n",
        "n_past = 21   #Number of past days we want to use to predict the future\n",
        "\n",
        "for i in range(n_past, len(X) - n_future + 1):\n",
        "    trainX.append(X[i - n_past:i, 0: x.shape[1]])\n",
        "    trainY.append(X[i + n_future - 1:i + n_future, 0])\n",
        "\n",
        "trainX, trainY = np.array(trainX), np.array(trainY)"
      ],
      "metadata": {
        "execution": {
          "iopub.status.busy": "2022-10-30T10:57:24.748835Z",
          "iopub.execute_input": "2022-10-30T10:57:24.749092Z",
          "iopub.status.idle": "2022-10-30T10:57:24.764248Z",
          "shell.execute_reply.started": "2022-10-30T10:57:24.749068Z",
          "shell.execute_reply": "2022-10-30T10:57:24.763466Z"
        },
        "trusted": true,
        "id": "duu2_xoaiqlb"
      },
      "execution_count": 127,
      "outputs": []
    },
    {
      "cell_type": "code",
      "source": [
        "print(trainX.shape)\n",
        "print(trainY.shape)"
      ],
      "metadata": {
        "execution": {
          "iopub.status.busy": "2022-10-30T10:57:25.585444Z",
          "iopub.execute_input": "2022-10-30T10:57:25.585706Z",
          "iopub.status.idle": "2022-10-30T10:57:25.599348Z",
          "shell.execute_reply.started": "2022-10-30T10:57:25.585683Z",
          "shell.execute_reply": "2022-10-30T10:57:25.598188Z"
        },
        "trusted": true,
        "id": "NBpwqyDpiqlc",
        "outputId": "95422987-20ba-4664-eef2-58a2db69b50f",
        "colab": {
          "base_uri": "https://localhost:8080/"
        }
      },
      "execution_count": 128,
      "outputs": [
        {
          "output_type": "stream",
          "name": "stdout",
          "text": [
            "(3054327, 21, 8)\n",
            "(3054327, 1)\n"
          ]
        }
      ]
    },
    {
      "cell_type": "code",
      "source": [
        "import tensorflow as tf\n",
        "from tensorflow.keras.models import Sequential\n",
        "from tensorflow.keras.layers import *\n",
        "from tensorflow.keras.callbacks import ModelCheckpoint\n",
        "from tensorflow.keras.losses import MeanSquaredError\n",
        "from tensorflow.keras.metrics import RootMeanSquaredError\n",
        "from tensorflow.keras.optimizers import Adam"
      ],
      "metadata": {
        "trusted": true,
        "id": "lMfe7mMJiqld"
      },
      "execution_count": 129,
      "outputs": []
    },
    {
      "cell_type": "code",
      "source": [
        "model = Sequential([\n",
        "    LSTM(32, activation = 'relu', return_sequences = True, input_shape = (trainX.shape[1], trainX.shape[2])),\n",
        "    LSTM(16, activation = 'relu', return_sequences = False),\n",
        "    Dropout(0.2),\n",
        "    Dense(trainY.shape[1])\n",
        "])"
      ],
      "metadata": {
        "trusted": true,
        "id": "2-umE8Saiqld",
        "colab": {
          "base_uri": "https://localhost:8080/"
        },
        "outputId": "9a874a6f-7276-467f-f4c0-635d9389e741"
      },
      "execution_count": null,
      "outputs": [
        {
          "output_type": "stream",
          "name": "stderr",
          "text": [
            "WARNING:tensorflow:Layer lstm will not use cuDNN kernels since it doesn't meet the criteria. It will use a generic GPU kernel as fallback when running on GPU.\n",
            "WARNING:tensorflow:Layer lstm_1 will not use cuDNN kernels since it doesn't meet the criteria. It will use a generic GPU kernel as fallback when running on GPU.\n"
          ]
        }
      ]
    },
    {
      "cell_type": "code",
      "source": [
        "model.compile(optimizer='adam', loss='mse')\n",
        "model.summary()"
      ],
      "metadata": {
        "trusted": true,
        "id": "p2pr6HnPiqle",
        "colab": {
          "base_uri": "https://localhost:8080/"
        },
        "outputId": "3c0d8e68-b243-405d-d1cd-2618bba17450"
      },
      "execution_count": null,
      "outputs": [
        {
          "output_type": "stream",
          "name": "stdout",
          "text": [
            "Model: \"sequential\"\n",
            "_________________________________________________________________\n",
            " Layer (type)                Output Shape              Param #   \n",
            "=================================================================\n",
            " lstm (LSTM)                 (None, 21, 32)            5248      \n",
            "                                                                 \n",
            " lstm_1 (LSTM)               (None, 16)                3136      \n",
            "                                                                 \n",
            " dropout (Dropout)           (None, 16)                0         \n",
            "                                                                 \n",
            " dense (Dense)               (None, 1)                 17        \n",
            "                                                                 \n",
            "=================================================================\n",
            "Total params: 8,401\n",
            "Trainable params: 8,401\n",
            "Non-trainable params: 0\n",
            "_________________________________________________________________\n"
          ]
        }
      ]
    },
    {
      "cell_type": "code",
      "source": [
        "history = model.fit(trainX, trainY, epochs = 1, batch_size = 32, validation_split = 0.1, verbose = 1)"
      ],
      "metadata": {
        "trusted": true,
        "id": "DJM3VeMliqle",
        "colab": {
          "base_uri": "https://localhost:8080/"
        },
        "outputId": "14a3ed0a-ea6f-4542-9440-f361196d584a"
      },
      "execution_count": null,
      "outputs": [
        {
          "output_type": "stream",
          "name": "stdout",
          "text": [
            "85903/85903 [==============================] - 5864s 68ms/step - loss: 0.0446 - val_loss: 0.0056\n"
          ]
        }
      ]
    },
    {
      "cell_type": "code",
      "source": [
        "model.save('LSTM_model.h5')"
      ],
      "metadata": {
        "id": "FhbxTlcaiqlf"
      },
      "execution_count": null,
      "outputs": []
    },
    {
      "cell_type": "markdown",
      "source": [
        "Work with test data"
      ],
      "metadata": {
        "id": "0sn0X0a0iqlf"
      }
    },
    {
      "cell_type": "code",
      "source": [
        "test_data = pd.read_csv('/content/drive/MyDrive/Colab Notebooks/test.csv')\n",
        "test_data['date'] = pd.to_datetime(test_data['date'])\n",
        "test_data.head()"
      ],
      "metadata": {
        "trusted": true,
        "id": "vYA8Gvk5iqlg",
        "colab": {
          "base_uri": "https://localhost:8080/",
          "height": 206
        },
        "outputId": "93355609-be6b-490a-c255-82e48c94e5c7"
      },
      "execution_count": 130,
      "outputs": [
        {
          "output_type": "execute_result",
          "data": {
            "text/plain": [
              "        id       date  store_nbr      family  onpromotion\n",
              "0  3000888 2017-08-16          1  AUTOMOTIVE            0\n",
              "1  3000889 2017-08-16          1   BABY CARE            0\n",
              "2  3000890 2017-08-16          1      BEAUTY            2\n",
              "3  3000891 2017-08-16          1   BEVERAGES           20\n",
              "4  3000892 2017-08-16          1       BOOKS            0"
            ],
            "text/html": [
              "\n",
              "  <div id=\"df-01f0b581-5335-4804-a6d5-d851947cdf61\">\n",
              "    <div class=\"colab-df-container\">\n",
              "      <div>\n",
              "<style scoped>\n",
              "    .dataframe tbody tr th:only-of-type {\n",
              "        vertical-align: middle;\n",
              "    }\n",
              "\n",
              "    .dataframe tbody tr th {\n",
              "        vertical-align: top;\n",
              "    }\n",
              "\n",
              "    .dataframe thead th {\n",
              "        text-align: right;\n",
              "    }\n",
              "</style>\n",
              "<table border=\"1\" class=\"dataframe\">\n",
              "  <thead>\n",
              "    <tr style=\"text-align: right;\">\n",
              "      <th></th>\n",
              "      <th>id</th>\n",
              "      <th>date</th>\n",
              "      <th>store_nbr</th>\n",
              "      <th>family</th>\n",
              "      <th>onpromotion</th>\n",
              "    </tr>\n",
              "  </thead>\n",
              "  <tbody>\n",
              "    <tr>\n",
              "      <th>0</th>\n",
              "      <td>3000888</td>\n",
              "      <td>2017-08-16</td>\n",
              "      <td>1</td>\n",
              "      <td>AUTOMOTIVE</td>\n",
              "      <td>0</td>\n",
              "    </tr>\n",
              "    <tr>\n",
              "      <th>1</th>\n",
              "      <td>3000889</td>\n",
              "      <td>2017-08-16</td>\n",
              "      <td>1</td>\n",
              "      <td>BABY CARE</td>\n",
              "      <td>0</td>\n",
              "    </tr>\n",
              "    <tr>\n",
              "      <th>2</th>\n",
              "      <td>3000890</td>\n",
              "      <td>2017-08-16</td>\n",
              "      <td>1</td>\n",
              "      <td>BEAUTY</td>\n",
              "      <td>2</td>\n",
              "    </tr>\n",
              "    <tr>\n",
              "      <th>3</th>\n",
              "      <td>3000891</td>\n",
              "      <td>2017-08-16</td>\n",
              "      <td>1</td>\n",
              "      <td>BEVERAGES</td>\n",
              "      <td>20</td>\n",
              "    </tr>\n",
              "    <tr>\n",
              "      <th>4</th>\n",
              "      <td>3000892</td>\n",
              "      <td>2017-08-16</td>\n",
              "      <td>1</td>\n",
              "      <td>BOOKS</td>\n",
              "      <td>0</td>\n",
              "    </tr>\n",
              "  </tbody>\n",
              "</table>\n",
              "</div>\n",
              "      <button class=\"colab-df-convert\" onclick=\"convertToInteractive('df-01f0b581-5335-4804-a6d5-d851947cdf61')\"\n",
              "              title=\"Convert this dataframe to an interactive table.\"\n",
              "              style=\"display:none;\">\n",
              "        \n",
              "  <svg xmlns=\"http://www.w3.org/2000/svg\" height=\"24px\"viewBox=\"0 0 24 24\"\n",
              "       width=\"24px\">\n",
              "    <path d=\"M0 0h24v24H0V0z\" fill=\"none\"/>\n",
              "    <path d=\"M18.56 5.44l.94 2.06.94-2.06 2.06-.94-2.06-.94-.94-2.06-.94 2.06-2.06.94zm-11 1L8.5 8.5l.94-2.06 2.06-.94-2.06-.94L8.5 2.5l-.94 2.06-2.06.94zm10 10l.94 2.06.94-2.06 2.06-.94-2.06-.94-.94-2.06-.94 2.06-2.06.94z\"/><path d=\"M17.41 7.96l-1.37-1.37c-.4-.4-.92-.59-1.43-.59-.52 0-1.04.2-1.43.59L10.3 9.45l-7.72 7.72c-.78.78-.78 2.05 0 2.83L4 21.41c.39.39.9.59 1.41.59.51 0 1.02-.2 1.41-.59l7.78-7.78 2.81-2.81c.8-.78.8-2.07 0-2.86zM5.41 20L4 18.59l7.72-7.72 1.47 1.35L5.41 20z\"/>\n",
              "  </svg>\n",
              "      </button>\n",
              "      \n",
              "  <style>\n",
              "    .colab-df-container {\n",
              "      display:flex;\n",
              "      flex-wrap:wrap;\n",
              "      gap: 12px;\n",
              "    }\n",
              "\n",
              "    .colab-df-convert {\n",
              "      background-color: #E8F0FE;\n",
              "      border: none;\n",
              "      border-radius: 50%;\n",
              "      cursor: pointer;\n",
              "      display: none;\n",
              "      fill: #1967D2;\n",
              "      height: 32px;\n",
              "      padding: 0 0 0 0;\n",
              "      width: 32px;\n",
              "    }\n",
              "\n",
              "    .colab-df-convert:hover {\n",
              "      background-color: #E2EBFA;\n",
              "      box-shadow: 0px 1px 2px rgba(60, 64, 67, 0.3), 0px 1px 3px 1px rgba(60, 64, 67, 0.15);\n",
              "      fill: #174EA6;\n",
              "    }\n",
              "\n",
              "    [theme=dark] .colab-df-convert {\n",
              "      background-color: #3B4455;\n",
              "      fill: #D2E3FC;\n",
              "    }\n",
              "\n",
              "    [theme=dark] .colab-df-convert:hover {\n",
              "      background-color: #434B5C;\n",
              "      box-shadow: 0px 1px 3px 1px rgba(0, 0, 0, 0.15);\n",
              "      filter: drop-shadow(0px 1px 2px rgba(0, 0, 0, 0.3));\n",
              "      fill: #FFFFFF;\n",
              "    }\n",
              "  </style>\n",
              "\n",
              "      <script>\n",
              "        const buttonEl =\n",
              "          document.querySelector('#df-01f0b581-5335-4804-a6d5-d851947cdf61 button.colab-df-convert');\n",
              "        buttonEl.style.display =\n",
              "          google.colab.kernel.accessAllowed ? 'block' : 'none';\n",
              "\n",
              "        async function convertToInteractive(key) {\n",
              "          const element = document.querySelector('#df-01f0b581-5335-4804-a6d5-d851947cdf61');\n",
              "          const dataTable =\n",
              "            await google.colab.kernel.invokeFunction('convertToInteractive',\n",
              "                                                     [key], {});\n",
              "          if (!dataTable) return;\n",
              "\n",
              "          const docLinkHtml = 'Like what you see? Visit the ' +\n",
              "            '<a target=\"_blank\" href=https://colab.research.google.com/notebooks/data_table.ipynb>data table notebook</a>'\n",
              "            + ' to learn more about interactive tables.';\n",
              "          element.innerHTML = '';\n",
              "          dataTable['output_type'] = 'display_data';\n",
              "          await google.colab.output.renderOutput(dataTable, element);\n",
              "          const docLink = document.createElement('div');\n",
              "          docLink.innerHTML = docLinkHtml;\n",
              "          element.appendChild(docLink);\n",
              "        }\n",
              "      </script>\n",
              "    </div>\n",
              "  </div>\n",
              "  "
            ]
          },
          "metadata": {},
          "execution_count": 130
        }
      ]
    },
    {
      "cell_type": "code",
      "source": [
        "valid_data = pd.merge(test_data, holiday, how = 'left', on = 'date')\n",
        "print(\"In total: \", valid_data.shape)\n",
        "valid_data = pd.merge(valid_data, oil, how = 'left', on = 'date')\n",
        "print(\"In total: \", valid_data.shape)\n",
        "valid_data = pd.merge(valid_data, store, how = 'left', on = 'store_nbr')\n",
        "print(\"In total: \", valid_data.shape)\n",
        "valid_data.head()"
      ],
      "metadata": {
        "trusted": true,
        "id": "f2Rvlnb1iqlg",
        "colab": {
          "base_uri": "https://localhost:8080/",
          "height": 258
        },
        "outputId": "2285707b-88ce-4950-f6aa-854b7b66d914"
      },
      "execution_count": 131,
      "outputs": [
        {
          "output_type": "stream",
          "name": "stdout",
          "text": [
            "In total:  (28512, 10)\n",
            "In total:  (28512, 11)\n",
            "In total:  (28512, 15)\n"
          ]
        },
        {
          "output_type": "execute_result",
          "data": {
            "text/plain": [
              "        id       date  store_nbr      family  onpromotion type_x locale  \\\n",
              "0  3000888 2017-08-16          1  AUTOMOTIVE            0    NaN    NaN   \n",
              "1  3000889 2017-08-16          1   BABY CARE            0    NaN    NaN   \n",
              "2  3000890 2017-08-16          1      BEAUTY            2    NaN    NaN   \n",
              "3  3000891 2017-08-16          1   BEVERAGES           20    NaN    NaN   \n",
              "4  3000892 2017-08-16          1       BOOKS            0    NaN    NaN   \n",
              "\n",
              "  locale_name description transferred  dcoilwtico   city      state type_y  \\\n",
              "0         NaN         NaN         NaN        46.8  Quito  Pichincha      D   \n",
              "1         NaN         NaN         NaN        46.8  Quito  Pichincha      D   \n",
              "2         NaN         NaN         NaN        46.8  Quito  Pichincha      D   \n",
              "3         NaN         NaN         NaN        46.8  Quito  Pichincha      D   \n",
              "4         NaN         NaN         NaN        46.8  Quito  Pichincha      D   \n",
              "\n",
              "   cluster  \n",
              "0       13  \n",
              "1       13  \n",
              "2       13  \n",
              "3       13  \n",
              "4       13  "
            ],
            "text/html": [
              "\n",
              "  <div id=\"df-cb7b2d3a-69c9-4f1f-aad4-7e10085fc37a\">\n",
              "    <div class=\"colab-df-container\">\n",
              "      <div>\n",
              "<style scoped>\n",
              "    .dataframe tbody tr th:only-of-type {\n",
              "        vertical-align: middle;\n",
              "    }\n",
              "\n",
              "    .dataframe tbody tr th {\n",
              "        vertical-align: top;\n",
              "    }\n",
              "\n",
              "    .dataframe thead th {\n",
              "        text-align: right;\n",
              "    }\n",
              "</style>\n",
              "<table border=\"1\" class=\"dataframe\">\n",
              "  <thead>\n",
              "    <tr style=\"text-align: right;\">\n",
              "      <th></th>\n",
              "      <th>id</th>\n",
              "      <th>date</th>\n",
              "      <th>store_nbr</th>\n",
              "      <th>family</th>\n",
              "      <th>onpromotion</th>\n",
              "      <th>type_x</th>\n",
              "      <th>locale</th>\n",
              "      <th>locale_name</th>\n",
              "      <th>description</th>\n",
              "      <th>transferred</th>\n",
              "      <th>dcoilwtico</th>\n",
              "      <th>city</th>\n",
              "      <th>state</th>\n",
              "      <th>type_y</th>\n",
              "      <th>cluster</th>\n",
              "    </tr>\n",
              "  </thead>\n",
              "  <tbody>\n",
              "    <tr>\n",
              "      <th>0</th>\n",
              "      <td>3000888</td>\n",
              "      <td>2017-08-16</td>\n",
              "      <td>1</td>\n",
              "      <td>AUTOMOTIVE</td>\n",
              "      <td>0</td>\n",
              "      <td>NaN</td>\n",
              "      <td>NaN</td>\n",
              "      <td>NaN</td>\n",
              "      <td>NaN</td>\n",
              "      <td>NaN</td>\n",
              "      <td>46.8</td>\n",
              "      <td>Quito</td>\n",
              "      <td>Pichincha</td>\n",
              "      <td>D</td>\n",
              "      <td>13</td>\n",
              "    </tr>\n",
              "    <tr>\n",
              "      <th>1</th>\n",
              "      <td>3000889</td>\n",
              "      <td>2017-08-16</td>\n",
              "      <td>1</td>\n",
              "      <td>BABY CARE</td>\n",
              "      <td>0</td>\n",
              "      <td>NaN</td>\n",
              "      <td>NaN</td>\n",
              "      <td>NaN</td>\n",
              "      <td>NaN</td>\n",
              "      <td>NaN</td>\n",
              "      <td>46.8</td>\n",
              "      <td>Quito</td>\n",
              "      <td>Pichincha</td>\n",
              "      <td>D</td>\n",
              "      <td>13</td>\n",
              "    </tr>\n",
              "    <tr>\n",
              "      <th>2</th>\n",
              "      <td>3000890</td>\n",
              "      <td>2017-08-16</td>\n",
              "      <td>1</td>\n",
              "      <td>BEAUTY</td>\n",
              "      <td>2</td>\n",
              "      <td>NaN</td>\n",
              "      <td>NaN</td>\n",
              "      <td>NaN</td>\n",
              "      <td>NaN</td>\n",
              "      <td>NaN</td>\n",
              "      <td>46.8</td>\n",
              "      <td>Quito</td>\n",
              "      <td>Pichincha</td>\n",
              "      <td>D</td>\n",
              "      <td>13</td>\n",
              "    </tr>\n",
              "    <tr>\n",
              "      <th>3</th>\n",
              "      <td>3000891</td>\n",
              "      <td>2017-08-16</td>\n",
              "      <td>1</td>\n",
              "      <td>BEVERAGES</td>\n",
              "      <td>20</td>\n",
              "      <td>NaN</td>\n",
              "      <td>NaN</td>\n",
              "      <td>NaN</td>\n",
              "      <td>NaN</td>\n",
              "      <td>NaN</td>\n",
              "      <td>46.8</td>\n",
              "      <td>Quito</td>\n",
              "      <td>Pichincha</td>\n",
              "      <td>D</td>\n",
              "      <td>13</td>\n",
              "    </tr>\n",
              "    <tr>\n",
              "      <th>4</th>\n",
              "      <td>3000892</td>\n",
              "      <td>2017-08-16</td>\n",
              "      <td>1</td>\n",
              "      <td>BOOKS</td>\n",
              "      <td>0</td>\n",
              "      <td>NaN</td>\n",
              "      <td>NaN</td>\n",
              "      <td>NaN</td>\n",
              "      <td>NaN</td>\n",
              "      <td>NaN</td>\n",
              "      <td>46.8</td>\n",
              "      <td>Quito</td>\n",
              "      <td>Pichincha</td>\n",
              "      <td>D</td>\n",
              "      <td>13</td>\n",
              "    </tr>\n",
              "  </tbody>\n",
              "</table>\n",
              "</div>\n",
              "      <button class=\"colab-df-convert\" onclick=\"convertToInteractive('df-cb7b2d3a-69c9-4f1f-aad4-7e10085fc37a')\"\n",
              "              title=\"Convert this dataframe to an interactive table.\"\n",
              "              style=\"display:none;\">\n",
              "        \n",
              "  <svg xmlns=\"http://www.w3.org/2000/svg\" height=\"24px\"viewBox=\"0 0 24 24\"\n",
              "       width=\"24px\">\n",
              "    <path d=\"M0 0h24v24H0V0z\" fill=\"none\"/>\n",
              "    <path d=\"M18.56 5.44l.94 2.06.94-2.06 2.06-.94-2.06-.94-.94-2.06-.94 2.06-2.06.94zm-11 1L8.5 8.5l.94-2.06 2.06-.94-2.06-.94L8.5 2.5l-.94 2.06-2.06.94zm10 10l.94 2.06.94-2.06 2.06-.94-2.06-.94-.94-2.06-.94 2.06-2.06.94z\"/><path d=\"M17.41 7.96l-1.37-1.37c-.4-.4-.92-.59-1.43-.59-.52 0-1.04.2-1.43.59L10.3 9.45l-7.72 7.72c-.78.78-.78 2.05 0 2.83L4 21.41c.39.39.9.59 1.41.59.51 0 1.02-.2 1.41-.59l7.78-7.78 2.81-2.81c.8-.78.8-2.07 0-2.86zM5.41 20L4 18.59l7.72-7.72 1.47 1.35L5.41 20z\"/>\n",
              "  </svg>\n",
              "      </button>\n",
              "      \n",
              "  <style>\n",
              "    .colab-df-container {\n",
              "      display:flex;\n",
              "      flex-wrap:wrap;\n",
              "      gap: 12px;\n",
              "    }\n",
              "\n",
              "    .colab-df-convert {\n",
              "      background-color: #E8F0FE;\n",
              "      border: none;\n",
              "      border-radius: 50%;\n",
              "      cursor: pointer;\n",
              "      display: none;\n",
              "      fill: #1967D2;\n",
              "      height: 32px;\n",
              "      padding: 0 0 0 0;\n",
              "      width: 32px;\n",
              "    }\n",
              "\n",
              "    .colab-df-convert:hover {\n",
              "      background-color: #E2EBFA;\n",
              "      box-shadow: 0px 1px 2px rgba(60, 64, 67, 0.3), 0px 1px 3px 1px rgba(60, 64, 67, 0.15);\n",
              "      fill: #174EA6;\n",
              "    }\n",
              "\n",
              "    [theme=dark] .colab-df-convert {\n",
              "      background-color: #3B4455;\n",
              "      fill: #D2E3FC;\n",
              "    }\n",
              "\n",
              "    [theme=dark] .colab-df-convert:hover {\n",
              "      background-color: #434B5C;\n",
              "      box-shadow: 0px 1px 3px 1px rgba(0, 0, 0, 0.15);\n",
              "      filter: drop-shadow(0px 1px 2px rgba(0, 0, 0, 0.3));\n",
              "      fill: #FFFFFF;\n",
              "    }\n",
              "  </style>\n",
              "\n",
              "      <script>\n",
              "        const buttonEl =\n",
              "          document.querySelector('#df-cb7b2d3a-69c9-4f1f-aad4-7e10085fc37a button.colab-df-convert');\n",
              "        buttonEl.style.display =\n",
              "          google.colab.kernel.accessAllowed ? 'block' : 'none';\n",
              "\n",
              "        async function convertToInteractive(key) {\n",
              "          const element = document.querySelector('#df-cb7b2d3a-69c9-4f1f-aad4-7e10085fc37a');\n",
              "          const dataTable =\n",
              "            await google.colab.kernel.invokeFunction('convertToInteractive',\n",
              "                                                     [key], {});\n",
              "          if (!dataTable) return;\n",
              "\n",
              "          const docLinkHtml = 'Like what you see? Visit the ' +\n",
              "            '<a target=\"_blank\" href=https://colab.research.google.com/notebooks/data_table.ipynb>data table notebook</a>'\n",
              "            + ' to learn more about interactive tables.';\n",
              "          element.innerHTML = '';\n",
              "          dataTable['output_type'] = 'display_data';\n",
              "          await google.colab.output.renderOutput(dataTable, element);\n",
              "          const docLink = document.createElement('div');\n",
              "          docLink.innerHTML = docLinkHtml;\n",
              "          element.appendChild(docLink);\n",
              "        }\n",
              "      </script>\n",
              "    </div>\n",
              "  </div>\n",
              "  "
            ]
          },
          "metadata": {},
          "execution_count": 131
        }
      ]
    },
    {
      "cell_type": "code",
      "source": [
        "lb =preprocessing.LabelEncoder()\n",
        "valid_data['family'] = lb.fit_transform(valid_data['family'])\n",
        "valid_data['type_x'] = lb.fit_transform(valid_data['type_x'])\n",
        "valid_data['locale'] = lb.fit_transform(valid_data['locale'])\n",
        "valid_data['locale_name'] = lb.fit_transform(valid_data['locale_name'])\n",
        "valid_data['description'] = lb.fit_transform(valid_data['description'])\n",
        "valid_data['transferred'] = lb.fit_transform(valid_data['transferred'])\n",
        "valid_data['city'] = lb.fit_transform(valid_data['city'])\n",
        "valid_data['state'] = lb.fit_transform(valid_data['state'])\n",
        "valid_data['type_y'] = lb.fit_transform(valid_data['type_y'])\n",
        "\n",
        "test_data =  valid_data[['store_nbr','onpromotion', 'transferred', 'dcoilwtico','family','city','state','cluster']].astype(float)\n",
        "\n",
        "testx = preprocessing.StandardScaler().fit(test_data).transform(test_data)\n",
        "sc = preprocessing.StandardScaler()\n",
        "true_y = sc.fit_transform(y[0:28491])\n",
        "\n",
        "print(true_y)"
      ],
      "metadata": {
        "trusted": true,
        "id": "FZGQtJH5iqlh",
        "colab": {
          "base_uri": "https://localhost:8080/"
        },
        "outputId": "79e4d40d-7a08-4aa3-85f9-2f3e25f2d9dc"
      },
      "execution_count": 182,
      "outputs": [
        {
          "output_type": "stream",
          "name": "stdout",
          "text": [
            "[[-0.28551389]\n",
            " [-0.28551389]\n",
            " [-0.28551389]\n",
            " ...\n",
            " [ 0.22958286]\n",
            " [-0.15812103]\n",
            " [-0.25885027]]\n"
          ]
        }
      ]
    },
    {
      "cell_type": "code",
      "source": [
        "testX = []\n",
        "testY = []\n",
        "\n",
        "n_future = 1  #Number of days we want to predict into the future\n",
        "n_past = 21   #Number of past days we want to use to predict the future\n",
        "\n",
        "for i in range(n_past, len(testx) - n_future + 1):\n",
        "    testX.append(testx[i - n_past:i, 0: testx.shape[1]])\n",
        "\n",
        "tesX, tesY = np.array(testX), np.array(trainY[0:28491])"
      ],
      "metadata": {
        "trusted": true,
        "id": "4wmOnurhiqli"
      },
      "execution_count": 149,
      "outputs": []
    },
    {
      "cell_type": "code",
      "source": [
        "print(tesY)"
      ],
      "metadata": {
        "colab": {
          "base_uri": "https://localhost:8080/"
        },
        "id": "qtfkqEoebEaF",
        "outputId": "dbd3568c-62c8-4046-8e6b-1054125ef176"
      },
      "execution_count": 170,
      "outputs": [
        {
          "output_type": "stream",
          "name": "stdout",
          "text": [
            "[[-1.70026736]\n",
            " [-1.70026736]\n",
            " [-1.70026736]\n",
            " ...\n",
            " [-1.1869791 ]\n",
            " [-1.1869791 ]\n",
            " [-1.1869791 ]]\n"
          ]
        }
      ]
    },
    {
      "cell_type": "code",
      "source": [
        "test_model = tf.keras.models.load_model('/content/drive/MyDrive/Colab Notebooks/LSTM_model.h5')"
      ],
      "metadata": {
        "id": "FP3EtKStbI7-"
      },
      "execution_count": 51,
      "outputs": []
    },
    {
      "cell_type": "code",
      "source": [
        "test_model.summary()"
      ],
      "metadata": {
        "colab": {
          "base_uri": "https://localhost:8080/"
        },
        "id": "w2qmUolCcGEL",
        "outputId": "a580fd85-53fa-4995-926f-695a34b20dae"
      },
      "execution_count": 52,
      "outputs": [
        {
          "output_type": "stream",
          "name": "stdout",
          "text": [
            "Model: \"sequential\"\n",
            "_________________________________________________________________\n",
            " Layer (type)                Output Shape              Param #   \n",
            "=================================================================\n",
            " lstm (LSTM)                 (None, 21, 32)            5248      \n",
            "                                                                 \n",
            " lstm_1 (LSTM)               (None, 16)                3136      \n",
            "                                                                 \n",
            " dropout (Dropout)           (None, 16)                0         \n",
            "                                                                 \n",
            " dense (Dense)               (None, 1)                 17        \n",
            "                                                                 \n",
            "=================================================================\n",
            "Total params: 8,401\n",
            "Trainable params: 8,401\n",
            "Non-trainable params: 0\n",
            "_________________________________________________________________\n"
          ]
        }
      ]
    },
    {
      "cell_type": "code",
      "source": [
        "predicted_sales = sc.inverse_transform(test_model.predict(tesX))"
      ],
      "metadata": {
        "colab": {
          "base_uri": "https://localhost:8080/"
        },
        "id": "DOKzP_BXcJzL",
        "outputId": "71f44460-6b73-4833-d63a-95d9c6f8fbcc"
      },
      "execution_count": 183,
      "outputs": [
        {
          "output_type": "stream",
          "name": "stdout",
          "text": [
            "891/891 [==============================] - 5s 6ms/step\n"
          ]
        }
      ]
    },
    {
      "cell_type": "code",
      "source": [
        "predicted_sales.shape"
      ],
      "metadata": {
        "colab": {
          "base_uri": "https://localhost:8080/"
        },
        "id": "iRQOkdXAjtZ0",
        "outputId": "56101f19-3ac7-41f9-8eda-39e6d3160f22"
      },
      "execution_count": 148,
      "outputs": [
        {
          "output_type": "execute_result",
          "data": {
            "text/plain": [
              "(28491, 1)"
            ]
          },
          "metadata": {},
          "execution_count": 148
        }
      ]
    },
    {
      "cell_type": "code",
      "source": [
        "y_pred = preprocessing.StandardScaler().fit(tesY).inverse_transform(predicted_sales)\n",
        "y_pred = predicted_sales * -1"
      ],
      "metadata": {
        "id": "Cyg94UxRnNCb"
      },
      "execution_count": 184,
      "outputs": []
    },
    {
      "cell_type": "code",
      "source": [
        "print(y_pred)"
      ],
      "metadata": {
        "colab": {
          "base_uri": "https://localhost:8080/"
        },
        "id": "BKpROOq6n1FW",
        "outputId": "aa501ae8-fa3d-452c-e486-c20993cd76fa"
      },
      "execution_count": 185,
      "outputs": [
        {
          "output_type": "stream",
          "name": "stdout",
          "text": [
            "[[880.8447 ]\n",
            " [889.4662 ]\n",
            " [885.5431 ]\n",
            " ...\n",
            " [580.62634]\n",
            " [580.9203 ]\n",
            " [582.543  ]]\n"
          ]
        }
      ]
    },
    {
      "cell_type": "code",
      "source": [
        "submissionFile = pd.DataFrame(y_pred).reset_index()\n",
        "submissionFile.columns = [\"id\",\"sales\"]\n",
        "submissionFile[\"sales\"] = abs ( submissionFile[\"sales\"] )\n",
        "submissionFile.head()"
      ],
      "metadata": {
        "colab": {
          "base_uri": "https://localhost:8080/",
          "height": 206
        },
        "id": "TTuEbltEhvx5",
        "outputId": "93f60f78-32b6-4b43-8e48-247f2a65eaf4"
      },
      "execution_count": 192,
      "outputs": [
        {
          "output_type": "execute_result",
          "data": {
            "text/plain": [
              "   id       sales\n",
              "0   0  880.844727\n",
              "1   1  889.466187\n",
              "2   2  885.543091\n",
              "3   3  891.141113\n",
              "4   4  889.236328"
            ],
            "text/html": [
              "\n",
              "  <div id=\"df-70d2481f-0514-4dfa-9ee4-26aa58d57c56\">\n",
              "    <div class=\"colab-df-container\">\n",
              "      <div>\n",
              "<style scoped>\n",
              "    .dataframe tbody tr th:only-of-type {\n",
              "        vertical-align: middle;\n",
              "    }\n",
              "\n",
              "    .dataframe tbody tr th {\n",
              "        vertical-align: top;\n",
              "    }\n",
              "\n",
              "    .dataframe thead th {\n",
              "        text-align: right;\n",
              "    }\n",
              "</style>\n",
              "<table border=\"1\" class=\"dataframe\">\n",
              "  <thead>\n",
              "    <tr style=\"text-align: right;\">\n",
              "      <th></th>\n",
              "      <th>id</th>\n",
              "      <th>sales</th>\n",
              "    </tr>\n",
              "  </thead>\n",
              "  <tbody>\n",
              "    <tr>\n",
              "      <th>0</th>\n",
              "      <td>0</td>\n",
              "      <td>880.844727</td>\n",
              "    </tr>\n",
              "    <tr>\n",
              "      <th>1</th>\n",
              "      <td>1</td>\n",
              "      <td>889.466187</td>\n",
              "    </tr>\n",
              "    <tr>\n",
              "      <th>2</th>\n",
              "      <td>2</td>\n",
              "      <td>885.543091</td>\n",
              "    </tr>\n",
              "    <tr>\n",
              "      <th>3</th>\n",
              "      <td>3</td>\n",
              "      <td>891.141113</td>\n",
              "    </tr>\n",
              "    <tr>\n",
              "      <th>4</th>\n",
              "      <td>4</td>\n",
              "      <td>889.236328</td>\n",
              "    </tr>\n",
              "  </tbody>\n",
              "</table>\n",
              "</div>\n",
              "      <button class=\"colab-df-convert\" onclick=\"convertToInteractive('df-70d2481f-0514-4dfa-9ee4-26aa58d57c56')\"\n",
              "              title=\"Convert this dataframe to an interactive table.\"\n",
              "              style=\"display:none;\">\n",
              "        \n",
              "  <svg xmlns=\"http://www.w3.org/2000/svg\" height=\"24px\"viewBox=\"0 0 24 24\"\n",
              "       width=\"24px\">\n",
              "    <path d=\"M0 0h24v24H0V0z\" fill=\"none\"/>\n",
              "    <path d=\"M18.56 5.44l.94 2.06.94-2.06 2.06-.94-2.06-.94-.94-2.06-.94 2.06-2.06.94zm-11 1L8.5 8.5l.94-2.06 2.06-.94-2.06-.94L8.5 2.5l-.94 2.06-2.06.94zm10 10l.94 2.06.94-2.06 2.06-.94-2.06-.94-.94-2.06-.94 2.06-2.06.94z\"/><path d=\"M17.41 7.96l-1.37-1.37c-.4-.4-.92-.59-1.43-.59-.52 0-1.04.2-1.43.59L10.3 9.45l-7.72 7.72c-.78.78-.78 2.05 0 2.83L4 21.41c.39.39.9.59 1.41.59.51 0 1.02-.2 1.41-.59l7.78-7.78 2.81-2.81c.8-.78.8-2.07 0-2.86zM5.41 20L4 18.59l7.72-7.72 1.47 1.35L5.41 20z\"/>\n",
              "  </svg>\n",
              "      </button>\n",
              "      \n",
              "  <style>\n",
              "    .colab-df-container {\n",
              "      display:flex;\n",
              "      flex-wrap:wrap;\n",
              "      gap: 12px;\n",
              "    }\n",
              "\n",
              "    .colab-df-convert {\n",
              "      background-color: #E8F0FE;\n",
              "      border: none;\n",
              "      border-radius: 50%;\n",
              "      cursor: pointer;\n",
              "      display: none;\n",
              "      fill: #1967D2;\n",
              "      height: 32px;\n",
              "      padding: 0 0 0 0;\n",
              "      width: 32px;\n",
              "    }\n",
              "\n",
              "    .colab-df-convert:hover {\n",
              "      background-color: #E2EBFA;\n",
              "      box-shadow: 0px 1px 2px rgba(60, 64, 67, 0.3), 0px 1px 3px 1px rgba(60, 64, 67, 0.15);\n",
              "      fill: #174EA6;\n",
              "    }\n",
              "\n",
              "    [theme=dark] .colab-df-convert {\n",
              "      background-color: #3B4455;\n",
              "      fill: #D2E3FC;\n",
              "    }\n",
              "\n",
              "    [theme=dark] .colab-df-convert:hover {\n",
              "      background-color: #434B5C;\n",
              "      box-shadow: 0px 1px 3px 1px rgba(0, 0, 0, 0.15);\n",
              "      filter: drop-shadow(0px 1px 2px rgba(0, 0, 0, 0.3));\n",
              "      fill: #FFFFFF;\n",
              "    }\n",
              "  </style>\n",
              "\n",
              "      <script>\n",
              "        const buttonEl =\n",
              "          document.querySelector('#df-70d2481f-0514-4dfa-9ee4-26aa58d57c56 button.colab-df-convert');\n",
              "        buttonEl.style.display =\n",
              "          google.colab.kernel.accessAllowed ? 'block' : 'none';\n",
              "\n",
              "        async function convertToInteractive(key) {\n",
              "          const element = document.querySelector('#df-70d2481f-0514-4dfa-9ee4-26aa58d57c56');\n",
              "          const dataTable =\n",
              "            await google.colab.kernel.invokeFunction('convertToInteractive',\n",
              "                                                     [key], {});\n",
              "          if (!dataTable) return;\n",
              "\n",
              "          const docLinkHtml = 'Like what you see? Visit the ' +\n",
              "            '<a target=\"_blank\" href=https://colab.research.google.com/notebooks/data_table.ipynb>data table notebook</a>'\n",
              "            + ' to learn more about interactive tables.';\n",
              "          element.innerHTML = '';\n",
              "          dataTable['output_type'] = 'display_data';\n",
              "          await google.colab.output.renderOutput(dataTable, element);\n",
              "          const docLink = document.createElement('div');\n",
              "          docLink.innerHTML = docLinkHtml;\n",
              "          element.appendChild(docLink);\n",
              "        }\n",
              "      </script>\n",
              "    </div>\n",
              "  </div>\n",
              "  "
            ]
          },
          "metadata": {},
          "execution_count": 192
        }
      ]
    },
    {
      "cell_type": "code",
      "source": [
        "submissionFile.to_csv( \"./submissionFile.csv\" )"
      ],
      "metadata": {
        "id": "Y5KFFTB7CLwG"
      },
      "execution_count": 190,
      "outputs": []
    },
    {
      "cell_type": "code",
      "source": [
        "# Calculate mean absolute percentage error\n",
        "def mape_func(actual, pred):\n",
        "    actual, pred = np.array(actual), np.array(pred)\n",
        "    return np.mean(np.abs((actual - pred) / actual)) * 100"
      ],
      "metadata": {
        "trusted": true,
        "id": "aExY9cI_iqlj"
      },
      "execution_count": null,
      "outputs": []
    },
    {
      "cell_type": "code",
      "source": [
        "def timeseries_evaluation_metrics_func(y_true, y_pred):\n",
        "    '''\n",
        "    '''\n",
        "    print('Evaluation metric results: ')\n",
        "    print(f'MSE is : {metrics.mean_squared_error(y_true, y_pred)}')\n",
        "    print(f'MAE is : {metrics.mean_absolute_error(y_true, y_pred)}')\n",
        "    print(f'RMSE is : {np.sqrt(metrics.mean_squared_error(y_true, y_pred))}')\n",
        "    print(f'MAPE is : {mean_absolute_percentage_error(y_true, y_pred)}')\n",
        "    print(f'R2 is : {metrics.r2_score(y_true, y_pred)}',end='\\n\\n')"
      ],
      "metadata": {
        "trusted": true,
        "id": "cYAp4U6Fiqlk"
      },
      "execution_count": null,
      "outputs": []
    },
    {
      "cell_type": "markdown",
      "source": [
        "### Model Training"
      ],
      "metadata": {
        "id": "1A-neK2Liqlk"
      }
    },
    {
      "cell_type": "code",
      "source": [
        "#xgB = XGBRegressor( n_estimators=30, objective='reg:squarederror')\n",
        "#xgB\n",
        "\n",
        "#xgB.fit(trainX, trainY,\n",
        " #   eval_set=[(trainX, trainY),(testX, testY)],\n",
        "  #  early_stopping_rounds=50,\n",
        "   # verbose= False)"
      ],
      "metadata": {
        "trusted": true,
        "id": "_qhq2NMIiqll"
      },
      "execution_count": null,
      "outputs": []
    },
    {
      "cell_type": "code",
      "source": [
        "plot_importance(xgB)\n",
        "plt.show()"
      ],
      "metadata": {
        "trusted": true,
        "id": "-F2AoAT0iqll"
      },
      "execution_count": null,
      "outputs": []
    },
    {
      "cell_type": "markdown",
      "source": [
        "### Evaluación modelo"
      ],
      "metadata": {
        "id": "U8QElnsDiqlm"
      }
    },
    {
      "cell_type": "code",
      "source": [
        "predicted_results = xgB.predict(testX)\n",
        "predicted_results"
      ],
      "metadata": {
        "trusted": true,
        "id": "q38A-VEziqlm"
      },
      "execution_count": null,
      "outputs": []
    },
    {
      "cell_type": "code",
      "source": [
        "timeseries_evaluation_metrics_func(testY, predicted_results)\n"
      ],
      "metadata": {
        "trusted": true,
        "id": "iub8RW2Ziqlm"
      },
      "execution_count": null,
      "outputs": []
    },
    {
      "cell_type": "markdown",
      "source": [
        "### Evaluación mediante RMSLE"
      ],
      "metadata": {
        "id": "BdX4K2Jyiqln"
      }
    },
    {
      "cell_type": "markdown",
      "source": [
        "The RMSLE is calculated as:\n",
        "[\\sqrt{ \\frac{1}{n} \\sum_{i=1}^n \\left(\\log (1 + \\hat{y}_i) - \\log (1 + y_i)\\right)^2}]\n",
        "where:\n",
        "\n",
        "𝑛 is the total number of instances,\n",
        "𝑦̂ 𝑖 is the predicted value of the target for instance (i),\n",
        "𝑦𝑖 is the actual value of the target for instance (i), and,\n",
        "log is the natural logarithm."
      ],
      "metadata": {
        "id": "u8qMIHZ5iqln"
      }
    },
    {
      "cell_type": "code",
      "source": [
        "def RMSLE(y_true: np.array, y_pred: np.array) -> np.float64:\n",
        "    \"\"\"\n",
        "    The Root Mean Squared Log Error (RMSLE) metric \n",
        "        \n",
        "    :param y_true: The ground truth labels given in the dataset\n",
        "    :param y_pred: Our predictions\n",
        "    :return: The RMSLE score\n",
        "    \"\"\"\n",
        "    return mean_squared_log_error(y_true, y_pred, squared=False)"
      ],
      "metadata": {
        "trusted": true,
        "id": "M2U4t1OZiqlo"
      },
      "execution_count": null,
      "outputs": []
    },
    {
      "cell_type": "markdown",
      "source": [
        "La métrica RMSLE no admite resultados negativos, y la predicción de XGBoost genera predicciones negativas "
      ],
      "metadata": {
        "id": "nJRbG8haiqlo"
      }
    },
    {
      "cell_type": "code",
      "source": [
        "# Predicciones negativas\n",
        "print(\"Las predicciones negativas son {} y representan un {} %\".format( str( len(predicted_results[predicted_results < 0]) ), str( ( len(predicted_results[predicted_results < 0]) / len(predicted_results) ) * 100 ) ))"
      ],
      "metadata": {
        "trusted": true,
        "id": "iaKPrRs-iqlp"
      },
      "execution_count": null,
      "outputs": []
    },
    {
      "cell_type": "code",
      "source": [
        "RMSLE(testY, abs(predicted_results))"
      ],
      "metadata": {
        "trusted": true,
        "id": "LFxOf8lTiqlq"
      },
      "execution_count": null,
      "outputs": []
    },
    {
      "cell_type": "markdown",
      "source": [
        "### Submission File"
      ],
      "metadata": {
        "id": "HcziNJV8iqlq"
      }
    },
    {
      "cell_type": "markdown",
      "source": [
        "For each id in the test set, you must predict a value for the sales variable. The file should contain a header and have the following format:\n",
        "\n",
        "id,sales\n",
        "3000888,0.0\n",
        "3000889,0.0\n",
        "3000890,0.0\n",
        "3000891,0.0\n",
        "3000892,0.0\n",
        "etc."
      ],
      "metadata": {
        "id": "V6f4XJVziqlr"
      }
    },
    {
      "cell_type": "markdown",
      "source": [
        "* Se coloca una conversión con valor absoluto por dos razones, la primera es que se utilizó así para poder determianr el RMSLE y la segunda es que se parte del supuesto de que no existen ventas negativas."
      ],
      "metadata": {
        "id": "xUtbLlkoiqlr"
      }
    },
    {
      "cell_type": "code",
      "source": [
        "submissionFile = pd.DataFrame( predicted_results ).reset_index()\n",
        "submissionFile.columns = [\"id\",\"sales\"]\n",
        "submissionFile[\"sales\"] = abs ( submissionFile[\"sales\"] )\n",
        "submissionFile.head()"
      ],
      "metadata": {
        "trusted": true,
        "id": "iAFhUs9Kiqls"
      },
      "execution_count": null,
      "outputs": []
    },
    {
      "cell_type": "code",
      "source": [
        "submissionFile.to_csv( \"./submissionFile.csv\" )"
      ],
      "metadata": {
        "trusted": true,
        "id": "5p_laKpYiqls"
      },
      "execution_count": null,
      "outputs": []
    }
  ]
}