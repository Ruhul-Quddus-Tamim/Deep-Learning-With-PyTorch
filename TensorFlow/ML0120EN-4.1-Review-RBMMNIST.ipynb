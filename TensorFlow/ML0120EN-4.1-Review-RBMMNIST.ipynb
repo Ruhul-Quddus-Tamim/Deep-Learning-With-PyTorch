{
 "cells": [
  {
   "cell_type": "markdown",
   "metadata": {},
   "source": [
    "<a href=\"https://www.skills.network/?utm_medium=Exinfluencer&utm_source=Exinfluencer&utm_content=000026UJ&utm_term=10006555&utm_id=NA-SkillsNetwork-Channel-SkillsNetworkCoursesIBMDeveloperSkillsNetworkDL0120ENSkillsNetwork20629446-2022-01-01\"><img src=\"https://cf-courses-data.s3.us.cloud-object-storage.appdomain.cloud/IBM-DL0120ENedX/labs/Template%20for%20Instructional%20Hands-on%20Labs/images/IDSNlogo.png\" width=\"400px\" align=\"center\"></a>\n",
    "\n",
    "<h1 align=\"center\"><font size=\"5\">RESTRICTED BOLTZMANN MACHINES</font></h1>\n"
   ]
  },
  {
   "cell_type": "markdown",
   "metadata": {},
   "source": [
    "<h3>Introduction</h3>\n",
    "<b>Restricted Boltzmann Machine (RBM):</b>  RBMs are shallow neural nets that learn to reconstruct data by themselves in an unsupervised fashion.  \n",
    "\n",
    "<h4>Why are RBMs important?</h4>\n",
    "An RBM are a basic form of autoencoder.  It can automatically extract <b>meaningful</b> features from a given input.\n",
    "\n",
    "<h4>How does it work?</h4>\n",
    "RBM is a 2 layer neural network. Simply, RBM takes the inputs and translates those into a set of binary values that represents them in the hidden layer. Then, these numbers can be translated back to reconstruct the inputs. Through several forward and backward passes, the RBM will be trained, and a trained RBM can reveal which features are the most important ones when detecting patterns.   \n",
    "\n",
    "<h4>What are the applications of an RBM?</h4>\n",
    "RBM is useful for <a href='http://www.cs.utoronto.ca/~hinton/absps/netflixICML.pdf?utm_medium=Exinfluencer&utm_source=Exinfluencer&utm_content=000026UJ&utm_term=10006555&utm_id=NA-SkillsNetwork-Channel-SkillsNetworkCoursesIBMDeveloperSkillsNetworkDL0120ENSkillsNetwork20629446-2022-01-01'>  Collaborative Filtering</a>, dimensionality reduction, classification, regression, feature learning, topic modeling and even <b>Deep Belief Networks</b>.\n",
    "\n",
    "<h4>Is RBM a generative or Discriminative model?</h4>\n",
    "RBM is a generative model. Let me explain it by first, see what is different between discriminative and generative models: \n",
    "\n",
    "<b>Discriminative:</b> Consider a classification problem where we want to learn to distinguish between Sedan cars (y = 1) and SUV cars (y = 0), based on some features of cars. Given a training set, an algorithm like logistic regression tries to find a straight line, or <i>decision boundary</i>, that separates the suv and sedan.\n",
    "\n",
    "<b>Generative:</b> looking at cars, we can build a model of what Sedan cars look like. Then, looking at SUVs, we can build a separate model of what SUV cars look like. Finally, to classify a new car, we can match the new car against the Sedan model, and match it against the SUV model, to see whether the new car looks more like the SUV or Sedan.\n",
    "\n",
    "Generative Models specify a probability distribution over a dataset of input vectors. We can carry out both supervised and unsupervised tasks with generative models:\n",
    "\n",
    "<ul>\n",
    "    <li>In an unsupervised task, we try to form a model for $P(x)$, where $P$ is the probability given $x$ as an input vector.</li>\n",
    "    <li>In the supervised task, we first form a model for $P(x|y)$, where $P$ is the probability of $x$ given $y$(the label for $x$). For example, if $y = 0$ indicates that a car is an SUV, and $y = 1$ indicates that a car is a sedan, then $p(x|y = 0)$ models the distribution of SUV features, and $p(x|y = 1)$ models the distribution of sedan features. If we manage to find $P(x|y)$ and $P(y)$, then we can use <b>Bayes rule</b> to estimate $P(y|x)$, because:   \n",
    "        $$p(y|x) = \\frac{p(x|y)p(y)}{p(x)}$$</li>\n",
    "</ul>\n",
    "Now the question is, can we build a generative model, and then use it to create synthetic data by directly sampling from the modeled probability distributions? Lets see. \n"
   ]
  },
  {
   "cell_type": "markdown",
   "metadata": {},
   "source": [
    "<h2>Table of Contents</h2>\n",
    "<ol>\n",
    "    <li><a href=\"https://#ref1\">Initialization</a></li>\n",
    "    <li><a href=\"https://#ref2\">RBM layers</a></li>\n",
    "    <li><a href=\"https://#ref3\">What RBM can do after training?</a></li>\n",
    "    <li><a href=\"https://#ref4\">How to train the model?</a></li>\n",
    "    <li><a href=\"https://#ref5\">Learned features</a></li>\n",
    "</ol>\n",
    "<p></p>\n",
    "</div>\n",
    "<br>\n",
    "\n",
    "<hr>\n"
   ]
  },
  {
   "cell_type": "markdown",
   "metadata": {},
   "source": [
    "<a id=\"ref1\"></a>\n",
    "\n",
    "<h3>Initialization</h3>\n",
    "\n",
    "First, we have to load the utility file which contains different utility functions that are not connected\n",
    "in any way to the networks presented in the tutorials, but rather help in\n",
    "processing the outputs into a more understandable way.\n"
   ]
  },
  {
   "cell_type": "code",
   "execution_count": 1,
   "metadata": {},
   "outputs": [],
   "source": [
    "import urllib.request\n",
    "with urllib.request.urlopen(\"https://cf-courses-data.s3.us.cloud-object-storage.appdomain.cloud/IBMDeveloperSkillsNetwork-DL0120EN-SkillsNetwork/labs/Week4/data/utils.py\") as url:\n",
    "    response = url.read()\n",
    "target = open('utils.py', 'w')\n",
    "target.write(response.decode('utf-8'))\n",
    "target.close()"
   ]
  },
  {
   "cell_type": "markdown",
   "metadata": {},
   "source": [
    "<h2>Installing TensorFlow </h2>\n",
    "\n",
    "We will installing TensorFlow version 2.2.0 and its required prerequistes.  Also installing pillow\\...\n"
   ]
  },
  {
   "cell_type": "code",
   "execution_count": 2,
   "metadata": {},
   "outputs": [
    {
     "name": "stdout",
     "output_type": "stream",
     "text": [
      "Collecting grpcio==1.24.3\n",
      "  Downloading grpcio-1.24.3-cp37-cp37m-manylinux2010_x86_64.whl (2.2 MB)\n",
      "\u001b[2K     \u001b[90m━━━━━━━━━━━━━━━━━━━━━━━━━━━━━━━━━━━━━━━━\u001b[0m \u001b[32m2.2/2.2 MB\u001b[0m \u001b[31m40.2 MB/s\u001b[0m eta \u001b[36m0:00:00\u001b[0m00:01\u001b[0m\n",
      "\u001b[?25hRequirement already satisfied: six>=1.5.2 in /home/jupyterlab/conda/envs/python/lib/python3.7/site-packages (from grpcio==1.24.3) (1.16.0)\n",
      "Installing collected packages: grpcio\n",
      "  Attempting uninstall: grpcio\n",
      "    Found existing installation: grpcio 1.48.1\n",
      "    Uninstalling grpcio-1.48.1:\n",
      "      Successfully uninstalled grpcio-1.48.1\n",
      "Successfully installed grpcio-1.24.3\n",
      "Collecting tensorflow==2.2.0\n",
      "  Downloading tensorflow-2.2.0-cp37-cp37m-manylinux2010_x86_64.whl (516.2 MB)\n",
      "\u001b[2K     \u001b[90m━━━━━━━━━━━━━━━━━━━━━━━━━━━━━━━━━━━━━\u001b[0m \u001b[32m516.2/516.2 MB\u001b[0m \u001b[31m918.4 kB/s\u001b[0m eta \u001b[36m0:00:00\u001b[0m00:01\u001b[0m00:01\u001b[0m\n",
      "\u001b[?25hCollecting astunparse==1.6.3\n",
      "  Downloading astunparse-1.6.3-py2.py3-none-any.whl (12 kB)\n",
      "Collecting h5py<2.11.0,>=2.10.0\n",
      "  Downloading h5py-2.10.0-cp37-cp37m-manylinux1_x86_64.whl (2.9 MB)\n",
      "\u001b[2K     \u001b[90m━━━━━━━━━━━━━━━━━━━━━━━━━━━━━━━━━━━━━━━━\u001b[0m \u001b[32m2.9/2.9 MB\u001b[0m \u001b[31m51.6 MB/s\u001b[0m eta \u001b[36m0:00:00\u001b[0m00:01\u001b[0m\n",
      "\u001b[?25hRequirement already satisfied: absl-py>=0.7.0 in /home/jupyterlab/conda/envs/python/lib/python3.7/site-packages (from tensorflow==2.2.0) (1.2.0)\n",
      "Requirement already satisfied: protobuf>=3.8.0 in /home/jupyterlab/conda/envs/python/lib/python3.7/site-packages (from tensorflow==2.2.0) (4.21.5)\n",
      "Requirement already satisfied: keras-preprocessing>=1.1.0 in /home/jupyterlab/conda/envs/python/lib/python3.7/site-packages (from tensorflow==2.2.0) (1.1.2)\n",
      "Requirement already satisfied: grpcio>=1.8.6 in /home/jupyterlab/conda/envs/python/lib/python3.7/site-packages (from tensorflow==2.2.0) (1.24.3)\n",
      "Requirement already satisfied: numpy<2.0,>=1.16.0 in /home/jupyterlab/conda/envs/python/lib/python3.7/site-packages (from tensorflow==2.2.0) (1.21.6)\n",
      "Collecting opt-einsum>=2.3.2\n",
      "  Downloading opt_einsum-3.3.0-py3-none-any.whl (65 kB)\n",
      "\u001b[2K     \u001b[90m━━━━━━━━━━━━━━━━━━━━━━━━━━━━━━━━━━━━━━━━\u001b[0m \u001b[32m65.5/65.5 kB\u001b[0m \u001b[31m10.7 MB/s\u001b[0m eta \u001b[36m0:00:00\u001b[0m\n",
      "\u001b[?25hCollecting scipy==1.4.1\n",
      "  Downloading scipy-1.4.1-cp37-cp37m-manylinux1_x86_64.whl (26.1 MB)\n",
      "\u001b[2K     \u001b[90m━━━━━━━━━━━━━━━━━━━━━━━━━━━━━━━━━━━━━━━━\u001b[0m \u001b[32m26.1/26.1 MB\u001b[0m \u001b[31m39.8 MB/s\u001b[0m eta \u001b[36m0:00:00\u001b[0m00:01\u001b[0m00:01\u001b[0m\n",
      "\u001b[?25hRequirement already satisfied: google-pasta>=0.1.8 in /home/jupyterlab/conda/envs/python/lib/python3.7/site-packages (from tensorflow==2.2.0) (0.2.0)\n",
      "Collecting gast==0.3.3\n",
      "  Downloading gast-0.3.3-py2.py3-none-any.whl (9.7 kB)\n",
      "Collecting tensorboard<2.3.0,>=2.2.0\n",
      "  Downloading tensorboard-2.2.2-py3-none-any.whl (3.0 MB)\n",
      "\u001b[2K     \u001b[90m━━━━━━━━━━━━━━━━━━━━━━━━━━━━━━━━━━━━━━━━\u001b[0m \u001b[32m3.0/3.0 MB\u001b[0m \u001b[31m39.0 MB/s\u001b[0m eta \u001b[36m0:00:00\u001b[0m00:01\u001b[0m00:01\u001b[0m\n",
      "\u001b[?25hRequirement already satisfied: wheel>=0.26 in /home/jupyterlab/conda/envs/python/lib/python3.7/site-packages (from tensorflow==2.2.0) (0.37.1)\n",
      "Collecting tensorflow-estimator<2.3.0,>=2.2.0\n",
      "  Downloading tensorflow_estimator-2.2.0-py2.py3-none-any.whl (454 kB)\n",
      "\u001b[2K     \u001b[90m━━━━━━━━━━━━━━━━━━━━━━━━━━━━━━━━━━━━━━\u001b[0m \u001b[32m454.6/454.6 kB\u001b[0m \u001b[31m42.6 MB/s\u001b[0m eta \u001b[36m0:00:00\u001b[0m\n",
      "\u001b[?25hRequirement already satisfied: wrapt>=1.11.1 in /home/jupyterlab/conda/envs/python/lib/python3.7/site-packages (from tensorflow==2.2.0) (1.14.1)\n",
      "Requirement already satisfied: six>=1.12.0 in /home/jupyterlab/conda/envs/python/lib/python3.7/site-packages (from tensorflow==2.2.0) (1.16.0)\n",
      "Requirement already satisfied: termcolor>=1.1.0 in /home/jupyterlab/conda/envs/python/lib/python3.7/site-packages (from tensorflow==2.2.0) (2.0.1)\n",
      "Collecting tensorboard-plugin-wit>=1.6.0\n",
      "  Downloading tensorboard_plugin_wit-1.8.1-py3-none-any.whl (781 kB)\n",
      "\u001b[2K     \u001b[90m━━━━━━━━━━━━━━━━━━━━━━━━━━━━━━━━━━━━━━\u001b[0m \u001b[32m781.3/781.3 kB\u001b[0m \u001b[31m57.0 MB/s\u001b[0m eta \u001b[36m0:00:00\u001b[0m\n",
      "\u001b[?25hCollecting google-auth-oauthlib<0.5,>=0.4.1\n",
      "  Downloading google_auth_oauthlib-0.4.6-py2.py3-none-any.whl (18 kB)\n",
      "Collecting google-auth<2,>=1.6.3\n",
      "  Using cached google_auth-1.35.0-py2.py3-none-any.whl (152 kB)\n",
      "Requirement already satisfied: markdown>=2.6.8 in /home/jupyterlab/conda/envs/python/lib/python3.7/site-packages (from tensorboard<2.3.0,>=2.2.0->tensorflow==2.2.0) (3.4.1)\n",
      "Requirement already satisfied: werkzeug>=0.11.15 in /home/jupyterlab/conda/envs/python/lib/python3.7/site-packages (from tensorboard<2.3.0,>=2.2.0->tensorflow==2.2.0) (2.2.2)\n",
      "Requirement already satisfied: setuptools>=41.0.0 in /home/jupyterlab/conda/envs/python/lib/python3.7/site-packages (from tensorboard<2.3.0,>=2.2.0->tensorflow==2.2.0) (65.3.0)\n",
      "Requirement already satisfied: requests<3,>=2.21.0 in /home/jupyterlab/conda/envs/python/lib/python3.7/site-packages (from tensorboard<2.3.0,>=2.2.0->tensorflow==2.2.0) (2.28.1)\n",
      "Collecting rsa<5,>=3.1.4\n",
      "  Using cached rsa-4.9-py3-none-any.whl (34 kB)\n",
      "Collecting cachetools<5.0,>=2.0.0\n",
      "  Using cached cachetools-4.2.4-py3-none-any.whl (10 kB)\n",
      "Requirement already satisfied: pyasn1-modules>=0.2.1 in /home/jupyterlab/conda/envs/python/lib/python3.7/site-packages (from google-auth<2,>=1.6.3->tensorboard<2.3.0,>=2.2.0->tensorflow==2.2.0) (0.2.8)\n",
      "Collecting requests-oauthlib>=0.7.0\n",
      "  Using cached requests_oauthlib-1.3.1-py2.py3-none-any.whl (23 kB)\n",
      "Requirement already satisfied: importlib-metadata>=4.4 in /home/jupyterlab/conda/envs/python/lib/python3.7/site-packages (from markdown>=2.6.8->tensorboard<2.3.0,>=2.2.0->tensorflow==2.2.0) (4.11.4)\n",
      "Requirement already satisfied: charset-normalizer<3,>=2 in /home/jupyterlab/conda/envs/python/lib/python3.7/site-packages (from requests<3,>=2.21.0->tensorboard<2.3.0,>=2.2.0->tensorflow==2.2.0) (2.1.1)\n",
      "Requirement already satisfied: certifi>=2017.4.17 in /home/jupyterlab/conda/envs/python/lib/python3.7/site-packages (from requests<3,>=2.21.0->tensorboard<2.3.0,>=2.2.0->tensorflow==2.2.0) (2022.9.14)\n",
      "Requirement already satisfied: urllib3<1.27,>=1.21.1 in /home/jupyterlab/conda/envs/python/lib/python3.7/site-packages (from requests<3,>=2.21.0->tensorboard<2.3.0,>=2.2.0->tensorflow==2.2.0) (1.26.11)\n",
      "Requirement already satisfied: idna<4,>=2.5 in /home/jupyterlab/conda/envs/python/lib/python3.7/site-packages (from requests<3,>=2.21.0->tensorboard<2.3.0,>=2.2.0->tensorflow==2.2.0) (3.4)\n",
      "Requirement already satisfied: MarkupSafe>=2.1.1 in /home/jupyterlab/conda/envs/python/lib/python3.7/site-packages (from werkzeug>=0.11.15->tensorboard<2.3.0,>=2.2.0->tensorflow==2.2.0) (2.1.1)\n",
      "Requirement already satisfied: typing-extensions>=3.6.4 in /home/jupyterlab/conda/envs/python/lib/python3.7/site-packages (from importlib-metadata>=4.4->markdown>=2.6.8->tensorboard<2.3.0,>=2.2.0->tensorflow==2.2.0) (4.3.0)\n",
      "Requirement already satisfied: zipp>=0.5 in /home/jupyterlab/conda/envs/python/lib/python3.7/site-packages (from importlib-metadata>=4.4->markdown>=2.6.8->tensorboard<2.3.0,>=2.2.0->tensorflow==2.2.0) (3.8.1)\n",
      "Requirement already satisfied: pyasn1<0.5.0,>=0.4.6 in /home/jupyterlab/conda/envs/python/lib/python3.7/site-packages (from pyasn1-modules>=0.2.1->google-auth<2,>=1.6.3->tensorboard<2.3.0,>=2.2.0->tensorflow==2.2.0) (0.4.8)\n",
      "Collecting oauthlib>=3.0.0\n",
      "  Downloading oauthlib-3.2.1-py3-none-any.whl (151 kB)\n",
      "\u001b[2K     \u001b[90m━━━━━━━━━━━━━━━━━━━━━━━━━━━━━━━━━━━━━━\u001b[0m \u001b[32m151.7/151.7 kB\u001b[0m \u001b[31m23.5 MB/s\u001b[0m eta \u001b[36m0:00:00\u001b[0m\n",
      "\u001b[?25hInstalling collected packages: tensorflow-estimator, tensorboard-plugin-wit, scipy, rsa, opt-einsum, oauthlib, h5py, gast, cachetools, astunparse, requests-oauthlib, google-auth, google-auth-oauthlib, tensorboard, tensorflow\n",
      "  Attempting uninstall: tensorflow-estimator\n",
      "    Found existing installation: tensorflow-estimator 1.14.0\n",
      "    Uninstalling tensorflow-estimator-1.14.0:\n",
      "      Successfully uninstalled tensorflow-estimator-1.14.0\n",
      "  Attempting uninstall: scipy\n",
      "    Found existing installation: scipy 1.7.3\n",
      "    Uninstalling scipy-1.7.3:\n",
      "      Successfully uninstalled scipy-1.7.3\n",
      "  Attempting uninstall: h5py\n",
      "    Found existing installation: h5py 2.8.0\n",
      "    Uninstalling h5py-2.8.0:\n",
      "      Successfully uninstalled h5py-2.8.0\n",
      "  Attempting uninstall: gast\n",
      "    Found existing installation: gast 0.5.3\n",
      "    Uninstalling gast-0.5.3:\n",
      "      Successfully uninstalled gast-0.5.3\n",
      "  Attempting uninstall: tensorboard\n",
      "    Found existing installation: tensorboard 1.14.0\n",
      "    Uninstalling tensorboard-1.14.0:\n",
      "      Successfully uninstalled tensorboard-1.14.0\n",
      "  Attempting uninstall: tensorflow\n",
      "    Found existing installation: tensorflow 1.14.0\n",
      "    Uninstalling tensorflow-1.14.0:\n",
      "      Successfully uninstalled tensorflow-1.14.0\n",
      "Successfully installed astunparse-1.6.3 cachetools-4.2.4 gast-0.3.3 google-auth-1.35.0 google-auth-oauthlib-0.4.6 h5py-2.10.0 oauthlib-3.2.1 opt-einsum-3.3.0 requests-oauthlib-1.3.1 rsa-4.9 scipy-1.4.1 tensorboard-2.2.2 tensorboard-plugin-wit-1.8.1 tensorflow-2.2.0 tensorflow-estimator-2.2.0\n",
      "Requirement already satisfied: pillow==8.1.0 in /home/jupyterlab/conda/envs/python/lib/python3.7/site-packages (8.1.0)\n"
     ]
    }
   ],
   "source": [
    "!pip install grpcio==1.24.3\n",
    "!pip install tensorflow==2.2.0\n",
    "!pip install pillow==8.1.0"
   ]
  },
  {
   "cell_type": "markdown",
   "metadata": {},
   "source": [
    "<b>Notice:</b> This notebook has been created with TensorFlow version 2.2, and might not work with other versions. Therefore we check:\n"
   ]
  },
  {
   "cell_type": "code",
   "execution_count": 3,
   "metadata": {},
   "outputs": [],
   "source": [
    "import tensorflow as tf\n",
    "from IPython.display import Markdown, display\n",
    "\n",
    "def printmd(string):\n",
    "    display(Markdown('# <span style=\"color:red\">'+string+'</span>'))\n",
    "\n",
    "\n",
    "if not tf.__version__ == '2.2.0':\n",
    "    printmd('<<<<<!!!!! ERROR !!!! please upgrade to TensorFlow 2.2.0, or restart your Kernel (Kernel->Restart & Clear Output)>>>>>')"
   ]
  },
  {
   "cell_type": "markdown",
   "metadata": {},
   "source": [
    "Now, we load in all the packages that we use to create the net including the TensorFlow package:\n"
   ]
  },
  {
   "cell_type": "code",
   "execution_count": 4,
   "metadata": {},
   "outputs": [],
   "source": [
    "import tensorflow as tf\n",
    "import numpy as np\n",
    "\n",
    "from PIL import Image\n",
    "from utils import tile_raster_images\n",
    "import matplotlib.pyplot as plt\n",
    "%matplotlib inline"
   ]
  },
  {
   "cell_type": "markdown",
   "metadata": {},
   "source": [
    "<hr>\n"
   ]
  },
  {
   "cell_type": "markdown",
   "metadata": {},
   "source": [
    "<a id=\"ref2\"></a>\n",
    "\n",
    "<h3>RBM layers</h3>\n",
    "\n",
    "An RBM has two layers. The first layer of the RBM is called the <b>visible</b> (or input layer). Imagine that our toy example, has only vectors with 7 values, so the visible layer must have $V=7$ input nodes.\n",
    "The second layer is the <b>hidden</b> layer, which has $H$ neurons in our case. Each hidden node takes on values of either 0 or 1 (i.e., $h_i = 1$ or $h_i$ = 0), with a probability that is a logistic function of the inputs it receives from the other $V$ visible units, called for example, $p(h_i = 1)$. For our toy sample, we'll use 2 nodes in the hidden layer, so $H = 2$.\n",
    "\n",
    "<center><img src=\"https://ibm.box.com/shared/static/eu26opvcefgls6vnwuo29uwp0nudmokh.png\" alt=\"RBM Model\" style=\"width: 400px;\"></center>\n"
   ]
  },
  {
   "cell_type": "markdown",
   "metadata": {},
   "source": [
    "Each node in the first layer also has a <b>bias</b>. We will denote the bias as $v\\_{bias}$, and this single value is shared among the $V$ visible units.\n",
    "\n",
    "The <b>bias</b> of the second is defined similarly as $h\\_{bias}$, and this single value among the $H$ hidden units.\n"
   ]
  },
  {
   "cell_type": "code",
   "execution_count": 5,
   "metadata": {},
   "outputs": [
    {
     "name": "stderr",
     "output_type": "stream",
     "text": [
      "2022-10-08 09:30:23.708449: W tensorflow/stream_executor/platform/default/dso_loader.cc:55] Could not load dynamic library 'libcuda.so.1'; dlerror: libcuda.so.1: cannot open shared object file: No such file or directory\n",
      "2022-10-08 09:30:23.708525: E tensorflow/stream_executor/cuda/cuda_driver.cc:313] failed call to cuInit: UNKNOWN ERROR (303)\n",
      "2022-10-08 09:30:23.708569: I tensorflow/stream_executor/cuda/cuda_diagnostics.cc:156] kernel driver does not appear to be running on this host (jupyterlab-ruhul): /proc/driver/nvidia/version does not exist\n",
      "2022-10-08 09:30:23.710222: I tensorflow/core/platform/cpu_feature_guard.cc:143] Your CPU supports instructions that this TensorFlow binary was not compiled to use: AVX2 AVX512F FMA\n",
      "2022-10-08 09:30:23.719663: I tensorflow/core/platform/profile_utils/cpu_utils.cc:102] CPU Frequency: 2593905000 Hz\n",
      "2022-10-08 09:30:23.720309: I tensorflow/compiler/xla/service/service.cc:168] XLA service 0x7f824c000b20 initialized for platform Host (this does not guarantee that XLA will be used). Devices:\n",
      "2022-10-08 09:30:23.720351: I tensorflow/compiler/xla/service/service.cc:176]   StreamExecutor device (0): Host, Default Version\n"
     ]
    }
   ],
   "source": [
    "v_bias = tf.Variable(tf.zeros([7]), tf.float32)\n",
    "h_bias = tf.Variable(tf.zeros([2]), tf.float32)"
   ]
  },
  {
   "cell_type": "markdown",
   "metadata": {},
   "source": [
    "We have to define weights among the input layer and hidden layer nodes. In the weight matrix, the number of rows are equal to the input nodes, and the number of columns are equal to the output nodes. We define a tensor $\\mathbf{W}$ of shape = (7,2), where the number of visible neurons = 7, and the number of hidden neurons = 2.\n"
   ]
  },
  {
   "cell_type": "code",
   "execution_count": 6,
   "metadata": {},
   "outputs": [],
   "source": [
    "W = tf.constant(np.random.normal(loc=0.0, scale=1.0, size=(7, 2)).astype(np.float32))"
   ]
  },
  {
   "cell_type": "markdown",
   "metadata": {},
   "source": [
    "<hr>\n"
   ]
  },
  {
   "cell_type": "markdown",
   "metadata": {},
   "source": [
    "<a id=\"ref3\"></a>\n",
    "\n",
    "<h3>What RBM can do after training?</h3>\n",
    "Think of RBM as a model that has been trained based on images of a dataset of many SUV and sedan cars. Also, imagine that the RBM network has only two hidden nodes, where one node encodes the weight and, and the other encodes the size.  \n",
    "In a sense, the different configurations represent different cars, where one is an SUV and the other is Sedan.  In a training process, through many forward and backward passes, the RBM adjust its weights to send a stronger signal to either the SUV node (0, 1) or the sedan node (1, 0) in the hidden layer, given the pixels of images. Now, given an SUV in hidden layer, which distribution of pixels should we expect? RBM can give you 2 things. First, it encodes your images in hidden layer. Second, it gives you the probability of observing a case, given some hidden values.\n",
    "\n",
    "<h3>The Inference Process</h3>\n",
    "\n",
    "RBM has two phases:\n",
    "\n",
    "<ul>\n",
    "    <li>Forward Pass</li>  \n",
    "    <li>Backward Pass or Reconstruction</li>\n",
    "</ul>\n",
    "\n",
    "<b>Phase 1) Forward pass:</b>\n",
    "\n",
    "Input one training sample (one image) $\\mathbf{x}$ through all visible nodes, and pass it to all hidden nodes. Processing happens in each node in the hidden layer. This computation begins by making stochastic decisions about whether to transmit that input or not (i.e. to determine the state of each hidden layer).  First, the probability vector is computed using the input feature vector $\\mathbf{x}$, the weight matrix $\\mathbf{W}$, and the bias term $h\\_{bias}$, as\n",
    "\n",
    "$$p({h_j}|\\mathbf x)= \\sigma( \\sum\\_{i=1}^V W\\_{ij} x_i + h\\_{bias} )$$,\n",
    "\n",
    "where $\\sigma(z) = (1+e^{-z})^{-1}$ is the logistic function.\n",
    "\n",
    "So, what does $p({h_j})$ represent? It is the <b>probability distribution</b> of the hidden units. That is, RBM uses inputs $x_i$ to make predictions about hidden node activations. For example, imagine that the hidden node activation values are \\[0.51 0.84] for the first training item. It tells you that the conditional probability for each hidden neuron for Phase 1 is:\n",
    "\n",
    "$$p(h\\_{1} = 1|\\mathbf{v}) = 0.51$$\n",
    "$$p(h\\_{2} = 1|\\mathbf{v}) = 0.84$$\n",
    "\n",
    "As a result, for each row in the training set, vector of probabilities is generated.  In TensorFlow, this is referred to as a `tensor` with a shape of (1,2).\n",
    "\n",
    "We then turn unit $j$ with probability $p(h\\_{j}|\\mathbf{v})$, and turn it off with probability $1 - p(h\\_{j}|\\mathbf{v})$ by generating a uniform random number vector $\\mathbf{\\xi}$, and comparing it to the activation probability as\n",
    "\n",
    "<center>If $\\xi_j>p(h_{j}|\\mathbf{v})$, then $h_j=1$, else $h_j=0$.</center>\n",
    "\n",
    "Therefore, the conditional probability of a configuration of $\\mathbf{h}$ given $\\mathbf{v}$ (for a training sample) is:\n",
    "\n",
    "$$p(\\mathbf{h} \\mid \\mathbf{v}) = \\prod\\_{j=1}^H p(h_j \\mid \\mathbf{v})$$\n",
    "\n",
    "where $H$ is the number of hidden units.\n"
   ]
  },
  {
   "cell_type": "markdown",
   "metadata": {},
   "source": [
    "Before we go further, let's look at a toy example for one case out of all input. Assume that we have a trained RBM, and a very simple input vector, such as \\[1.0, 0.0, 0.0, 1.0, 0.0, 0.0, 0.0].\\\n",
    "Let's see what the output of forward pass would look like:\n"
   ]
  },
  {
   "cell_type": "code",
   "execution_count": 7,
   "metadata": {},
   "outputs": [
    {
     "name": "stdout",
     "output_type": "stream",
     "text": [
      "Input:  tf.Tensor([[1. 0. 0. 1. 0. 0. 0.]], shape=(1, 7), dtype=float32)\n",
      "hb:  tf.Tensor([0.1 0.1], shape=(2,), dtype=float32)\n",
      "w:  tf.Tensor(\n",
      "[[-7.3523510e-01  1.8017709e+00]\n",
      " [-6.4655876e-01 -2.4438981e-04]\n",
      " [ 1.0808978e+00  9.6390003e-01]\n",
      " [ 5.7690960e-01  6.5401649e-01]\n",
      " [ 7.2179538e-01 -1.0940677e-01]\n",
      " [ 5.5636263e-01  9.8848599e-01]\n",
      " [-1.6071363e-01 -1.8209664e+00]], shape=(7, 2), dtype=float32)\n",
      "p(h|v):  tf.Tensor([[0.48542276 0.92796135]], shape=(1, 2), dtype=float32)\n",
      "h0 states: tf.Tensor([[1. 1.]], shape=(1, 2), dtype=float32)\n"
     ]
    }
   ],
   "source": [
    "X = tf.constant([[1.0, 0.0, 0.0, 1.0, 0.0, 0.0, 0.0]], tf.float32)\n",
    "\n",
    "v_state = X\n",
    "print (\"Input: \", v_state)\n",
    "\n",
    "h_bias = tf.constant([0.1, 0.1])\n",
    "print (\"hb: \", h_bias)\n",
    "print (\"w: \", W)\n",
    "\n",
    "# Calculate the probabilities of turning the hidden units on:\n",
    "h_prob = tf.nn.sigmoid(tf.matmul(v_state, W) + h_bias)  #probabilities of the hidden units\n",
    "print (\"p(h|v): \", h_prob)\n",
    "\n",
    "# Draw samples from the distribution:\n",
    "h_state = tf.nn.relu(tf.sign(h_prob - tf.random.uniform(tf.shape(h_prob)))) #states\n",
    "print (\"h0 states:\", h_state)"
   ]
  },
  {
   "cell_type": "markdown",
   "metadata": {},
   "source": [
    "<b>Phase 2) Backward Pass (Reconstruction):</b>\n",
    "The RBM reconstructs data by making several forward and backward passes between the visible and hidden layers.\n",
    "\n",
    "So, in the second phase (i.e. reconstruction phase), the samples from the hidden layer (i.e. $\\mathbf h$) becomes the input in the backward pass. The same weight matrix and visible layer biases are used to passed to the sigmoid function. The reproduced output is a reconstruction which is an approximation of the original input.\n"
   ]
  },
  {
   "cell_type": "code",
   "execution_count": 8,
   "metadata": {},
   "outputs": [
    {
     "name": "stdout",
     "output_type": "stream",
     "text": [
      "b:  tf.Tensor([0.1 0.2 0.1 0.1 0.1 0.2 0.1], shape=(7,), dtype=float32)\n",
      "p(vi∣h):  tf.Tensor(\n",
      "[[0.7625183  0.3901211  0.8951817  0.7909938  0.6709287  0.8513019\n",
      "  0.13219602]], shape=(1, 7), dtype=float32)\n",
      "v probability states:  tf.Tensor([[1. 0. 1. 1. 1. 1. 1.]], shape=(1, 7), dtype=float32)\n"
     ]
    }
   ],
   "source": [
    "vb = tf.constant([0.1, 0.2, 0.1, 0.1, 0.1, 0.2, 0.1])\n",
    "print (\"b: \", vb)\n",
    "v_prob = tf.nn.sigmoid(tf.matmul(h_state, tf.transpose(W)) + vb)\n",
    "print (\"p(vi∣h): \", v_prob)\n",
    "v_state = tf.nn.relu(tf.sign(v_prob - tf.random.uniform(tf.shape(v_prob))))\n",
    "print (\"v probability states: \", v_state)"
   ]
  },
  {
   "cell_type": "markdown",
   "metadata": {},
   "source": [
    "RBM learns a probability distribution over the input, and then, after being trained, the RBM can generate new samples from the learned probability distribution. As you know, <b>probability distribution</b>, is a mathematical function that provides the probabilities of occurrence of different possible outcomes in an experiment.\n",
    "\n",
    "The (conditional) probability distribution over the visible units v is given by\n",
    "\n",
    "$$p(\\mathbf{v} \\mid \\mathbf{h}) = \\prod\\_{i=1}^V p(v_i \\mid \\mathbf{h}),$$\n",
    "\n",
    "where,\n",
    "\n",
    "$$p(v_i \\mid \\mathbf{h}) = \\sigma\\left(\\sum\\_{j=1}^H W\\_{ji} h_j + v\\_{bias} \\right)$$\n",
    "\n",
    "so, given current state of hidden units and weights, what is the probability of generating \\[1. 0. 0. 1. 0. 0. 0.] in reconstruction phase, based on the above <b>probability distribution</b> function?\n"
   ]
  },
  {
   "cell_type": "code",
   "execution_count": 9,
   "metadata": {},
   "outputs": [
    {
     "name": "stdout",
     "output_type": "stream",
     "text": [
      "input X: [[1. 0. 0. 1. 0. 0. 0.]]\n",
      "probablity vector: [0.7625183  0.3901211  0.8951817  0.7909938  0.6709287  0.8513019\n",
      " 0.13219602]\n",
      "probability of generating X:  0.0016372727\n"
     ]
    }
   ],
   "source": [
    "inp = X\n",
    "print(\"input X:\" , inp.numpy())\n",
    "\n",
    "print(\"probablity vector:\" , v_prob[0].numpy())\n",
    "v_probability = 1\n",
    "\n",
    "for elm, p in zip(inp[0],v_prob[0]) :\n",
    "    if elm ==1:\n",
    "        v_probability *= p\n",
    "    else:\n",
    "        v_probability *= (1-p)\n",
    "\n",
    "print(\"probability of generating X: \" , v_probability.numpy())"
   ]
  },
  {
   "cell_type": "markdown",
   "metadata": {},
   "source": [
    "How similar are vectors $\\mathbf{x}$ and $\\mathbf{v}$? Of course, the reconstructed values most likely will not look anything like the input vector, because our network has not been trained yet. Our objective is to train the model in such a way that the input vector and reconstructed vector to be same. Therefore, based on how different the input values look to the ones that we just reconstructed, the weights are adjusted.\n"
   ]
  },
  {
   "cell_type": "markdown",
   "metadata": {},
   "source": [
    "<hr>\n"
   ]
  },
  {
   "cell_type": "markdown",
   "metadata": {},
   "source": [
    "<h2>MNIST</h2>\n"
   ]
  },
  {
   "cell_type": "markdown",
   "metadata": {},
   "source": [
    "We will be using the MNIST dataset to practice the usage of RBMs. The following cell loads the MNIST dataset.\n"
   ]
  },
  {
   "cell_type": "code",
   "execution_count": 10,
   "metadata": {},
   "outputs": [
    {
     "name": "stdout",
     "output_type": "stream",
     "text": [
      "Downloading data from https://storage.googleapis.com/tensorflow/tf-keras-datasets/mnist.npz\n",
      "11493376/11490434 [==============================] - 0s 0us/step\n"
     ]
    }
   ],
   "source": [
    "#loading training and test data\n",
    "mnist = tf.keras.datasets.mnist\n",
    "(trX, trY), (teX, teY) = mnist.load_data()\n",
    "\n",
    "# showing an example of the Flatten class and operation\n",
    "from tensorflow.keras.layers import Flatten\n",
    "flatten = Flatten(dtype='float32')\n",
    "trX = flatten(trX/255.0)\n",
    "trY = flatten(trY/255.0)"
   ]
  },
  {
   "cell_type": "markdown",
   "metadata": {},
   "source": [
    "Lets look at the dimension of the images.\n"
   ]
  },
  {
   "cell_type": "markdown",
   "metadata": {},
   "source": [
    "MNIST images have 784 pixels, so the visible layer must have 784 input nodes.  For our case, we'll use 50 nodes in the hidden layer, so i = 50.\n"
   ]
  },
  {
   "cell_type": "code",
   "execution_count": 11,
   "metadata": {
    "tags": []
   },
   "outputs": [],
   "source": [
    "vb = tf.Variable(tf.zeros([784]), tf.float32)\n",
    "hb = tf.Variable(tf.zeros([50]), tf.float32)"
   ]
  },
  {
   "cell_type": "markdown",
   "metadata": {},
   "source": [
    "Let $\\mathbf W$ be the Tensor of 784x50 (784 - number of visible neurons, 50 - number of hidden neurons) that represents weights between the neurons.\n"
   ]
  },
  {
   "cell_type": "code",
   "execution_count": 12,
   "metadata": {
    "tags": []
   },
   "outputs": [],
   "source": [
    "W = tf.Variable(tf.zeros([784,50]), tf.float32)"
   ]
  },
  {
   "cell_type": "markdown",
   "metadata": {},
   "source": [
    "Lets define the visible layer:\n"
   ]
  },
  {
   "cell_type": "code",
   "execution_count": 13,
   "metadata": {},
   "outputs": [
    {
     "data": {
      "text/plain": [
       "<tf.Tensor: shape=(1, 50), dtype=float32, numpy=\n",
       "array([[0., 0., 0., 0., 0., 0., 0., 0., 0., 0., 0., 0., 0., 0., 0., 0.,\n",
       "        0., 0., 0., 0., 0., 0., 0., 0., 0., 0., 0., 0., 0., 0., 0., 0.,\n",
       "        0., 0., 0., 0., 0., 0., 0., 0., 0., 0., 0., 0., 0., 0., 0., 0.,\n",
       "        0., 0.]], dtype=float32)>"
      ]
     },
     "execution_count": 13,
     "metadata": {},
     "output_type": "execute_result"
    }
   ],
   "source": [
    "v0_state = tf.Variable(tf.zeros([784]), tf.float32)\n",
    "\n",
    "#testing to see if the matrix product works\n",
    "tf.matmul( [v0_state], W)"
   ]
  },
  {
   "cell_type": "markdown",
   "metadata": {},
   "source": [
    "Now, we can define hidden layer:\n"
   ]
  },
  {
   "cell_type": "code",
   "execution_count": 14,
   "metadata": {},
   "outputs": [
    {
     "name": "stdout",
     "output_type": "stream",
     "text": [
      "h0_state shape:  tf.Tensor([ 1 50], shape=(2,), dtype=int32)\n",
      "first 15 hidden states:  tf.Tensor([0. 0. 1. 1. 0. 1. 1. 1. 0. 1. 1. 0. 0. 1. 0.], shape=(15,), dtype=float32)\n"
     ]
    }
   ],
   "source": [
    "#computing the hidden nodes probability vector and checking shape\n",
    "h0_prob = tf.nn.sigmoid(tf.matmul([v0_state], W) + hb)  #probabilities of the hidden units\n",
    "print(\"h0_state shape: \" , tf.shape(h0_prob))\n",
    "\n",
    "#defining a function to return only the generated hidden states \n",
    "def hidden_layer(v0_state, W, hb):\n",
    "    h0_prob = tf.nn.sigmoid(tf.matmul([v0_state], W) + hb)  #probabilities of the hidden units\n",
    "    h0_state = tf.nn.relu(tf.sign(h0_prob - tf.random.uniform(tf.shape(h0_prob)))) #sample_h_given_X\n",
    "    return h0_state\n",
    "\n",
    "\n",
    "h0_state = hidden_layer(v0_state, W, hb)\n",
    "print(\"first 15 hidden states: \", h0_state[0][0:15])"
   ]
  },
  {
   "cell_type": "markdown",
   "metadata": {},
   "source": [
    "Now, we define reconstruction part:\n"
   ]
  },
  {
   "cell_type": "code",
   "execution_count": 15,
   "metadata": {},
   "outputs": [
    {
     "name": "stdout",
     "output_type": "stream",
     "text": [
      "hidden state shape:  (1, 50)\n",
      "v0 state shape:   (784,)\n",
      "v1 state shape:   (784,)\n"
     ]
    }
   ],
   "source": [
    "def reconstructed_output(h0_state, W, vb):\n",
    "    v1_prob = tf.nn.sigmoid(tf.matmul(h0_state, tf.transpose(W)) + vb) \n",
    "    v1_state = tf.nn.relu(tf.sign(v1_prob - tf.random.uniform(tf.shape(v1_prob)))) #sample_v_given_h\n",
    "    return v1_state[0]\n",
    "\n",
    "v1_state = reconstructed_output(h0_state, W, vb)\n",
    "print(\"hidden state shape: \", h0_state.shape)\n",
    "print(\"v0 state shape:  \", v0_state.shape)\n",
    "print(\"v1 state shape:  \", v1_state.shape)"
   ]
  },
  {
   "cell_type": "markdown",
   "metadata": {},
   "source": [
    "<h3>What is the objective function?</h3>\n",
    "\n",
    "<b>Goal</b>: Maximize the likelihood of our data being drawn from that distribution\n",
    "\n",
    "<b>Calculate error:</b>\\\n",
    "In each epoch, we compute the \"error\" as a sum of the squared difference between step 1 and step n,\n",
    "e.g the error shows the difference between the data and its reconstruction.\n",
    "\n",
    "<b>Note:</b> tf.reduce_mean computes the mean of elements across dimensions of a tensor.\n"
   ]
  },
  {
   "cell_type": "code",
   "execution_count": 16,
   "metadata": {},
   "outputs": [
    {
     "name": "stdout",
     "output_type": "stream",
     "text": [
      "error 0.4987245\n"
     ]
    }
   ],
   "source": [
    "def error(v0_state, v1_state):\n",
    "    return tf.reduce_mean(tf.square(v0_state - v1_state))\n",
    "\n",
    "err = tf.reduce_mean(tf.square(v0_state - v1_state))\n",
    "print(\"error\" , err.numpy())"
   ]
  },
  {
   "cell_type": "markdown",
   "metadata": {},
   "source": [
    "<a id=\"ref4\"></a>\n",
    "\n",
    "<h3>Training the Model</h3>\n",
    "\n",
    "As mentioned, we want to give a high probability to the input data we train on. So, in order to train an RBM, we have to maximize the product of probabilities assigned to all rows $\\mathbf{v}$ (images) in the training set $\\mathbf{V}$ (a matrix, where each row of it is treated as a visible vector $\\mathbf{v}$)\n",
    "\n",
    "$$\\arg \\max_W \\prod\\_{\\mathbf{v}\\in\\mathbf{V}\\_T} p(\\mathbf{v})$$\n",
    "\n",
    "which is equivalent to maximizing the expectation of the log probability, given as\n",
    "\n",
    "$$\\arg\\max_W\\left\\[ \\mathbb{E} \\left(\\prod\\_{\\mathbf v\\in \\mathbf V}\\text{log} \\left(p(\\mathbf v)\\right) \\right) \\right].$$\n",
    "\n",
    "So, we have to update the weights $W\\_{ij}$  to increase $p(\\mathbf{v})$ for all $\\mathbf{v}$ in our training data during training. So we have to calculate the derivative:\n",
    "\n",
    "$$\\frac{\\partial \\log p(\\mathbf v)}{\\partial W\\_{ij}}$$\n",
    "\n",
    "This cannot be easily done by typical <b>gradient descent (SGD)</b>, so we can use another approach, which has 2 steps:\n",
    "\n",
    "<ol>\n",
    "    <li>Gibbs Sampling</li>\n",
    "    <li>Contrastive Divergence</li>\n",
    "</ol>    \n",
    "\n",
    "<h3>Gibbs Sampling</h3>   \n",
    "\n",
    "<h4>Gibbs Sampling Step 1</h4> \n",
    "Given an input vector $\\mathbf{v}$, we are using $p(\\mathbf{h}|\\mathbf{v})$ to predict the hidden values $\\mathbf{h}$. \n",
    "  $$p({h_j}|\\mathbf v)= \\sigma\\left(\\sum_{i=1}^V W_{ij} v_i + h_{bias} \\right)$$\n",
    "The samples are generated from this distribution by generating the uniform random variate vector $\\mathbf{\\xi} \\sim U[0,1]$ of length $H$ and comparing to the computed probabilities as\n",
    "\n",
    "<center>If $\\xi_j>p(h_{j}|\\mathbf{v})$, then $h_j=1$, else $h_j=0$.</center>\n",
    "\n",
    "<h4>Gibbs Sampling Step 2</h4> \n",
    "Then, knowing the hidden values, we use $p(\\mathbf v| \\mathbf h)$ for reconstructing of new input values v. \n",
    "\n",
    "$$p({v_i}|\\mathbf h)= \\sigma\\left(\\sum\\_{j=1}^H W^{T}*{ij} h_j + v*{bias} \\right)$$\n",
    "\n",
    "The samples are generated from this distribution by generating a uniform random variate vector $\\mathbf{\\xi} \\sim U\\[0,1]$ of length $V$ and comparing to the computed probabilities as\n",
    "\n",
    "<center>If $\\xi_i>p(v_{i}|\\mathbf{h})$, then $v_i=1$, else $v_i=0$.</center>\n",
    "\n",
    "Let vectors $\\mathbf v_k$ and $\\mathbf h_k$ be for the $k$th iteration.  In general, the $kth$ state is generrated as:\n",
    "\n",
    "<b>Iteration</b> $k$:\n",
    "\n",
    "$$\\mathbf v\\_{k-1} \\Rightarrow p(\\mathbf h\\_{k-1}|\\mathbf v\\_{k-1})\\Rightarrow \\mathbf h\\_{k-1}\\Rightarrow p(\\mathbf v\\_{k}|\\mathbf h\\_{k-1})\\Rightarrow \\mathbf v_k$$\n",
    "\n",
    "<h3>Contrastive Divergence (CD-k)</h3>\n",
    "The update of the weight matrix is done during the Contrastive Divergence step. \n",
    "\n",
    "Vectors v0 and vk are used to calculate the activation probabilities for hidden values h0 and hk. The difference between the outer products of those probabilities with input vectors v0 and vk results in the update matrix:\n",
    "\n",
    "$$\\Delta \\mathbf W_k =\\mathbf v_k \\otimes \\mathbf h_k - \\mathbf v\\_{k-1} \\otimes \\mathbf h\\_{k-1}$$\n",
    "\n",
    "Contrastive Divergence is actually matrix of values that is computed and used to adjust values of the $\\mathbf W$ matrix. Changing $\\mathbf W$ incrementally leads to training of the  $\\mathbf W$ values. Then, on each step (epoch), $\\mathbf W$ is updated using the following:\n",
    "\n",
    "$$\\mathbf W_k = \\mathbf W\\_{k-1} + \\alpha \\* \\Delta \\mathbf W_k$$\n",
    "\n",
    "Reconstruction steps:\n",
    "\n",
    "<ul>\n",
    "    <li> Get one data point from data set, like <i>x</i>, and pass it through the following steps:</li>\n",
    "\n",
    "<b>Iteration</b> $k=1$:\n",
    "\n",
    "Sampling (starting with input image)\n",
    "$$\\mathbf x = \\mathbf v\\_0 \\Rightarrow p(\\mathbf h\\_0|\\mathbf v\\_0)\\Rightarrow \\mathbf h\\_0 \\Rightarrow p(\\mathbf v\\_1|\\mathbf h\\_0)\\Rightarrow \\mathbf v\\_1$$\\\n",
    "followed by the CD-k step\n",
    "$$\\Delta \\mathbf W\\_1 =\\mathbf v\\_1 \\otimes \\mathbf h\\_1 - \\mathbf v\\_{0} \\otimes \\mathbf h\\_{0}$$\\\n",
    "$$\\mathbf W\\_1 = \\mathbf W\\_{0} + \\alpha \\* \\Delta \\mathbf W\\_1$$\n",
    "\n",
    "<li> $\\mathbf v_1$ is the reconstruction of $\\mathbf x$ sent to the next iteration).</li>\n",
    "\n",
    "<b>Iteration</b> $k=2$:\n",
    "\n",
    "Sampling (starting with $\\mathbf v\\_1$)\n",
    "\n",
    "$$\\mathbf v\\_1 \\Rightarrow p(\\mathbf h\\_1|\\mathbf v\\_1)\\Rightarrow \\mathbf h\\_1\\Rightarrow p(\\mathbf v\\_2|\\mathbf h\\_1)\\Rightarrow \\mathbf v\\_2$$\n",
    "\n",
    "followed by the CD-k step\n",
    "$$\\Delta \\mathbf W\\_2 =\\mathbf v\\_2 \\otimes \\mathbf h\\_2 - \\mathbf v\\_{1} \\otimes \\mathbf h\\_{1}$$\\\n",
    "$$\\mathbf W\\_2 = \\mathbf W\\_{1} + \\alpha \\* \\Delta \\mathbf W\\_2$$\n",
    "\n",
    "<li> $\\mathbf v_2$ is the reconstruction of $\\mathbf v_1$ sent to the next iteration).</li>    \n",
    "\n",
    "<b>Iteration</b> $k=K$:\n",
    "\n",
    "Sampling (starting with $\\mathbf v\\_{K-1}$)\n",
    "\n",
    "$$\\mathbf v\\_{K-1} \\Rightarrow p(\\mathbf h\\_{K-1}|\\mathbf v\\_{K-1})\\Rightarrow \\mathbf h\\_{K-1}\\Rightarrow p(\\mathbf v_K|\\mathbf h\\_{K-1})\\Rightarrow \\mathbf v_K$$\n",
    "\n",
    "followed by the CD-k step\n",
    "$$\\Delta \\mathbf W_K =\\mathbf v_K \\otimes \\mathbf h_K - \\mathbf v\\_{K-1} \\otimes \\mathbf h\\_{K-1}$$\\\n",
    "$$\\mathbf W_K = \\mathbf W\\_{K-1} + \\alpha \\* \\Delta \\mathbf W_K$$\n",
    "\n",
    "<b>What is $\\alpha$?</b>\\\n",
    "Here, alpha is some small step size, and is also known as the \"learning rate\".\n"
   ]
  },
  {
   "cell_type": "markdown",
   "metadata": {},
   "source": [
    "$K$ is adjustable, and good performance can be achieved with $K=1$, so that we just take one set of sampling steps per image.\n"
   ]
  },
  {
   "cell_type": "code",
   "execution_count": 17,
   "metadata": {},
   "outputs": [],
   "source": [
    "h1_prob = tf.nn.sigmoid(tf.matmul([v1_state], W) + hb)\n",
    "h1_state = tf.nn.relu(tf.sign(h1_prob - tf.random.uniform(tf.shape(h1_prob)))) #sample_h_given_X"
   ]
  },
  {
   "cell_type": "markdown",
   "metadata": {},
   "source": [
    "Lets look at the error of the first run:\n"
   ]
  },
  {
   "cell_type": "code",
   "execution_count": 18,
   "metadata": {},
   "outputs": [
    {
     "name": "stdout",
     "output_type": "stream",
     "text": [
      "error:  tf.Tensor(0.4987245, shape=(), dtype=float32)\n"
     ]
    }
   ],
   "source": [
    "print(\"error: \", error(v0_state, v1_state))"
   ]
  },
  {
   "cell_type": "code",
   "execution_count": 19,
   "metadata": {},
   "outputs": [
    {
     "name": "stdout",
     "output_type": "stream",
     "text": [
      "Epoch: 0 batch #: 1  of 300 sample #: 199 reconstruction error: 0.175178\n",
      "Epoch: 0 batch #: 2  of 300 sample #: 199 reconstruction error: 0.210852\n",
      "Epoch: 0 batch #: 3  of 300 sample #: 199 reconstruction error: 0.124836\n",
      "Epoch: 0 batch #: 4  of 300 sample #: 199 reconstruction error: 0.135970\n",
      "Epoch: 0 batch #: 5  of 300 sample #: 199 reconstruction error: 0.109597\n",
      "Epoch: 0 batch #: 6  of 300 sample #: 199 reconstruction error: 0.187954\n",
      "Epoch: 0 batch #: 7  of 300 sample #: 199 reconstruction error: 0.086203\n",
      "Epoch: 0 batch #: 8  of 300 sample #: 199 reconstruction error: 0.116913\n",
      "Epoch: 0 batch #: 9  of 300 sample #: 199 reconstruction error: 0.093144\n",
      "Epoch: 0 batch #: 10  of 300 sample #: 199 reconstruction error: 0.165142\n",
      "Epoch: 0 batch #: 11  of 300 sample #: 199 reconstruction error: 0.092516\n",
      "Epoch: 0 batch #: 12  of 300 sample #: 199 reconstruction error: 0.130663\n",
      "Epoch: 0 batch #: 13  of 300 sample #: 199 reconstruction error: 0.066605\n",
      "Epoch: 0 batch #: 14  of 300 sample #: 199 reconstruction error: 0.103022\n",
      "Epoch: 0 batch #: 15  of 300 sample #: 199 reconstruction error: 0.111200\n",
      "Epoch: 0 batch #: 16  of 300 sample #: 199 reconstruction error: 0.106412\n",
      "Epoch: 0 batch #: 17  of 300 sample #: 199 reconstruction error: 0.069075\n",
      "Epoch: 0 batch #: 18  of 300 sample #: 199 reconstruction error: 0.117419\n",
      "Epoch: 0 batch #: 19  of 300 sample #: 199 reconstruction error: 0.136319\n",
      "Epoch: 0 batch #: 20  of 300 sample #: 199 reconstruction error: 0.082838\n",
      "Epoch: 0 batch #: 21  of 300 sample #: 199 reconstruction error: 0.084897\n",
      "Epoch: 0 batch #: 22  of 300 sample #: 199 reconstruction error: 0.086687\n",
      "Epoch: 0 batch #: 23  of 300 sample #: 199 reconstruction error: 0.116262\n",
      "Epoch: 0 batch #: 24  of 300 sample #: 199 reconstruction error: 0.124469\n",
      "Epoch: 0 batch #: 25  of 300 sample #: 199 reconstruction error: 0.109734\n",
      "Epoch: 0 batch #: 26  of 300 sample #: 199 reconstruction error: 0.106555\n",
      "Epoch: 0 batch #: 27  of 300 sample #: 199 reconstruction error: 0.092677\n",
      "Epoch: 0 batch #: 28  of 300 sample #: 199 reconstruction error: 0.076477\n",
      "Epoch: 0 batch #: 29  of 300 sample #: 199 reconstruction error: 0.100616\n",
      "Epoch: 0 batch #: 30  of 300 sample #: 199 reconstruction error: 0.071416\n",
      "Epoch: 0 batch #: 31  of 300 sample #: 199 reconstruction error: 0.085406\n",
      "Epoch: 0 batch #: 32  of 300 sample #: 199 reconstruction error: 0.110585\n",
      "Epoch: 0 batch #: 33  of 300 sample #: 199 reconstruction error: 0.068461\n",
      "Epoch: 0 batch #: 34  of 300 sample #: 199 reconstruction error: 0.065276\n",
      "Epoch: 0 batch #: 35  of 300 sample #: 199 reconstruction error: 0.069428\n",
      "Epoch: 0 batch #: 36  of 300 sample #: 199 reconstruction error: 0.082883\n",
      "Epoch: 0 batch #: 37  of 300 sample #: 199 reconstruction error: 0.055786\n",
      "Epoch: 0 batch #: 38  of 300 sample #: 199 reconstruction error: 0.062575\n",
      "Epoch: 0 batch #: 39  of 300 sample #: 199 reconstruction error: 0.092947\n",
      "Epoch: 0 batch #: 40  of 300 sample #: 199 reconstruction error: 0.105787\n",
      "Epoch: 0 batch #: 41  of 300 sample #: 199 reconstruction error: 0.079979\n",
      "Epoch: 0 batch #: 42  of 300 sample #: 199 reconstruction error: 0.073633\n",
      "Epoch: 0 batch #: 43  of 300 sample #: 199 reconstruction error: 0.132416\n",
      "Epoch: 0 batch #: 44  of 300 sample #: 199 reconstruction error: 0.075977\n",
      "Epoch: 0 batch #: 45  of 300 sample #: 199 reconstruction error: 0.054975\n",
      "Epoch: 0 batch #: 46  of 300 sample #: 199 reconstruction error: 0.035508\n",
      "Epoch: 0 batch #: 47  of 300 sample #: 199 reconstruction error: 0.042636\n",
      "Epoch: 0 batch #: 48  of 300 sample #: 199 reconstruction error: 0.040792\n",
      "Epoch: 0 batch #: 49  of 300 sample #: 199 reconstruction error: 0.114704\n",
      "Epoch: 0 batch #: 50  of 300 sample #: 199 reconstruction error: 0.048882\n",
      "Epoch: 0 batch #: 51  of 300 sample #: 199 reconstruction error: 0.046169\n",
      "Epoch: 0 batch #: 52  of 300 sample #: 199 reconstruction error: 0.042828\n",
      "Epoch: 0 batch #: 53  of 300 sample #: 199 reconstruction error: 0.113555\n",
      "Epoch: 0 batch #: 54  of 300 sample #: 199 reconstruction error: 0.047707\n",
      "Epoch: 0 batch #: 55  of 300 sample #: 199 reconstruction error: 0.111075\n",
      "Epoch: 0 batch #: 56  of 300 sample #: 199 reconstruction error: 0.052829\n",
      "Epoch: 0 batch #: 57  of 300 sample #: 199 reconstruction error: 0.045123\n",
      "Epoch: 0 batch #: 58  of 300 sample #: 199 reconstruction error: 0.062777\n",
      "Epoch: 0 batch #: 59  of 300 sample #: 199 reconstruction error: 0.059627\n",
      "Epoch: 0 batch #: 60  of 300 sample #: 199 reconstruction error: 0.091829\n",
      "Epoch: 0 batch #: 61  of 300 sample #: 199 reconstruction error: 0.069062\n",
      "Epoch: 0 batch #: 62  of 300 sample #: 199 reconstruction error: 0.063892\n",
      "Epoch: 0 batch #: 63  of 300 sample #: 199 reconstruction error: 0.049744\n",
      "Epoch: 0 batch #: 64  of 300 sample #: 199 reconstruction error: 0.093721\n",
      "Epoch: 0 batch #: 65  of 300 sample #: 199 reconstruction error: 0.092102\n",
      "Epoch: 0 batch #: 66  of 300 sample #: 199 reconstruction error: 0.061196\n",
      "Epoch: 0 batch #: 67  of 300 sample #: 199 reconstruction error: 0.045698\n",
      "Epoch: 0 batch #: 68  of 300 sample #: 199 reconstruction error: 0.061858\n",
      "Epoch: 0 batch #: 69  of 300 sample #: 199 reconstruction error: 0.074999\n",
      "Epoch: 0 batch #: 70  of 300 sample #: 199 reconstruction error: 0.073319\n",
      "Epoch: 0 batch #: 71  of 300 sample #: 199 reconstruction error: 0.067341\n",
      "Epoch: 0 batch #: 72  of 300 sample #: 199 reconstruction error: 0.069478\n",
      "Epoch: 0 batch #: 73  of 300 sample #: 199 reconstruction error: 0.083342\n",
      "Epoch: 0 batch #: 74  of 300 sample #: 199 reconstruction error: 0.084025\n",
      "Epoch: 0 batch #: 75  of 300 sample #: 199 reconstruction error: 0.037894\n",
      "Epoch: 0 batch #: 76  of 300 sample #: 199 reconstruction error: 0.080322\n",
      "Epoch: 0 batch #: 77  of 300 sample #: 199 reconstruction error: 0.117040\n",
      "Epoch: 0 batch #: 78  of 300 sample #: 199 reconstruction error: 0.107155\n",
      "Epoch: 0 batch #: 79  of 300 sample #: 199 reconstruction error: 0.100084\n",
      "Epoch: 0 batch #: 80  of 300 sample #: 199 reconstruction error: 0.030360\n",
      "Epoch: 0 batch #: 81  of 300 sample #: 199 reconstruction error: 0.058802\n",
      "Epoch: 0 batch #: 82  of 300 sample #: 199 reconstruction error: 0.050929\n",
      "Epoch: 0 batch #: 83  of 300 sample #: 199 reconstruction error: 0.070878\n",
      "Epoch: 0 batch #: 84  of 300 sample #: 199 reconstruction error: 0.082164\n",
      "Epoch: 0 batch #: 85  of 300 sample #: 199 reconstruction error: 0.043142\n",
      "Epoch: 0 batch #: 86  of 300 sample #: 199 reconstruction error: 0.077696\n",
      "Epoch: 0 batch #: 87  of 300 sample #: 199 reconstruction error: 0.086745\n",
      "Epoch: 0 batch #: 88  of 300 sample #: 199 reconstruction error: 0.032784\n",
      "Epoch: 0 batch #: 89  of 300 sample #: 199 reconstruction error: 0.061174\n",
      "Epoch: 0 batch #: 90  of 300 sample #: 199 reconstruction error: 0.076470\n",
      "Epoch: 0 batch #: 91  of 300 sample #: 199 reconstruction error: 0.064693\n",
      "Epoch: 0 batch #: 92  of 300 sample #: 199 reconstruction error: 0.068620\n",
      "Epoch: 0 batch #: 93  of 300 sample #: 199 reconstruction error: 0.125842\n",
      "Epoch: 0 batch #: 94  of 300 sample #: 199 reconstruction error: 0.105111\n",
      "Epoch: 0 batch #: 95  of 300 sample #: 199 reconstruction error: 0.070727\n",
      "Epoch: 0 batch #: 96  of 300 sample #: 199 reconstruction error: 0.055911\n",
      "Epoch: 0 batch #: 97  of 300 sample #: 199 reconstruction error: 0.114479\n",
      "Epoch: 0 batch #: 98  of 300 sample #: 199 reconstruction error: 0.073218\n",
      "Epoch: 0 batch #: 99  of 300 sample #: 199 reconstruction error: 0.069030\n",
      "Epoch: 0 batch #: 100  of 300 sample #: 199 reconstruction error: 0.106792\n",
      "Epoch: 0 batch #: 101  of 300 sample #: 199 reconstruction error: 0.073332\n",
      "Epoch: 0 batch #: 102  of 300 sample #: 199 reconstruction error: 0.080551\n",
      "Epoch: 0 batch #: 103  of 300 sample #: 199 reconstruction error: 0.074083\n",
      "Epoch: 0 batch #: 104  of 300 sample #: 199 reconstruction error: 0.078871\n",
      "Epoch: 0 batch #: 105  of 300 sample #: 199 reconstruction error: 0.058780\n",
      "Epoch: 0 batch #: 106  of 300 sample #: 199 reconstruction error: 0.113445\n",
      "Epoch: 0 batch #: 107  of 300 sample #: 199 reconstruction error: 0.149097\n",
      "Epoch: 0 batch #: 108  of 300 sample #: 199 reconstruction error: 0.054736\n",
      "Epoch: 0 batch #: 109  of 300 sample #: 199 reconstruction error: 0.134555\n",
      "Epoch: 0 batch #: 110  of 300 sample #: 199 reconstruction error: 0.056766\n",
      "Epoch: 0 batch #: 111  of 300 sample #: 199 reconstruction error: 0.104658\n",
      "Epoch: 0 batch #: 112  of 300 sample #: 199 reconstruction error: 0.039065\n",
      "Epoch: 0 batch #: 113  of 300 sample #: 199 reconstruction error: 0.058313\n",
      "Epoch: 0 batch #: 114  of 300 sample #: 199 reconstruction error: 0.064805\n",
      "Epoch: 0 batch #: 115  of 300 sample #: 199 reconstruction error: 0.068454\n",
      "Epoch: 0 batch #: 116  of 300 sample #: 199 reconstruction error: 0.055202\n",
      "Epoch: 0 batch #: 117  of 300 sample #: 199 reconstruction error: 0.054032\n",
      "Epoch: 0 batch #: 118  of 300 sample #: 199 reconstruction error: 0.077892\n",
      "Epoch: 0 batch #: 119  of 300 sample #: 199 reconstruction error: 0.112339\n",
      "Epoch: 0 batch #: 120  of 300 sample #: 199 reconstruction error: 0.082354\n",
      "Epoch: 0 batch #: 121  of 300 sample #: 199 reconstruction error: 0.049695\n",
      "Epoch: 0 batch #: 122  of 300 sample #: 199 reconstruction error: 0.099597\n",
      "Epoch: 0 batch #: 123  of 300 sample #: 199 reconstruction error: 0.070781\n",
      "Epoch: 0 batch #: 124  of 300 sample #: 199 reconstruction error: 0.065191\n",
      "Epoch: 0 batch #: 125  of 300 sample #: 199 reconstruction error: 0.036198\n",
      "Epoch: 0 batch #: 126  of 300 sample #: 199 reconstruction error: 0.097502\n",
      "Epoch: 0 batch #: 127  of 300 sample #: 199 reconstruction error: 0.085558\n",
      "Epoch: 0 batch #: 128  of 300 sample #: 199 reconstruction error: 0.060879\n",
      "Epoch: 0 batch #: 129  of 300 sample #: 199 reconstruction error: 0.046838\n",
      "Epoch: 0 batch #: 130  of 300 sample #: 199 reconstruction error: 0.079606\n",
      "Epoch: 0 batch #: 131  of 300 sample #: 199 reconstruction error: 0.063417\n",
      "Epoch: 0 batch #: 132  of 300 sample #: 199 reconstruction error: 0.056525\n",
      "Epoch: 0 batch #: 133  of 300 sample #: 199 reconstruction error: 0.062978\n",
      "Epoch: 0 batch #: 134  of 300 sample #: 199 reconstruction error: 0.108757\n",
      "Epoch: 0 batch #: 135  of 300 sample #: 199 reconstruction error: 0.090372\n",
      "Epoch: 0 batch #: 136  of 300 sample #: 199 reconstruction error: 0.120237\n",
      "Epoch: 0 batch #: 137  of 300 sample #: 199 reconstruction error: 0.076049\n",
      "Epoch: 0 batch #: 138  of 300 sample #: 199 reconstruction error: 0.092350\n",
      "Epoch: 0 batch #: 139  of 300 sample #: 199 reconstruction error: 0.110800\n",
      "Epoch: 0 batch #: 140  of 300 sample #: 199 reconstruction error: 0.081263\n",
      "Epoch: 0 batch #: 141  of 300 sample #: 199 reconstruction error: 0.094925\n",
      "Epoch: 0 batch #: 142  of 300 sample #: 199 reconstruction error: 0.071110\n",
      "Epoch: 0 batch #: 143  of 300 sample #: 199 reconstruction error: 0.056251\n",
      "Epoch: 0 batch #: 144  of 300 sample #: 199 reconstruction error: 0.056413\n",
      "Epoch: 0 batch #: 145  of 300 sample #: 199 reconstruction error: 0.085263\n",
      "Epoch: 0 batch #: 146  of 300 sample #: 199 reconstruction error: 0.116105\n",
      "Epoch: 0 batch #: 147  of 300 sample #: 199 reconstruction error: 0.063413\n",
      "Epoch: 0 batch #: 148  of 300 sample #: 199 reconstruction error: 0.096053\n",
      "Epoch: 0 batch #: 149  of 300 sample #: 199 reconstruction error: 0.046388\n",
      "Epoch: 0 batch #: 150  of 300 sample #: 199 reconstruction error: 0.049082\n",
      "Epoch: 0 batch #: 151  of 300 sample #: 199 reconstruction error: 0.106186\n",
      "Epoch: 0 batch #: 152  of 300 sample #: 199 reconstruction error: 0.087576\n",
      "Epoch: 0 batch #: 153  of 300 sample #: 199 reconstruction error: 0.049853\n",
      "Epoch: 0 batch #: 154  of 300 sample #: 199 reconstruction error: 0.065789\n",
      "Epoch: 0 batch #: 155  of 300 sample #: 199 reconstruction error: 0.058471\n",
      "Epoch: 0 batch #: 156  of 300 sample #: 199 reconstruction error: 0.076012\n",
      "Epoch: 0 batch #: 157  of 300 sample #: 199 reconstruction error: 0.084756\n",
      "Epoch: 0 batch #: 158  of 300 sample #: 199 reconstruction error: 0.064617\n",
      "Epoch: 0 batch #: 159  of 300 sample #: 199 reconstruction error: 0.065829\n",
      "Epoch: 0 batch #: 160  of 300 sample #: 199 reconstruction error: 0.060359\n",
      "Epoch: 0 batch #: 161  of 300 sample #: 199 reconstruction error: 0.084391\n",
      "Epoch: 0 batch #: 162  of 300 sample #: 199 reconstruction error: 0.099173\n",
      "Epoch: 0 batch #: 163  of 300 sample #: 199 reconstruction error: 0.040607\n",
      "Epoch: 0 batch #: 164  of 300 sample #: 199 reconstruction error: 0.057057\n",
      "Epoch: 0 batch #: 165  of 300 sample #: 199 reconstruction error: 0.080240\n",
      "Epoch: 0 batch #: 166  of 300 sample #: 199 reconstruction error: 0.048311\n",
      "Epoch: 0 batch #: 167  of 300 sample #: 199 reconstruction error: 0.089826\n",
      "Epoch: 0 batch #: 168  of 300 sample #: 199 reconstruction error: 0.055329\n",
      "Epoch: 0 batch #: 169  of 300 sample #: 199 reconstruction error: 0.037046\n",
      "Epoch: 0 batch #: 170  of 300 sample #: 199 reconstruction error: 0.051185\n",
      "Epoch: 0 batch #: 171  of 300 sample #: 199 reconstruction error: 0.038274\n",
      "Epoch: 0 batch #: 172  of 300 sample #: 199 reconstruction error: 0.042048\n",
      "Epoch: 0 batch #: 173  of 300 sample #: 199 reconstruction error: 0.066401\n",
      "Epoch: 0 batch #: 174  of 300 sample #: 199 reconstruction error: 0.115356\n",
      "Epoch: 0 batch #: 175  of 300 sample #: 199 reconstruction error: 0.080471\n",
      "Epoch: 0 batch #: 176  of 300 sample #: 199 reconstruction error: 0.043700\n",
      "Epoch: 0 batch #: 177  of 300 sample #: 199 reconstruction error: 0.038378\n",
      "Epoch: 0 batch #: 178  of 300 sample #: 199 reconstruction error: 0.113778\n",
      "Epoch: 0 batch #: 179  of 300 sample #: 199 reconstruction error: 0.084668\n",
      "Epoch: 0 batch #: 180  of 300 sample #: 199 reconstruction error: 0.078424\n",
      "Epoch: 0 batch #: 181  of 300 sample #: 199 reconstruction error: 0.102525\n",
      "Epoch: 0 batch #: 182  of 300 sample #: 199 reconstruction error: 0.080803\n",
      "Epoch: 0 batch #: 183  of 300 sample #: 199 reconstruction error: 0.131763\n",
      "Epoch: 0 batch #: 184  of 300 sample #: 199 reconstruction error: 0.063128\n",
      "Epoch: 0 batch #: 185  of 300 sample #: 199 reconstruction error: 0.081332\n",
      "Epoch: 0 batch #: 186  of 300 sample #: 199 reconstruction error: 0.120936\n",
      "Epoch: 0 batch #: 187  of 300 sample #: 199 reconstruction error: 0.054407\n",
      "Epoch: 0 batch #: 188  of 300 sample #: 199 reconstruction error: 0.096309\n",
      "Epoch: 0 batch #: 189  of 300 sample #: 199 reconstruction error: 0.082943\n",
      "Epoch: 0 batch #: 190  of 300 sample #: 199 reconstruction error: 0.059216\n",
      "Epoch: 0 batch #: 191  of 300 sample #: 199 reconstruction error: 0.115637\n",
      "Epoch: 0 batch #: 192  of 300 sample #: 199 reconstruction error: 0.114082\n",
      "Epoch: 0 batch #: 193  of 300 sample #: 199 reconstruction error: 0.100918\n",
      "Epoch: 0 batch #: 194  of 300 sample #: 199 reconstruction error: 0.082475\n",
      "Epoch: 0 batch #: 195  of 300 sample #: 199 reconstruction error: 0.052211\n",
      "Epoch: 0 batch #: 196  of 300 sample #: 199 reconstruction error: 0.051965\n",
      "Epoch: 0 batch #: 197  of 300 sample #: 199 reconstruction error: 0.055450\n",
      "Epoch: 0 batch #: 198  of 300 sample #: 199 reconstruction error: 0.081070\n",
      "Epoch: 0 batch #: 199  of 300 sample #: 199 reconstruction error: 0.076583\n",
      "Epoch: 0 batch #: 200  of 300 sample #: 199 reconstruction error: 0.102666\n",
      "Epoch: 0 batch #: 201  of 300 sample #: 199 reconstruction error: 0.090592\n",
      "Epoch: 0 batch #: 202  of 300 sample #: 199 reconstruction error: 0.017719\n",
      "Epoch: 0 batch #: 203  of 300 sample #: 199 reconstruction error: 0.097259\n",
      "Epoch: 0 batch #: 204  of 300 sample #: 199 reconstruction error: 0.043091\n",
      "Epoch: 0 batch #: 205  of 300 sample #: 199 reconstruction error: 0.028578\n",
      "Epoch: 0 batch #: 206  of 300 sample #: 199 reconstruction error: 0.066038\n",
      "Epoch: 0 batch #: 207  of 300 sample #: 199 reconstruction error: 0.082443\n",
      "Epoch: 0 batch #: 208  of 300 sample #: 199 reconstruction error: 0.058267\n",
      "Epoch: 0 batch #: 209  of 300 sample #: 199 reconstruction error: 0.033892\n",
      "Epoch: 0 batch #: 210  of 300 sample #: 199 reconstruction error: 0.095175\n",
      "Epoch: 0 batch #: 211  of 300 sample #: 199 reconstruction error: 0.077718\n",
      "Epoch: 0 batch #: 212  of 300 sample #: 199 reconstruction error: 0.080400\n",
      "Epoch: 0 batch #: 213  of 300 sample #: 199 reconstruction error: 0.095196\n",
      "Epoch: 0 batch #: 214  of 300 sample #: 199 reconstruction error: 0.102274\n",
      "Epoch: 0 batch #: 215  of 300 sample #: 199 reconstruction error: 0.030648\n",
      "Epoch: 0 batch #: 216  of 300 sample #: 199 reconstruction error: 0.096786\n",
      "Epoch: 0 batch #: 217  of 300 sample #: 199 reconstruction error: 0.076594\n",
      "Epoch: 0 batch #: 218  of 300 sample #: 199 reconstruction error: 0.066816\n",
      "Epoch: 0 batch #: 219  of 300 sample #: 199 reconstruction error: 0.073062\n",
      "Epoch: 0 batch #: 220  of 300 sample #: 199 reconstruction error: 0.060786\n",
      "Epoch: 0 batch #: 221  of 300 sample #: 199 reconstruction error: 0.076518\n",
      "Epoch: 0 batch #: 222  of 300 sample #: 199 reconstruction error: 0.088872\n",
      "Epoch: 0 batch #: 223  of 300 sample #: 199 reconstruction error: 0.070462\n",
      "Epoch: 0 batch #: 224  of 300 sample #: 199 reconstruction error: 0.060710\n",
      "Epoch: 0 batch #: 225  of 300 sample #: 199 reconstruction error: 0.075620\n",
      "Epoch: 0 batch #: 226  of 300 sample #: 199 reconstruction error: 0.129443\n",
      "Epoch: 0 batch #: 227  of 300 sample #: 199 reconstruction error: 0.074900\n",
      "Epoch: 0 batch #: 228  of 300 sample #: 199 reconstruction error: 0.074409\n",
      "Epoch: 0 batch #: 229  of 300 sample #: 199 reconstruction error: 0.084038\n",
      "Epoch: 0 batch #: 230  of 300 sample #: 199 reconstruction error: 0.035444\n",
      "Epoch: 0 batch #: 231  of 300 sample #: 199 reconstruction error: 0.029926\n",
      "Epoch: 0 batch #: 232  of 300 sample #: 199 reconstruction error: 0.091127\n",
      "Epoch: 0 batch #: 233  of 300 sample #: 199 reconstruction error: 0.076212\n",
      "Epoch: 0 batch #: 234  of 300 sample #: 199 reconstruction error: 0.066247\n",
      "Epoch: 0 batch #: 235  of 300 sample #: 199 reconstruction error: 0.056580\n",
      "Epoch: 0 batch #: 236  of 300 sample #: 199 reconstruction error: 0.094904\n",
      "Epoch: 0 batch #: 237  of 300 sample #: 199 reconstruction error: 0.091905\n",
      "Epoch: 0 batch #: 238  of 300 sample #: 199 reconstruction error: 0.138755\n",
      "Epoch: 0 batch #: 239  of 300 sample #: 199 reconstruction error: 0.031041\n",
      "Epoch: 0 batch #: 240  of 300 sample #: 199 reconstruction error: 0.089888\n",
      "Epoch: 0 batch #: 241  of 300 sample #: 199 reconstruction error: 0.080585\n",
      "Epoch: 0 batch #: 242  of 300 sample #: 199 reconstruction error: 0.069410\n",
      "Epoch: 0 batch #: 243  of 300 sample #: 199 reconstruction error: 0.076547\n",
      "Epoch: 0 batch #: 244  of 300 sample #: 199 reconstruction error: 0.086766\n",
      "Epoch: 0 batch #: 245  of 300 sample #: 199 reconstruction error: 0.071942\n",
      "Epoch: 0 batch #: 246  of 300 sample #: 199 reconstruction error: 0.084313\n",
      "Epoch: 0 batch #: 247  of 300 sample #: 199 reconstruction error: 0.054398\n",
      "Epoch: 0 batch #: 248  of 300 sample #: 199 reconstruction error: 0.066622\n",
      "Epoch: 0 batch #: 249  of 300 sample #: 199 reconstruction error: 0.043375\n",
      "Epoch: 0 batch #: 250  of 300 sample #: 199 reconstruction error: 0.086561\n",
      "Epoch: 0 batch #: 251  of 300 sample #: 199 reconstruction error: 0.043029\n",
      "Epoch: 0 batch #: 252  of 300 sample #: 199 reconstruction error: 0.077660\n",
      "Epoch: 0 batch #: 253  of 300 sample #: 199 reconstruction error: 0.079875\n",
      "Epoch: 0 batch #: 254  of 300 sample #: 199 reconstruction error: 0.036445\n",
      "Epoch: 0 batch #: 255  of 300 sample #: 199 reconstruction error: 0.043658\n",
      "Epoch: 0 batch #: 256  of 300 sample #: 199 reconstruction error: 0.079396\n",
      "Epoch: 0 batch #: 257  of 300 sample #: 199 reconstruction error: 0.096741\n",
      "Epoch: 0 batch #: 258  of 300 sample #: 199 reconstruction error: 0.084287\n",
      "Epoch: 0 batch #: 259  of 300 sample #: 199 reconstruction error: 0.087168\n",
      "Epoch: 0 batch #: 260  of 300 sample #: 199 reconstruction error: 0.101350\n",
      "Epoch: 0 batch #: 261  of 300 sample #: 199 reconstruction error: 0.034917\n",
      "Epoch: 0 batch #: 262  of 300 sample #: 199 reconstruction error: 0.061091\n",
      "Epoch: 0 batch #: 263  of 300 sample #: 199 reconstruction error: 0.099665\n",
      "Epoch: 0 batch #: 264  of 300 sample #: 199 reconstruction error: 0.072909\n",
      "Epoch: 0 batch #: 265  of 300 sample #: 199 reconstruction error: 0.065977\n",
      "Epoch: 0 batch #: 266  of 300 sample #: 199 reconstruction error: 0.029391\n",
      "Epoch: 0 batch #: 267  of 300 sample #: 199 reconstruction error: 0.055211\n",
      "Epoch: 0 batch #: 268  of 300 sample #: 199 reconstruction error: 0.027641\n",
      "Epoch: 0 batch #: 269  of 300 sample #: 199 reconstruction error: 0.081130\n",
      "Epoch: 0 batch #: 270  of 300 sample #: 199 reconstruction error: 0.083197\n",
      "Epoch: 0 batch #: 271  of 300 sample #: 199 reconstruction error: 0.059749\n",
      "Epoch: 0 batch #: 272  of 300 sample #: 199 reconstruction error: 0.061236\n",
      "Epoch: 0 batch #: 273  of 300 sample #: 199 reconstruction error: 0.044538\n",
      "Epoch: 0 batch #: 274  of 300 sample #: 199 reconstruction error: 0.050505\n",
      "Epoch: 0 batch #: 275  of 300 sample #: 199 reconstruction error: 0.089507\n",
      "Epoch: 0 batch #: 276  of 300 sample #: 199 reconstruction error: 0.065648\n",
      "Epoch: 0 batch #: 277  of 300 sample #: 199 reconstruction error: 0.068182\n",
      "Epoch: 0 batch #: 278  of 300 sample #: 199 reconstruction error: 0.053177\n",
      "Epoch: 0 batch #: 279  of 300 sample #: 199 reconstruction error: 0.053192\n",
      "Epoch: 0 batch #: 280  of 300 sample #: 199 reconstruction error: 0.079395\n",
      "Epoch: 0 batch #: 281  of 300 sample #: 199 reconstruction error: 0.074619\n",
      "Epoch: 0 batch #: 282  of 300 sample #: 199 reconstruction error: 0.094061\n",
      "Epoch: 0 batch #: 283  of 300 sample #: 199 reconstruction error: 0.047367\n",
      "Epoch: 0 batch #: 284  of 300 sample #: 199 reconstruction error: 0.052888\n",
      "Epoch: 0 batch #: 285  of 300 sample #: 199 reconstruction error: 0.050725\n",
      "Epoch: 0 batch #: 286  of 300 sample #: 199 reconstruction error: 0.078087\n",
      "Epoch: 0 batch #: 287  of 300 sample #: 199 reconstruction error: 0.078187\n",
      "Epoch: 0 batch #: 288  of 300 sample #: 199 reconstruction error: 0.030603\n",
      "Epoch: 0 batch #: 289  of 300 sample #: 199 reconstruction error: 0.091379\n",
      "Epoch: 0 batch #: 290  of 300 sample #: 199 reconstruction error: 0.105521\n",
      "Epoch: 0 batch #: 291  of 300 sample #: 199 reconstruction error: 0.118267\n",
      "Epoch: 0 batch #: 292  of 300 sample #: 199 reconstruction error: 0.057217\n",
      "Epoch: 0 batch #: 293  of 300 sample #: 199 reconstruction error: 0.064478\n",
      "Epoch: 0 batch #: 294  of 300 sample #: 199 reconstruction error: 0.077839\n",
      "Epoch: 0 batch #: 295  of 300 sample #: 199 reconstruction error: 0.069295\n",
      "Epoch: 0 batch #: 296  of 300 sample #: 199 reconstruction error: 0.028964\n",
      "Epoch: 0 batch #: 297  of 300 sample #: 199 reconstruction error: 0.093667\n",
      "Epoch: 0 batch #: 298  of 300 sample #: 199 reconstruction error: 0.057769\n",
      "Epoch: 0 batch #: 299  of 300 sample #: 199 reconstruction error: 0.045439\n",
      "Epoch: 0 batch #: 300  of 300 sample #: 199 reconstruction error: 0.091338\n"
     ]
    }
   ],
   "source": [
    "#Parameters\n",
    "alpha = 0.01\n",
    "epochs = 1\n",
    "batchsize = 200\n",
    "weights = []\n",
    "errors = []\n",
    "batch_number = 0\n",
    "K = 1\n",
    "\n",
    "#creating datasets\n",
    "train_ds = \\\n",
    "    tf.data.Dataset.from_tensor_slices((trX, trY)).batch(batchsize)\n",
    "\n",
    "for epoch in range(epochs):\n",
    "    for batch_x, batch_y in train_ds:\n",
    "        batch_number += 1\n",
    "        for i_sample in range(batchsize):           \n",
    "            for k in range(K):\n",
    "                v0_state = batch_x[i_sample]\n",
    "                h0_state = hidden_layer(v0_state, W, hb)\n",
    "                v1_state = reconstructed_output(h0_state, W, vb)\n",
    "                h1_state = hidden_layer(v1_state, W, hb)\n",
    "\n",
    "                delta_W = tf.matmul(tf.transpose([v0_state]), h0_state) - tf.matmul(tf.transpose([v1_state]), h1_state)\n",
    "                W = W + alpha * delta_W\n",
    "\n",
    "                vb = vb + alpha * tf.reduce_mean(v0_state - v1_state, 0)\n",
    "                hb = hb + alpha * tf.reduce_mean(h0_state - h1_state, 0) \n",
    "\n",
    "                v0_state = v1_state\n",
    "\n",
    "            if i_sample == batchsize-1:\n",
    "                err = error(batch_x[i_sample], v1_state)\n",
    "                errors.append(err)\n",
    "                weights.append(W)\n",
    "                print ( 'Epoch: %d' % epoch, \n",
    "                       \"batch #: %i \" % batch_number, \"of %i\" % int(60e3/batchsize), \n",
    "                       \"sample #: %i\" % i_sample,\n",
    "                       'reconstruction error: %f' % err)\n",
    "\n"
   ]
  },
  {
   "cell_type": "markdown",
   "metadata": {},
   "source": [
    "Let's take a look at the errors at the end of each batch:\n"
   ]
  },
  {
   "cell_type": "code",
   "execution_count": 20,
   "metadata": {},
   "outputs": [
    {
     "data": {
      "image/png": "[encoded data removed]",
      "text/plain": [
       "<Figure size 640x480 with 1 Axes>"
      ]
     },
     "metadata": {},
     "output_type": "display_data"
    }
   ],
   "source": [
    "plt.plot(errors)\n",
    "plt.xlabel(\"Batch Number\")\n",
    "plt.ylabel(\"Error\")\n",
    "plt.show()"
   ]
  },
  {
   "cell_type": "markdown",
   "metadata": {},
   "source": [
    "What is the final weight matrix $W$ after training?\n"
   ]
  },
  {
   "cell_type": "code",
   "execution_count": 21,
   "metadata": {},
   "outputs": [
    {
     "name": "stdout",
     "output_type": "stream",
     "text": [
      "[[-0.29       -0.25000003 -0.19000001 ... -0.22000003 -0.5299998\n",
      "  -0.23000003]\n",
      " [-0.33999994 -0.24000004 -0.26000002 ... -0.26000002 -0.5199998\n",
      "  -0.21000002]\n",
      " [-0.29       -0.25000003 -0.23000003 ... -0.25000003 -0.46999982\n",
      "  -0.19000001]\n",
      " ...\n",
      " [-0.31999996 -0.30999997 -0.21000002 ... -0.27       -0.4799998\n",
      "  -0.24000004]\n",
      " [-0.3899999  -0.21000002 -0.20000002 ... -0.22000003 -0.56999975\n",
      "  -0.23000003]\n",
      " [-0.34999993 -0.25000003 -0.22000003 ... -0.31999996 -0.46999982\n",
      "  -0.28      ]]\n"
     ]
    }
   ],
   "source": [
    "print(W.numpy()) # a weight matrix of shape (50,784)"
   ]
  },
  {
   "cell_type": "markdown",
   "metadata": {},
   "source": [
    "<a id=\"ref5\"></a>\n",
    "\n",
    "<h3>Learned features</h3> \n"
   ]
  },
  {
   "cell_type": "markdown",
   "metadata": {},
   "source": [
    "We can take each hidden unit and visualize the connections between that hidden unit and each element in the input vector. In our case, we have 50 hidden units. Lets visualize those.\n"
   ]
  },
  {
   "cell_type": "markdown",
   "metadata": {},
   "source": [
    "Let's plot the current weights: <b>tile_raster_images</b> helps in generating an easy to grasp image from a set of samples or weights. It transforms the <b>uw</b> (with one flattened image per row of size 784), into an array (of size $28\\times28$) in which images are reshaped and laid out like tiles on a floor.\n"
   ]
  },
  {
   "cell_type": "code",
   "execution_count": 22,
   "metadata": {},
   "outputs": [
    {
     "data": {
      "image/png": "[encoded data removed]",
      "text/plain": [
       "<Figure size 1800x1800 with 1 Axes>"
      ]
     },
     "metadata": {},
     "output_type": "display_data"
    }
   ],
   "source": [
    "tile_raster_images(X=W.numpy().T, img_shape=(28, 28), tile_shape=(5, 10), tile_spacing=(1, 1))\n",
    "import matplotlib.pyplot as plt\n",
    "from PIL import Image\n",
    "%matplotlib inline\n",
    "image = Image.fromarray(tile_raster_images(X=W.numpy().T, img_shape=(28, 28) ,tile_shape=(5, 10), tile_spacing=(1, 1)))\n",
    "### Plot image\n",
    "plt.rcParams['figure.figsize'] = (18.0, 18.0)\n",
    "imgplot = plt.imshow(image)\n",
    "imgplot.set_cmap('gray')  "
   ]
  },
  {
   "cell_type": "markdown",
   "metadata": {},
   "source": [
    "Each tile in the above visualization corresponds to a vector of connections between a hidden unit and visible layer's units.\n"
   ]
  },
  {
   "cell_type": "markdown",
   "metadata": {},
   "source": [
    "Let's look at one of the learned weights corresponding to one of hidden units for example. In this particular square, the gray color represents weight = 0, and the whiter it is, the more positive the weights are (closer to 1). Conversely, the darker pixels are, the more negative the weights. The positive pixels will increase the probability of activation in hidden units (after multiplying by input/visible pixels), and negative pixels will decrease the probability of a unit hidden to be 1 (activated). So, why is this important?  So we can see that this specific square (hidden unit) can detect a feature (e.g. a \"/\" shape) and if it exists in the input.\n"
   ]
  },
  {
   "cell_type": "code",
   "execution_count": 23,
   "metadata": {},
   "outputs": [
    {
     "data": {
      "image/png": "[encoded data removed]",
      "text/plain": [
       "<Figure size 400x400 with 1 Axes>"
      ]
     },
     "metadata": {},
     "output_type": "display_data"
    }
   ],
   "source": [
    "from PIL import Image\n",
    "image = Image.fromarray(tile_raster_images(X =W.numpy().T[10:11], img_shape=(28, 28),tile_shape=(1, 1), tile_spacing=(1, 1)))\n",
    "### Plot image\n",
    "plt.rcParams['figure.figsize'] = (4.0, 4.0)\n",
    "imgplot = plt.imshow(image)\n",
    "imgplot.set_cmap('gray')  "
   ]
  },
  {
   "cell_type": "markdown",
   "metadata": {},
   "source": [
    "Let's look at the reconstruction of an image now. Imagine that we have a destructed image of figure 3. Lets see if our trained network can fix it:\n",
    "\n",
    "First we plot the image:\n"
   ]
  },
  {
   "cell_type": "code",
   "execution_count": 24,
   "metadata": {},
   "outputs": [
    {
     "name": "stdout",
     "output_type": "stream",
     "text": [
      "--2022-10-08 09:42:03--  https://ibm.box.com/shared/static/vvm1b63uvuxq88vbw9znpwu5ol380mco.jpg\n",
      "Resolving ibm.box.com (ibm.box.com)... 74.112.186.144\n",
      "Connecting to ibm.box.com (ibm.box.com)|74.112.186.144|:443... connected.\n",
      "HTTP request sent, awaiting response... 301 Moved Permanently\n",
      "Location: /public/static/vvm1b63uvuxq88vbw9znpwu5ol380mco.jpg [following]\n",
      "--2022-10-08 09:42:03--  https://ibm.box.com/public/static/vvm1b63uvuxq88vbw9znpwu5ol380mco.jpg\n",
      "Reusing existing connection to ibm.box.com:443.\n",
      "HTTP request sent, awaiting response... 301 Moved Permanently\n",
      "Location: https://ibm.ent.box.com/public/static/vvm1b63uvuxq88vbw9znpwu5ol380mco.jpg [following]\n",
      "--2022-10-08 09:42:03--  https://ibm.ent.box.com/public/static/vvm1b63uvuxq88vbw9znpwu5ol380mco.jpg\n",
      "Resolving ibm.ent.box.com (ibm.ent.box.com)... 74.112.186.144\n",
      "Connecting to ibm.ent.box.com (ibm.ent.box.com)|74.112.186.144|:443... connected.\n",
      "HTTP request sent, awaiting response... 302 Found\n",
      "Location: https://dl2.boxcloud.com/d/1/b1!EWxKIvq3X6J495HG0bSI822tiKM0Pw33LbeAHfVNOtZXS9bY0rkb49-4N6zjwIuqs7ndQvBv8cUotIiPO5osx-RutuypJDrcoxl-zTZH2Z3lRaS716F52OMy5lChP_SdfIwMdFipYJwBHMeccMkC-AirFvMd94kmhu7n9eDGZG4BnoXpeXLcc01HveWU30tBp4muUdAZDqXMKeOE0A_Tbgomwd4WBEocsOd5TsSWZEB-de0DAtkH9I82YU7iaHmcji8ozRRY6lHqyRXOQwZ8vYZYS0uX4y1cF0y7fkL0qGEA2UW6LJNEPWsCBCWVZsugkwle1iKVq4V1vaNlU9xWkygqs45io0dfZiFsBkqlgEf6YqITwukv8JqIO_ATmy4DItYznGhLVR92vlw4rJibEG--s7I4Q-zFhrD-Het9L3yrfcn6optX99Gwu1-iZXvLV58H-QvAw1ODtcUJUUXoEohsGRfvz8Yu-6ew2ssVQDn5IWHYdfxOiiovYMic9eBcPAS-AD-46Ln8ubBUdlI698N-GXtcHkKb0JavSO_UVFNmyVtAaHvYJId4gYUY1jQtKL9gH29G5ssics80v0I7iyjpqdhuwpE8XbcuDEfwZ_emVi4YqIpIzO19N7reJVM-8u-VhiHyBX0xrDs2aw48ig2fPZJl_F1NrLV-Ypa0kUsQW1GWtSkO15sNJoKy5VaVbwICd2IiWkgOm_xmcGaN1KUOYCZBr9DeYqbmKPDiGtBGwmMc4BsFC5Mhxb7X6godtW-fTNzkGdqsY5QC1iN10semvrz7sMAEEt_X4bwxGvUqWNDjjAv7pqMQJeCHT_6na9O_-Aai56BWFstYJPuHGtpkxrxOMebesuPw8LlFNar-LkRYyuyB-OUK8BbecKDhhCx7USMJQPtvzxZc6H0y2_UD11A9R9NZeuUaRceNdU6hp9uKpvbeKTY9VH1zO8RNFJUfww6vi3qwXOiND0k6WLRiuJqAY4Hszhb775WQ0BcqHwNBYmGZt4N98UnH6BjnMhGrQqYuW9MAN98CL7NmQiS1tRtTMZI34gNugODi4jOPvFGD4Z9syI8hnxDuYvqFDlql8X4-gVG4OQLRLYqadM4SEIpRiZ_I81Mx4u7ED6_bilGjRe_lRzgIMKDLmh0XlreZTTYBJphSwuNL1e83BUVIU5lXCSGRP1iGX1iaKbv6SAQbrSFB2h-1M33toG0yp_JFTbVGYQX9zwD-dRvehubeLFm4-_BVYZYSagsjtxo4uO5gGBNj-bcGm3pT_amlcJFdgEOguqREu7GLpGLmhHUKuqqWXtACcdPqhZgiMpCTgS_TS93103TjjhjlASZDdbuRof1Q8MCXEkCXCOaJt6fdPKuszwmKpE2ItVWy8CuAQjFt3X34EqZKIE2IGo9Srf2UxrjkbTFNVpRP7qg71Y55cmAS9YXLm7CiObDCXEFq9ACnYR4j-oZL6HkQBQ../download [following]\n",
      "--2022-10-08 09:42:04--  https://dl2.boxcloud.com/d/1/b1!EWxKIvq3X6J495HG0bSI822tiKM0Pw33LbeAHfVNOtZXS9bY0rkb49-4N6zjwIuqs7ndQvBv8cUotIiPO5osx-RutuypJDrcoxl-zTZH2Z3lRaS716F52OMy5lChP_SdfIwMdFipYJwBHMeccMkC-AirFvMd94kmhu7n9eDGZG4BnoXpeXLcc01HveWU30tBp4muUdAZDqXMKeOE0A_Tbgomwd4WBEocsOd5TsSWZEB-de0DAtkH9I82YU7iaHmcji8ozRRY6lHqyRXOQwZ8vYZYS0uX4y1cF0y7fkL0qGEA2UW6LJNEPWsCBCWVZsugkwle1iKVq4V1vaNlU9xWkygqs45io0dfZiFsBkqlgEf6YqITwukv8JqIO_ATmy4DItYznGhLVR92vlw4rJibEG--s7I4Q-zFhrD-Het9L3yrfcn6optX99Gwu1-iZXvLV58H-QvAw1ODtcUJUUXoEohsGRfvz8Yu-6ew2ssVQDn5IWHYdfxOiiovYMic9eBcPAS-AD-46Ln8ubBUdlI698N-GXtcHkKb0JavSO_UVFNmyVtAaHvYJId4gYUY1jQtKL9gH29G5ssics80v0I7iyjpqdhuwpE8XbcuDEfwZ_emVi4YqIpIzO19N7reJVM-8u-VhiHyBX0xrDs2aw48ig2fPZJl_F1NrLV-Ypa0kUsQW1GWtSkO15sNJoKy5VaVbwICd2IiWkgOm_xmcGaN1KUOYCZBr9DeYqbmKPDiGtBGwmMc4BsFC5Mhxb7X6godtW-fTNzkGdqsY5QC1iN10semvrz7sMAEEt_X4bwxGvUqWNDjjAv7pqMQJeCHT_6na9O_-Aai56BWFstYJPuHGtpkxrxOMebesuPw8LlFNar-LkRYyuyB-OUK8BbecKDhhCx7USMJQPtvzxZc6H0y2_UD11A9R9NZeuUaRceNdU6hp9uKpvbeKTY9VH1zO8RNFJUfww6vi3qwXOiND0k6WLRiuJqAY4Hszhb775WQ0BcqHwNBYmGZt4N98UnH6BjnMhGrQqYuW9MAN98CL7NmQiS1tRtTMZI34gNugODi4jOPvFGD4Z9syI8hnxDuYvqFDlql8X4-gVG4OQLRLYqadM4SEIpRiZ_I81Mx4u7ED6_bilGjRe_lRzgIMKDLmh0XlreZTTYBJphSwuNL1e83BUVIU5lXCSGRP1iGX1iaKbv6SAQbrSFB2h-1M33toG0yp_JFTbVGYQX9zwD-dRvehubeLFm4-_BVYZYSagsjtxo4uO5gGBNj-bcGm3pT_amlcJFdgEOguqREu7GLpGLmhHUKuqqWXtACcdPqhZgiMpCTgS_TS93103TjjhjlASZDdbuRof1Q8MCXEkCXCOaJt6fdPKuszwmKpE2ItVWy8CuAQjFt3X34EqZKIE2IGo9Srf2UxrjkbTFNVpRP7qg71Y55cmAS9YXLm7CiObDCXEFq9ACnYR4j-oZL6HkQBQ../download\n",
      "Resolving dl2.boxcloud.com (dl2.boxcloud.com)... 74.112.186.128\n",
      "Connecting to dl2.boxcloud.com (dl2.boxcloud.com)|74.112.186.128|:443... connected.\n",
      "HTTP request sent, awaiting response... 200 OK\n",
      "Length: 24383 (24K) [image/jpeg]\n",
      "Saving to: ‘destructed3.jpg’\n",
      "\n",
      "destructed3.jpg     100%[===================>]  23.81K  --.-KB/s    in 0.006s  \n",
      "\n",
      "2022-10-08 09:42:04 (3.74 MB/s) - ‘destructed3.jpg’ saved [24383/24383]\n",
      "\n"
     ]
    },
    {
     "data": {
      "image/png": "[encoded data removed]",
      "text/plain": [
       "<PIL.JpegImagePlugin.JpegImageFile image mode=RGB size=181x181 at 0x7F8280173310>"
      ]
     },
     "execution_count": 24,
     "metadata": {},
     "output_type": "execute_result"
    }
   ],
   "source": [
    "!wget -O destructed3.jpg  https://ibm.box.com/shared/static/vvm1b63uvuxq88vbw9znpwu5ol380mco.jpg\n",
    "img = Image.open('destructed3.jpg')\n",
    "img"
   ]
  },
  {
   "cell_type": "markdown",
   "metadata": {},
   "source": [
    "Now let's pass this image through the neural net:\n"
   ]
  },
  {
   "cell_type": "code",
   "execution_count": 25,
   "metadata": {},
   "outputs": [],
   "source": [
    "# convert the image to a 1d numpy array\n",
    "sample_case = np.array(img.convert('I').resize((28,28))).ravel().reshape((1, -1))/255.0\n",
    "\n",
    "sample_case = tf.cast(sample_case, dtype=tf.float32)"
   ]
  },
  {
   "cell_type": "markdown",
   "metadata": {},
   "source": [
    "Feed the sample case into the network and reconstruct the output:\n"
   ]
  },
  {
   "cell_type": "code",
   "execution_count": 26,
   "metadata": {},
   "outputs": [
    {
     "name": "stdout",
     "output_type": "stream",
     "text": [
      "Probability nodes in hidden layer: tf.Tensor(\n",
      "[[9.41275477e-01 1.82132370e-15 4.89052632e-10 9.99871731e-01\n",
      "  1.54088457e-06 6.79006007e-09 1.00000000e+00 1.14205825e-14\n",
      "  1.00000000e+00 5.37604094e-04 3.32005135e-14 5.73515892e-04\n",
      "  7.53419161e-01 2.02544034e-02 1.77381217e-01 9.32754457e-01\n",
      "  1.00000000e+00 1.00000000e+00 1.91716154e-09 9.97890592e-01\n",
      "  3.46312497e-13 6.68507159e-01 1.39163958e-11 1.44111952e-17\n",
      "  5.41790485e-01 5.37246466e-04 1.22818232e-01 1.81891244e-06\n",
      "  9.48642731e-01 9.49451745e-01 9.98961329e-01 1.66806378e-11\n",
      "  1.67985857e-01 9.13610838e-15 9.42004484e-15 9.99977946e-01\n",
      "  6.22729678e-13 4.74280119e-03 5.34907231e-05 5.95076642e-07\n",
      "  2.96273173e-10 9.99941409e-01 3.09721108e-05 7.73235917e-01\n",
      "  9.99999523e-01 9.99990702e-01 2.35108473e-05 8.78685658e-09\n",
      "  2.03920349e-01 6.06806600e-04]], shape=(1, 50), dtype=float32)\n",
      "activated nodes in hidden layer: tf.Tensor(\n",
      "[[1. 0. 0. 1. 0. 0. 1. 0. 1. 0. 0. 0. 1. 0. 0. 1. 1. 1. 0. 1. 0. 1. 0. 0.\n",
      "  1. 0. 0. 0. 1. 1. 1. 0. 0. 0. 0. 1. 0. 0. 0. 0. 0. 1. 0. 1. 1. 1. 0. 0.\n",
      "  0. 0.]], shape=(1, 50), dtype=float32)\n",
      "tf.Tensor(\n",
      "[[1.43855810e-04 1.75774097e-04 2.10344791e-04 2.27868557e-04\n",
      "  1.36882067e-04 1.75714493e-04 1.13181770e-04 1.43945217e-04\n",
      "  1.42514706e-04 1.16628638e-04 1.10940571e-04 1.49756670e-04\n",
      "  2.48461962e-04 1.63674355e-04 1.79171562e-04 1.98572874e-04\n",
      "  1.54286623e-04 1.79350376e-04 1.90377235e-04 1.52736902e-04\n",
      "  2.23368406e-04 1.31547451e-04 1.08743858e-04 1.77472830e-04\n",
      "  2.75522470e-04 1.23828650e-04 1.18984637e-04 1.54286623e-04\n",
      "  1.32828951e-04 1.23828650e-04 1.67161226e-04 1.31517649e-04\n",
      "  1.13466223e-04 1.68472528e-04 1.63376331e-04 1.56968832e-04\n",
      "  1.44034624e-04 1.59531832e-04 2.47955322e-04 1.93834305e-04\n",
      "  1.36166811e-04 1.35660172e-04 2.16305256e-04 2.23875046e-04\n",
      "  3.28689814e-04 4.29928303e-04 2.84165144e-04 1.51097775e-04\n",
      "  1.85906887e-04 1.73956156e-04 1.45107508e-04 1.86443329e-04\n",
      "  1.77472830e-04 1.36882067e-04 1.60574913e-04 1.81078911e-04\n",
      "  2.27868557e-04 1.32828951e-04 1.47908926e-04 1.80035830e-04\n",
      "  2.24173069e-04 1.76906586e-04 1.44869089e-04 1.24722719e-04\n",
      "  1.23385209e-04 7.66006560e-05 6.74583571e-05 6.09646486e-05\n",
      "  2.45157516e-05 6.03794433e-05 1.11150468e-04 2.08824873e-04\n",
      "  1.47044659e-04 2.98261642e-04 1.28835440e-04 1.52468681e-04\n",
      "  1.82390213e-04 2.58266926e-04 4.22060490e-04 2.91138887e-04\n",
      "  2.23487616e-04 1.60604715e-04 1.43945217e-04 1.31517649e-04\n",
      "  1.86622143e-04 1.82956457e-04 1.72108412e-04 1.85966492e-04\n",
      "  1.29282475e-04 1.67608261e-04 2.41518021e-04 8.39922795e-05\n",
      "  1.24633312e-04 4.55287009e-05 5.67924144e-05 3.13989731e-05\n",
      "  7.82288844e-05 1.53571367e-04 1.92552805e-04 8.43197107e-04\n",
      "  2.14779377e-03 2.18293071e-03 1.27416849e-03 1.15913153e-03\n",
      "  5.73873520e-04 9.62615013e-04 1.15025043e-03 7.31229782e-04\n",
      "  3.42816114e-04 1.25199556e-04 2.08199024e-04 1.96129084e-04\n",
      "  2.12430954e-04 2.02000141e-04 2.19523907e-04 2.25037336e-04\n",
      "  2.07930803e-04 9.14424658e-04 4.65899706e-04 2.27868557e-04\n",
      "  1.89989805e-04 3.38762999e-04 2.17556953e-04 5.91754913e-04\n",
      "  1.49795413e-03 9.33235884e-03 2.72925496e-02 5.02626300e-02\n",
      "  7.14061558e-02 5.33365607e-02 4.00854051e-02 2.10233033e-02\n",
      "  6.50408864e-03 7.94565678e-03 9.73516703e-03 4.39360738e-03\n",
      "  1.92981958e-03 1.03390217e-03 4.77433205e-04 2.01225281e-04\n",
      "  1.18984746e-04 1.96129084e-04 1.34706497e-04 3.35127115e-04\n",
      "  8.62568617e-04 7.59780407e-04 6.31630421e-04 5.96612692e-04\n",
      "  6.23732805e-04 7.63773918e-04 7.04562664e-03 1.09042227e-02\n",
      "  7.69932270e-02 5.35176456e-01 8.56258750e-01 9.41550493e-01\n",
      "  8.02207112e-01 7.87636042e-01 7.11620927e-01 6.10259771e-01\n",
      "  2.38865852e-01 7.33517408e-02 1.83591247e-02 4.04164493e-02\n",
      "  5.76683879e-03 1.65125728e-03 5.94764948e-04 1.67399645e-04\n",
      "  1.06590640e-04 1.20970341e-04 2.20566988e-04 5.77777624e-04\n",
      "  5.70654869e-04 6.58929348e-04 8.51124525e-04 1.38279796e-03\n",
      "  3.12933326e-03 5.63633442e-03 1.22849345e-02 5.80045283e-02\n",
      "  6.04436159e-01 9.22921598e-01 9.72855091e-01 9.74933863e-01\n",
      "  9.51389074e-01 9.26075518e-01 8.78099442e-01 8.04857016e-01\n",
      "  6.98841512e-01 2.60182530e-01 7.99587071e-02 6.85440004e-02\n",
      "  1.27249062e-02 4.35459614e-03 1.32271647e-03 1.21445424e-04\n",
      "  2.56985426e-04 2.08824873e-04 4.33206558e-04 1.05485320e-03\n",
      "  1.00085139e-03 1.04430318e-03 1.13958120e-03 2.32642889e-03\n",
      "  4.75138426e-03 1.04038417e-02 2.92481482e-02 3.12959909e-01\n",
      "  7.01113045e-01 9.52532470e-01 9.31625485e-01 8.69256437e-01\n",
      "  6.17340565e-01 7.43836105e-01 7.91619182e-01 8.42151165e-01\n",
      "  7.56129980e-01 4.60929036e-01 1.18559480e-01 2.74242163e-02\n",
      "  1.05937719e-02 1.84375048e-03 7.31199980e-04 3.22282314e-04\n",
      "  3.00019979e-04 3.25083733e-04 5.80519438e-04 6.93827868e-04\n",
      "  1.06436014e-03 1.32825971e-03 2.04548240e-03 2.58386135e-03\n",
      "  9.89228487e-03 2.35401988e-02 7.75004923e-02 4.50505376e-01\n",
      "  7.99922585e-01 8.68497491e-01 5.10584056e-01 9.51114893e-02\n",
      "  7.07078278e-02 9.84965265e-02 4.76526916e-01 7.47972488e-01\n",
      "  8.11914921e-01 3.56449485e-01 1.55972987e-01 1.49384737e-02\n",
      "  4.08056378e-03 1.14205480e-03 8.83042812e-04 2.78055668e-04\n",
      "  2.58415937e-04 2.41190195e-04 3.21835279e-04 7.04079866e-04\n",
      "  5.84095716e-04 8.14974308e-04 1.92284584e-03 1.26410723e-02\n",
      "  1.96654499e-02 2.83495188e-02 9.23716426e-02 5.82552373e-01\n",
      "  7.05525339e-01 4.63318884e-01 9.65498984e-02 4.70956862e-02\n",
      "  1.71943605e-02 4.96234298e-02 3.34719390e-01 7.97683001e-01\n",
      "  5.76129019e-01 3.02683353e-01 8.56694281e-02 9.30640101e-03\n",
      "  2.45332718e-03 4.87387180e-04 6.70164824e-04 2.23666430e-04\n",
      "  2.14815140e-04 3.13490629e-04 4.53233719e-04 5.65588474e-04\n",
      "  6.40451908e-04 8.63075256e-04 1.89375877e-03 4.88811731e-03\n",
      "  2.84835100e-02 5.70679009e-02 1.10830635e-01 4.50115442e-01\n",
      "  3.99777651e-01 2.60068566e-01 9.72932875e-02 2.45341361e-02\n",
      "  8.04400146e-02 2.76277006e-01 7.03889251e-01 8.35315347e-01\n",
      "  3.67400289e-01 2.10935235e-01 1.35289729e-02 7.46828318e-03\n",
      "  2.53751874e-03 1.13695860e-03 2.98470259e-04 2.09152699e-04\n",
      "  2.05129385e-04 3.71754169e-04 7.70628452e-04 5.99861145e-04\n",
      "  5.86599112e-04 9.81271267e-04 2.65431404e-03 8.98522139e-03\n",
      "  1.55379176e-02 1.39980614e-02 5.88905811e-02 1.85088336e-01\n",
      "  3.83949369e-01 4.58203733e-01 1.88302547e-01 1.07932925e-01\n",
      "  3.02023411e-01 7.05813885e-01 8.61114502e-01 6.14947438e-01\n",
      "  2.42762297e-01 1.29604638e-02 3.50937247e-03 3.07899714e-03\n",
      "  6.11007214e-04 7.57515430e-04 4.51266766e-04 1.31070614e-04\n",
      "  1.59263611e-04 2.24947929e-04 5.84602356e-04 4.82738018e-04\n",
      "  6.46650791e-04 1.56581402e-03 9.26187634e-03 1.02021694e-02\n",
      "  1.64379478e-02 3.02614272e-02 8.30757916e-02 4.20091689e-01\n",
      "  6.65342033e-01 6.60998583e-01 6.02916181e-01 6.67948544e-01\n",
      "  7.87498593e-01 8.95036936e-01 8.81929994e-01 5.64260304e-01\n",
      "  4.21665013e-02 1.78426504e-03 5.13166189e-04 5.40047884e-04\n",
      "  4.23967838e-04 3.89784575e-04 1.82300806e-04 1.24007463e-04\n",
      "  1.70975924e-04 2.31742859e-04 4.81426716e-04 4.99159098e-04\n",
      "  6.36130571e-04 2.36862898e-03 7.27358460e-03 1.71276927e-02\n",
      "  3.20275426e-02 6.57790899e-02 1.39975369e-01 1.92833424e-01\n",
      "  5.11653841e-01 8.24887574e-01 8.25226188e-01 7.44879603e-01\n",
      "  8.96854758e-01 9.67070878e-01 9.20012474e-01 3.16325873e-01\n",
      "  2.30138600e-02 8.68260860e-04 4.55737114e-04 5.97178936e-04\n",
      "  1.65104866e-04 3.17513943e-04 2.66194344e-04 1.91092491e-04\n",
      "  2.40087509e-04 1.50978565e-04 2.27570534e-04 7.47680664e-04\n",
      "  1.32399797e-03 5.07223606e-03 1.18200779e-02 1.19872093e-02\n",
      "  3.38269770e-02 3.29370797e-02 5.14733195e-02 1.59062028e-01\n",
      "  2.36802459e-01 4.12783384e-01 5.00029802e-01 8.28329742e-01\n",
      "  8.82430971e-01 9.69934165e-01 9.03134704e-01 3.45473528e-01\n",
      "  9.41571593e-03 7.92562962e-04 6.25789165e-04 4.30315733e-04\n",
      "  3.68267298e-04 2.12073326e-04 2.57849693e-04 1.89453363e-04\n",
      "  2.19851732e-04 1.83820724e-04 4.72158194e-04 4.72992659e-04\n",
      "  1.73431635e-03 1.06658340e-02 1.22978985e-02 1.47655904e-02\n",
      "  9.54979658e-03 1.51965916e-02 4.27550077e-02 3.38879228e-02\n",
      "  8.58695507e-02 5.86875975e-02 7.13634789e-02 2.29183048e-01\n",
      "  7.06263721e-01 9.41531181e-01 9.56788301e-01 5.18038809e-01\n",
      "  5.97560406e-03 2.69541144e-03 6.70641661e-04 5.42253256e-04\n",
      "  4.23580408e-04 8.78776336e-05 2.34574080e-04 1.45852566e-04\n",
      "  1.33097172e-04 2.34633684e-04 4.57584858e-04 1.36128068e-03\n",
      "  1.26828551e-02 1.80529058e-02 5.83111644e-02 1.08877718e-02\n",
      "  1.03919506e-02 6.95618987e-03 1.00779831e-02 1.11432970e-02\n",
      "  1.60812140e-02 1.05550289e-02 9.77653265e-03 3.55483294e-02\n",
      "  4.00208861e-01 8.85832667e-01 8.86433721e-01 4.22372282e-01\n",
      "  3.34740877e-02 2.95960903e-03 1.96021795e-03 9.39011574e-04\n",
      "  4.03583050e-04 6.38370475e-05 3.07232141e-04 1.21141202e-04\n",
      "  1.70528889e-04 2.46852636e-04 9.58532095e-04 7.85759091e-03\n",
      "  5.95117211e-02 8.89220834e-02 1.38398081e-01 3.01048160e-02\n",
      "  3.18726897e-03 1.99106336e-03 2.27242708e-03 1.54924393e-03\n",
      "  1.04215741e-03 1.57234073e-03 3.23414803e-03 1.15474761e-02\n",
      "  2.76239514e-01 7.72047520e-01 8.00140500e-01 3.54637742e-01\n",
      "  2.98274159e-02 7.96595216e-03 1.93873048e-03 5.64396381e-04\n",
      "  2.54303217e-04 1.02223225e-04 2.57372856e-04 1.75297260e-04\n",
      "  1.49428844e-04 1.62929296e-04 1.64714456e-03 1.83329880e-02\n",
      "  2.05020934e-01 4.49384838e-01 3.31340969e-01 5.63873649e-02\n",
      "  9.14674997e-03 3.76024842e-03 1.23855472e-03 1.87188387e-03\n",
      "  4.00304794e-04 6.52730465e-04 5.20434976e-03 1.63541734e-02\n",
      "  3.10373574e-01 7.42795825e-01 7.09560752e-01 1.10104680e-01\n",
      "  1.01043582e-02 3.69507074e-03 1.88031793e-03 1.56259537e-03\n",
      "  5.87791204e-04 2.03013420e-04 2.05874443e-04 1.52170658e-04\n",
      "  1.50769949e-04 1.98602676e-04 2.90161371e-03 2.85976827e-02\n",
      "  3.20941985e-01 6.55489624e-01 6.91114068e-01 2.23726481e-01\n",
      "  6.88861907e-02 1.45189464e-02 4.68662381e-03 1.97708607e-03\n",
      "  1.58303976e-03 3.12507153e-03 1.04463100e-02 7.42262304e-02\n",
      "  4.42915589e-01 5.59679568e-01 2.79914141e-01 2.01767981e-02\n",
      "  2.79310346e-03 1.95422769e-03 9.67472792e-04 6.18368387e-04\n",
      "  9.01758671e-04 2.56329775e-04 3.95059586e-04 1.31219625e-04\n",
      "  1.57386065e-04 2.58862972e-04 3.33127379e-03 8.09719265e-02\n",
      "  4.83440787e-01 7.46495783e-01 7.66297698e-01 6.72246456e-01\n",
      "  2.94272572e-01 1.36168063e-01 3.06293964e-02 7.15884566e-03\n",
      "  1.16001368e-02 1.99165940e-02 1.11470968e-01 2.96493381e-01\n",
      "  5.82946837e-01 4.89767164e-01 9.47830081e-02 1.35104954e-02\n",
      "  2.42513418e-03 2.99042463e-03 1.47742033e-03 9.21934843e-04\n",
      "  3.37272882e-04 3.95596027e-04 3.48091125e-04 1.50561333e-04\n",
      "  1.47342682e-04 2.78621912e-04 2.33808160e-03 8.85989070e-02\n",
      "  3.58826876e-01 4.86453891e-01 8.16009283e-01 8.96152258e-01\n",
      "  7.00174928e-01 3.44452918e-01 1.33903056e-01 1.13153815e-01\n",
      "  1.39174402e-01 2.47809798e-01 4.40330684e-01 6.16950393e-01\n",
      "  4.28942114e-01 2.17116952e-01 6.26553893e-02 8.68162513e-03\n",
      "  1.79570913e-03 4.93139029e-04 6.01559877e-04 4.96923923e-04\n",
      "  6.03914261e-04 8.61644745e-04 2.32428312e-04 1.78396702e-04\n",
      "  1.69456005e-04 2.23010778e-04 1.20499730e-03 2.62448788e-02\n",
      "  2.13567168e-01 4.62559432e-01 6.95157170e-01 9.02672529e-01\n",
      "  8.69218528e-01 8.39183748e-01 7.32784152e-01 7.70117104e-01\n",
      "  7.36309886e-01 8.56309175e-01 7.01950908e-01 4.97129261e-01\n",
      "  3.26061219e-01 2.10454285e-01 3.31414342e-02 4.35122848e-03\n",
      "  1.78197026e-03 5.25981188e-04 1.04549527e-03 1.03157759e-03\n",
      "  3.96072865e-04 4.22626734e-04 2.13414431e-04 2.41577625e-04\n",
      "  1.67161226e-04 1.41054392e-04 4.72187996e-04 8.70946050e-03\n",
      "  5.54918647e-02 1.20227188e-01 4.42825913e-01 7.91901588e-01\n",
      "  7.99548447e-01 9.38916683e-01 9.65229034e-01 9.42732573e-01\n",
      "  8.91368926e-01 6.85486436e-01 4.16756898e-01 2.43106067e-01\n",
      "  1.56457692e-01 3.30739617e-02 2.22553015e-02 2.52968073e-03\n",
      "  8.34226608e-04 6.96510077e-04 3.47375870e-04 4.47124243e-04\n",
      "  6.72459602e-04 2.33620405e-04 2.38955021e-04 1.12055568e-04\n",
      "  1.48266554e-04 1.59054995e-04 2.60889530e-04 9.74535942e-04\n",
      "  6.28268719e-03 5.42090237e-02 1.10739946e-01 3.38736683e-01\n",
      "  6.16854012e-01 7.59235561e-01 8.59701872e-01 5.23352981e-01\n",
      "  2.37574100e-01 4.29575443e-02 4.00715172e-02 1.72196627e-02\n",
      "  1.34826899e-02 1.74614191e-02 7.50827789e-03 1.90997124e-03\n",
      "  5.78969717e-04 3.00496817e-04 3.17305326e-04 2.31444836e-04\n",
      "  2.06291676e-04 9.15027194e-05 1.69783831e-04 1.96129084e-04\n",
      "  1.77472830e-04 1.30176544e-04 1.71750784e-04 2.05188990e-04\n",
      "  3.87609005e-04 1.56512856e-03 3.36936116e-03 1.41646266e-02\n",
      "  6.73049688e-03 1.67965889e-02 1.49042606e-02 6.23640418e-03\n",
      "  2.19783187e-03 4.78982925e-04 5.43147326e-04 9.32306051e-04\n",
      "  2.25484371e-03 3.62089276e-03 8.07046890e-04 9.01311636e-04\n",
      "  3.89546156e-04 1.92403793e-04 2.22653151e-04 3.05235386e-04\n",
      "  1.54495239e-04 1.85370445e-04 1.03290498e-04 1.77472830e-04\n",
      "  2.64823437e-04 1.12055568e-04 1.36882067e-04 1.39117241e-04\n",
      "  1.64717436e-04 5.08874655e-04 6.58154488e-04 7.84993172e-04\n",
      "  1.73276663e-03 2.24250555e-03 1.43525004e-03 6.25729561e-04\n",
      "  3.43203545e-04 1.63227320e-04 1.49905682e-04 3.39716673e-04\n",
      "  5.29140234e-04 1.57701969e-03 6.32226467e-04 4.22865152e-04\n",
      "  3.19033861e-04 1.84565783e-04 8.54103782e-05 1.56104565e-04\n",
      "  1.75058842e-04 1.50591135e-04 1.08743858e-04 1.92254782e-04\n",
      "  1.36882067e-04 1.60604715e-04 1.38252974e-04 1.65492296e-04\n",
      "  2.29090452e-04 1.55121088e-04 2.59906054e-04 2.71409750e-04\n",
      "  3.75419855e-04 6.96241856e-04 1.30188465e-03 8.37266445e-04\n",
      "  3.49223614e-04 5.17696142e-04 3.54230404e-04 3.84032726e-04\n",
      "  1.49467587e-03 7.68482685e-04 5.47051430e-04 2.54750252e-04\n",
      "  2.04354525e-04 1.65194273e-04 1.08437322e-04 1.23341437e-04\n",
      "  1.48266554e-04 1.21388337e-04 1.39623880e-04 1.28924847e-04]], shape=(1, 784), dtype=float32)\n"
     ]
    }
   ],
   "source": [
    "hh0_p = tf.nn.sigmoid(tf.matmul(sample_case, W) + hb)\n",
    "hh0_s = tf.round(hh0_p)\n",
    "\n",
    "print(\"Probability nodes in hidden layer:\" ,hh0_p)\n",
    "print(\"activated nodes in hidden layer:\" ,hh0_s)\n",
    "\n",
    "# reconstruct\n",
    "vv1_p = tf.nn.sigmoid(tf.matmul(hh0_s, tf.transpose(W)) + vb)\n",
    "\n",
    "print(vv1_p)\n",
    "#rec_prob = sess.run(vv1_p, feed_dict={ hh0_s: hh0_s_val, W: prv_w, vb: prv_vb})"
   ]
  },
  {
   "cell_type": "markdown",
   "metadata": {},
   "source": [
    "Here we plot the reconstructed image:\n"
   ]
  },
  {
   "cell_type": "code",
   "execution_count": 27,
   "metadata": {},
   "outputs": [
    {
     "data": {
      "image/png": "[encoded data removed]",
      "text/plain": [
       "<Figure size 400x400 with 1 Axes>"
      ]
     },
     "metadata": {},
     "output_type": "display_data"
    }
   ],
   "source": [
    "img = Image.fromarray(tile_raster_images(X=vv1_p.numpy(), img_shape=(28, 28),tile_shape=(1, 1), tile_spacing=(1, 1)))\n",
    "plt.rcParams['figure.figsize'] = (4.0, 4.0)\n",
    "imgplot = plt.imshow(img)\n",
    "imgplot.set_cmap('gray') "
   ]
  },
  {
   "cell_type": "markdown",
   "metadata": {},
   "source": [
    "### References:\n",
    "\n",
    "[https://en.wikipedia.org/wiki/Restricted_Boltzmann_machine](https://en.wikipedia.org/wiki/Restricted_Boltzmann_machine?utm_medium=Exinfluencer&utm_source=Exinfluencer&utm_content=000026UJ&utm_term=10006555&utm_id=NA-SkillsNetwork-Channel-SkillsNetworkCoursesIBMDeveloperSkillsNetworkDL0120ENSkillsNetwork20629446-2022-01-01)\\\n",
    "[http://deeplearning.net/tutorial/rbm.html](http://deeplearning.net/tutorial/rbm.html?utm_medium=Exinfluencer&utm_source=Exinfluencer&utm_content=000026UJ&utm_term=10006555&utm_id=NA-SkillsNetwork-Channel-SkillsNetworkCoursesIBMDeveloperSkillsNetworkDL0120ENSkillsNetwork20629446-2022-01-01)\\\n",
    "[http://www.cs.utoronto.ca/\\~hinton/absps/netflixICML.pdf](http://www.cs.utoronto.ca/\\~hinton/absps/netflixICML.pdf?utm_medium=Exinfluencer&utm_source=Exinfluencer&utm_content=000026UJ&utm_term=10006555&utm_id=NA-SkillsNetwork-Channel-SkillsNetworkCoursesIBMDeveloperSkillsNetworkDL0120ENSkillsNetwork20629446-2022-01-01)<br>\n",
    "<http://imonad.com/rbm/restricted-boltzmann-machine/>\n"
   ]
  },
  {
   "cell_type": "markdown",
   "metadata": {},
   "source": [
    "<hr>\n",
    "\n",
    "Copyright © 2018 [Cognitive Class](https://cocl.us/DX0108EN_CC). This notebook and its source code are released under the terms of the [MIT License](https://bigdatauniversity.com/mit-license/?utm_medium=Exinfluencer&utm_source=Exinfluencer&utm_content=000026UJ&utm_term=10006555&utm_id=NA-SkillsNetwork-Channel-SkillsNetworkCoursesIBMDeveloperSkillsNetworkDL0120ENSkillsNetwork20629446-2022-01-01).\n"
   ]
  }
 ],
 "metadata": {
  "kernelspec": {
   "display_name": "Python",
   "language": "python",
   "name": "conda-env-python-py"
  },
  "language_info": {
   "codemirror_mode": {
    "name": "ipython",
    "version": 3
   },
   "file_extension": ".py",
   "mimetype": "text/x-python",
   "name": "python",
   "nbconvert_exporter": "python",
   "pygments_lexer": "ipython3",
   "version": "3.7.12"
  },
  "widgets": {
   "state": {},
   "version": "1.1.2"
  }
 },
 "nbformat": 4,
 "nbformat_minor": 4
}
